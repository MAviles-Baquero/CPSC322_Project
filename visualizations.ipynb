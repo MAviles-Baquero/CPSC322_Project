<<<<<<< HEAD
{
 "cells": [
  {
   "cell_type": "markdown",
   "metadata": {},
   "source": [
    "# COVID-19's Impact on Healthcare Accessibility\n",
    "### By: Tristan Call and Maria Elena Aviles-Baquero"
   ]
  },
  {
   "cell_type": "markdown",
   "metadata": {},
   "source": [
    "## Introductory"
   ]
  },
  {
   "cell_type": "code",
   "execution_count": 1,
   "metadata": {},
   "outputs": [],
   "source": [
    "# STEPS\n",
    "# 1. Focus on Washington (for now aka. generalize code (as always))\n",
    "# 2. create default values\n",
    "\n",
    "# load data function: through MyPyTable()\n",
    "\n",
    "# data analysis functions:\n",
    "# group_by()\n",
    "# get_column() - MyPyTable\n",
    "# plotting - whatever we used in class\n",
    "    # save_graph() function\n",
    "# output result files (? TBD)\n",
    "\n",
    "# summary_stats from MyPyTable"
   ]
  },
  {
   "cell_type": "markdown",
   "metadata": {},
   "source": [
    "## Data Analysis"
   ]
  },
  {
   "cell_type": "markdown",
   "metadata": {},
   "source": [
    "TODO:\n",
    "- load in data to use\n",
    "- create analysis functions (something that takes in specific attributes and returns them)"
   ]
  },
  {
   "cell_type": "code",
   "execution_count": 2,
   "metadata": {},
   "outputs": [],
   "source": [
    "# some useful mysklearn package import statements and reloads\n",
    "import importlib\n",
    "\n",
    "import mysklearn.myutils\n",
    "importlib.reload(mysklearn.myutils)\n",
    "import mysklearn.myutils as myutils\n",
    "\n",
    "# uncomment once you paste your mypytable.py into mysklearn package\n",
    "import mysklearn.mypytable\n",
    "importlib.reload(mysklearn.mypytable)\n",
    "from mysklearn.mypytable import MyPyTable \n",
    "\n",
    "import mysklearn.plot_utils\n",
    "importlib.reload(mysklearn.plot_utils)\n",
    "import mysklearn.plot_utils as plot_utils\n",
    "\n",
    "import mysklearn.myclassifiers\n",
    "importlib.reload(mysklearn.myclassifiers)\n",
    "from mysklearn.myclassifiers import MyKNeighborsClassifier, MySimpleLinearRegressor, MyNaiveBayesClassifier\n",
    "\n",
    "import mysklearn.myevaluation\n",
    "importlib.reload(mysklearn.myevaluation)\n",
    "import mysklearn.myevaluation as myevaluation\n",
    "\n",
    "import os\n",
    "import pandas as pd"
   ]
  },
  {
   "cell_type": "markdown",
   "metadata": {},
   "source": [
    "## Manipulate Data into Useable Format\n",
    "The first thing we need to do is grab the data from the sas file and manipulate it into a format and size which is workable with our very much not optimized dataset. Part of this involves dropping rows with NaNs or -99s (seen but unanswered questions) in them ahead of time. Overall we aim to go from about 70,000 results to a more reasonable < 10,000."
   ]
  },
  {
   "cell_type": "code",
   "execution_count": 3,
   "metadata": {},
   "outputs": [
    {
     "name": "stdout",
     "output_type": "stream",
     "text": [
      "      TBIRTH_YEAR  EGENDER  RHISPANIC  RRACE  EEDUC  INCOME  DELAY  NOTGET\n",
      "1          1969.0      2.0        1.0    1.0    7.0     6.0    1.0     2.0\n",
      "2          1959.0      2.0        1.0    1.0    7.0     4.0    1.0     1.0\n",
      "4          1967.0      1.0        1.0    1.0    4.0     6.0    2.0     2.0\n",
      "5          1965.0      1.0        1.0    1.0    7.0     6.0    2.0     2.0\n",
      "6          1962.0      2.0        1.0    2.0    4.0     1.0    2.0     2.0\n",
      "...           ...      ...        ...    ...    ...     ...    ...     ...\n",
      "4993       1964.0      2.0        1.0    1.0    4.0     1.0    2.0     2.0\n",
      "4994       1984.0      1.0        1.0    1.0    4.0     7.0    1.0     1.0\n",
      "4995       1973.0      1.0        1.0    1.0    6.0     8.0    2.0     2.0\n",
      "4997       1976.0      2.0        1.0    1.0    3.0     3.0    1.0     1.0\n",
      "4999       1958.0      2.0        1.0    1.0    7.0     5.0    2.0     2.0\n",
      "\n",
      "[3909 rows x 8 columns]\n"
     ]
    }
   ],
   "source": [
    "# Grab the data\n",
    "week21_filename = os.path.join(\"input_data\", \"pulse2020_puf_21.sas7bdat\")\n",
    "iterator = pd.read_sas(week21_filename, chunksize=5000)\n",
    "alldata = []\n",
    "for chunk in iterator:\n",
    "    alldata.append(chunk)\n",
    "\n",
    "relevant_attributes = [\"TBIRTH_YEAR\", \"EGENDER\", \"RHISPANIC\", \"RRACE\", \"EEDUC\", \"INCOME\", \"DELAY\", \"NOTGET\"]\n",
    "\n",
    "# Grab a chunk of data with the attributes we are interested in, minus Nans, and save to a local file\n",
    "data = alldata[0][[\"TBIRTH_YEAR\", \"EGENDER\", \"RHISPANIC\", \"RRACE\", \"EEDUC\", \"INCOME\", \"DELAY\", \"NOTGET\"]]\n",
    "working_data_filename = os.path.join(\"input_data\", \"week21_working.csv\")\n",
    "nafree_data = data.dropna()\n",
    "\n",
    "# Get rid of -99 results (aka seen but not answered)\n",
    "nafree_data = nafree_data[nafree_data.INCOME != -99]\n",
    "nafree_data = nafree_data[nafree_data.DELAY != -99]\n",
    "nafree_data = nafree_data[nafree_data.NOTGET != -99]\n",
    "print(nafree_data)\n",
    "\n",
    "# Save to file\n",
    "nafree_data.to_csv(working_data_filename)"
   ]
  },
  {
   "cell_type": "markdown",
   "metadata": {},
   "source": [
    "## Organize the data\n",
    "Next we want to get the data into a more useful format. Step one of this is chunk years into decades to have a reasonable number of attribute values for year according to the below:\n",
    "\n",
    "years | label\n",
    "-|-\n",
    "1932-1941 | 1\n",
    "1942-1951 | 2\n",
    "1952-1961 | 3\n",
    "1962-1971 | 4\n",
    "1972-1981 | 5\n",
    "1982-1991 | 6\n",
    "1992-2002 | 7\n",
    "\n",
    "Next we want to create a DELAYNOTGET column as a composite of delay and notget."
   ]
  },
  {
   "cell_type": "code",
   "execution_count": 4,
   "metadata": {},
   "outputs": [],
   "source": [
    "importlib.reload(mysklearn.myutils)\n",
    "import mysklearn.myutils as myutils\n",
    "\n",
    "# Load the data into a mypytable for future analysis\n",
    "overall_table = MyPyTable()\n",
    "overall_table.load_from_file(working_data_filename)\n",
    "overall_table.convert_to_numeric()\n",
    "\n",
    "# Convert year into bigger categorical chunks\n",
    "year_col = overall_table.get_column(\"TBIRTH_YEAR\")\n",
    "year_label = [x + 1 for x in range(7)]\n",
    "cutoffs = [1932 + 10 * x for x in range(8)]\n",
    "year_col = myutils.categorize_continuous_list(year_col, cutoffs, year_label)\n",
    "\n",
    "# Create DELAYNOTGET column\n",
    "delay = overall_table.get_column(\"DELAY\")\n",
    "notget = overall_table.get_column(\"NOTGET\")\n",
    "delaynotget = []\n",
    "for i in range(len(delay)):\n",
    "    if delay[i] == 1 or notget[i] == 1:\n",
    "        delaynotget.append(1)\n",
    "    else:\n",
    "        delaynotget.append(2)\n",
    "        \n",
    "# Combine all the above into the overall_table\n",
    "overall_table.column_names.append(\"DELAYNOTGET\")\n",
    "overall_table.data = [[overall_table.data[i][0]] + [year_col[i]] + overall_table.data[i][2:] + [delaynotget[i]] for i in range(len(year_col))]\n",
    "# overall_table.pretty_print()"
   ]
  },
  {
   "cell_type": "code",
   "execution_count": null,
   "metadata": {},
   "outputs": [],
   "source": []
  },
  {
   "cell_type": "code",
   "execution_count": null,
   "metadata": {},
   "outputs": [],
   "source": []
  },
  {
   "cell_type": "code",
   "execution_count": null,
   "metadata": {},
   "outputs": [],
   "source": []
  },
  {
   "cell_type": "code",
   "execution_count": null,
   "metadata": {},
   "outputs": [],
   "source": []
  },
  {
   "cell_type": "code",
   "execution_count": null,
   "metadata": {},
   "outputs": [],
   "source": []
  },
  {
   "cell_type": "markdown",
   "metadata": {},
   "source": [
    "# Classification\n",
    "In this section we will classify our results using our classifiers"
   ]
  },
  {
   "cell_type": "code",
   "execution_count": null,
   "metadata": {},
   "outputs": [],
   "source": []
  },
  {
   "cell_type": "code",
   "execution_count": null,
   "metadata": {},
   "outputs": [],
   "source": []
  },
  {
   "cell_type": "markdown",
   "metadata": {},
   "source": [
    "# Visualizations"
   ]
  },
  {
   "cell_type": "markdown",
   "metadata": {},
   "source": [
    "### Summary Statistics for the Attributes"
   ]
  },
  {
   "cell_type": "code",
   "execution_count": 5,
   "metadata": {},
   "outputs": [
    {
     "name": "stdout",
     "output_type": "stream",
     "text": [
      "attribute      min    max    mid      avg    median       std\n",
      "-----------  -----  -----  -----  -------  --------  --------\n",
      "TBIRTH_YEAR      1      7    4    4.0967          4  1.55314\n",
      "EGENDER          1      2    1.5  1.59964         2  0.489971\n",
      "RHISPANIC        1      2    1.5  1.08314         1  0.276096\n",
      "RRACE            1      4    2.5  1.31491         1  0.778868\n",
      "EEDUC            1      7    4    5.33078         6  1.42407\n",
      "INCOME           1      8    4.5  4.5559          5  2.07749\n",
      "DELAY            1      2    1.5  1.65004         2  0.476958\n",
      "NOTGET           1      2    1.5  1.74648         2  0.435025\n",
      "DELAYNOTGET      1      2    1.5  1.61474         2  0.486658\n"
     ]
    }
   ],
   "source": [
    "importlib.reload(mysklearn.mypytable)\n",
    "from mysklearn.mypytable import MyPyTable \n",
    "importlib.reload(mysklearn.plot_utils)\n",
    "import mysklearn.plot_utils as plot_utils\n",
    "\n",
    "# normalize the data\n",
    "# overall_table.data = myutils.normalize_data_cols(overall_table.data)\n",
    "\n",
    "# use overall_table object declared above to compute the stats for all attributes\n",
    "table_stats = overall_table.compute_summary_statistics(overall_table.column_names[1:])\n",
    "# print out the statistics table\n",
    "table_stats.pretty_print()\n",
    "\n",
    "items, values = myutils.get_item_frequency(overall_table.get_column(\"DELAYNOTGET\"))"
   ]
  },
  {
   "cell_type": "markdown",
   "metadata": {},
   "source": [
    "(Add notes here regarding findings in statistics summary)"
   ]
  },
  {
   "cell_type": "markdown",
   "metadata": {},
   "source": [
    "### Grouping the Data Into Those Who Received Care Without Delay and Those Who Did Not"
   ]
  },
  {
   "cell_type": "code",
   "execution_count": 6,
   "metadata": {},
   "outputs": [
    {
     "name": "stdout",
     "output_type": "stream",
     "text": [
      "1506\n",
      "2403\n"
     ]
    }
   ],
   "source": [
    "importlib.reload(mysklearn.mypytable)\n",
    "from mysklearn.mypytable import MyPyTable \n",
    "\n",
    "# get subtables group by whether or not an instance was delayed/didn't get care or did receive care without delay\n",
    "group_names, subtables = overall_table.group_by(\"DELAYNOTGET\")\n",
    "\n",
    "# SHOW PERCENTAGE FOR EQUAL DISTRIBUTION\n",
    "# FIND NUMBER OF 1s AND 2s\n",
    "\n",
    "# pass in whole table and delayed_or_none\n",
    "\n",
    "# first subtable represents the instances where the individual got delayed care or did not get any\n",
    "delayed_or_none = MyPyTable(overall_table.column_names, subtables[0])\n",
    "print(len(delayed_or_none.data))\n",
    "# second subtable represents the instances where the individual got delayed care or did not get any\n",
    "care_received = MyPyTable(overall_table.column_names, subtables[1])\n",
    "print(len(care_received.data))\n",
    "# delayed_or_none.pretty_print()\n",
    "# care_received.pretty_print()"
   ]
  },
  {
   "cell_type": "markdown",
   "metadata": {},
   "source": [
    "### Birth Years Data and Observations Based on \"DELAYNOTGET\" Attribute Values"
   ]
  },
  {
   "cell_type": "code",
   "execution_count": 7,
   "metadata": {},
   "outputs": [
    {
     "name": "stdout",
     "output_type": "stream",
     "text": [
      "[40.38461538461539, 34.9537037037037, 44.369973190348524, 40.0, 43.91025641025641, 29.887218045112785, 20.634920634920633]\n"
     ]
    },
    {
     "data": {
      "image/png": "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\n",
      "text/plain": [
       "<Figure size 432x288 with 1 Axes>"
      ]
     },
     "metadata": {
      "needs_background": "light"
     },
     "output_type": "display_data"
    }
   ],
   "source": [
    "importlib.reload(mysklearn.plot_utils)\n",
    "import mysklearn.plot_utils as plot_utils\n",
    "importlib.reload(mysklearn.myutils)\n",
    "import mysklearn.myutils as myutils\n",
    "\n",
    "birth_years = [\"1962-71\", \"1952-61\", \"1972-81\", \"1992-2002\", \"1982-91\", \"1942-51\", \"1932-41\"]\n",
    "# get the frequencies of each birth categories in the delayed/no care subtable\n",
    "delay_items, birth_freq_delay = myutils.get_item_frequency(delayed_or_none.get_column(\"TBIRTH_YEAR\"))\n",
    "# frequencies of each birth categories in the care received subtable\n",
    "# care_items, birth_freq_care = myutils.get_item_frequency(care_received.get_column(\"TBIRTH_YEAR\"))\n",
    "\n",
    "percentages = myutils.percentage_of_population(overall_table.data, delayed_or_none.data, 1)\n",
    "# print(percentages)\n",
    "# percentages = sorted(tmp)\n",
    "# print(tmp)\n",
    "\n",
    "items = list(percentages.values())\n",
    "\n",
    "for i in range(len(items)):\n",
    "    items[i] = items[i] * 100\n",
    "    \n",
    "print(items)\n",
    "\n",
    "plot_utils.plot_bar(birth_years, items, \"Birth Years\", \"Percentage of Individuals\", \"Percent of Individuals Who Were Delayed or Did Not Receive Care\")\n",
    "\n",
    "\n",
    "# plot_utils.plot_pie_percent(items, birth_years, \"Birth Year Percentages\")\n",
    "# plot a bar graph for each subtable to compare which age groups were more likely to receive care, and which were more likely to be denied\n",
    "# plot_utils.plot_bar(birth_years, items, \"Birth Years Categories\", \"Num of Frequencies\", \"Birth Year Frequencies for Individuals Who Were Delayed or Did Not Receive Care\")\n",
    "# plot_utils.plot_bar(birth_years, birth_freq_care, \"Birth Years Categories\", \"Num of Frequencies\", \"Birth Year Frequencies for Individuals Who Received Care\")\n"
   ]
  },
  {
   "cell_type": "markdown",
   "metadata": {},
   "source": [
    "Remember, the values 1 to 7 have the following meanings:\n",
    "\n",
    "Years | Label\n",
    "-|-\n",
    "1932-1941 | 1\n",
    "1942-1951 | 2\n",
    "1952-1961 | 3\n",
    "1962-1971 | 4\n",
    "1972-1981 | 5\n",
    "1982-1991 | 6\n",
    "1992-2002 | 7\n",
    "\n",
    "By looking at the bar graph above, we can observe that the majority of individuals that are delayed care or do not received care, tend to be of older generations, ranging from 1932 to 1961. One possible explanation for this trend is that these age groups tend to be the people who are higher risk for becoming hospitalized and passing from contracting COVID-19. Therefore, many medical providers may not provide care for fear of putting these individuals at risk."
   ]
  },
  {
   "cell_type": "markdown",
   "metadata": {},
   "source": [
    "### Race and Ethnicity of Individual Data and Observations Based on \"DELAYNOTGET\" Attribute Values\n",
    "\n",
    "The identities of each race present in this data are labeled from 1 to 4:\n",
    "\n",
    "Race | Label\n",
    "-|-\n",
    "White | 1\n",
    "Black | 2\n",
    "Asian | 3\n",
    "Mixed; More than one of the above | 4\n",
    "\n"
   ]
  },
  {
   "cell_type": "code",
   "execution_count": 8,
   "metadata": {},
   "outputs": [
    {
     "name": "stdout",
     "output_type": "stream",
     "text": [
      "{1.0: 0.3748462484624846, 3.0: 0.41836734693877553, 4.0: 0.5, 2.0: 0.39776951672862454}\n",
      "[37.48462484624846, 41.83673469387755, 50.0, 39.77695167286245]\n",
      "{1.0: 0.37594194808819426, 2.0: 0.4845679012345679}\n",
      "[37.594194808819424, 48.45679012345679]\n"
     ]
    },
    {
     "data": {
      "image/png": "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\n",
      "text/plain": [
       "<Figure size 432x288 with 1 Axes>"
      ]
     },
     "metadata": {
      "needs_background": "light"
     },
     "output_type": "display_data"
    },
    {
     "data": {
      "image/png": "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\n",
      "text/plain": [
       "<Figure size 432x288 with 1 Axes>"
      ]
     },
     "metadata": {
      "needs_background": "light"
     },
     "output_type": "display_data"
    }
   ],
   "source": [
    "importlib.reload(mysklearn.plot_utils)\n",
    "import mysklearn.plot_utils as plot_utils\n",
    "importlib.reload(mysklearn.myutils)\n",
    "import mysklearn.myutils as myutils\n",
    "\n",
    "# Race\n",
    "race_labels = [\"White\", \"Asian\", \"Two or More\", \"Black\"]\n",
    "# get the frequencies of each race categories in the delayed/no care subtable\n",
    "delay_items, race_freq_delay = myutils.get_item_frequency(delayed_or_none.get_column(\"RRACE\"))\n",
    "# frequencies of each race categories in the care received subtable\n",
    "# care_items, race_freq_care = myutils.get_item_frequency(care_received.get_column(\"RRACE\"))\n",
    "\n",
    "percentages = myutils.percentage_of_population(overall_table.data, delayed_or_none.data, 4)\n",
    "print(percentages)\n",
    "\n",
    "items = list(percentages.values())\n",
    "\n",
    "for i in range(len(items)):\n",
    "    items[i] = items[i] * 100\n",
    "    \n",
    "print(items)\n",
    "\n",
    "# plot_utils.plot_pie_percent(items, race_labels, \"Race Percentages\")\n",
    "\n",
    "\n",
    "# plot a bar graph for each subtable to compare which age groups were more likely to receive care, and which were more likely to be denied\n",
    "plot_utils.plot_bar(race_labels, items, \"Race\", \"Percentage of Individuals of Racial Variety\", \"Percent of Racially Diverse Individuals Who Were Delayed or Did Not Receive Care\")\n",
    "# plot_utils.plot_bar(race_labels, race_freq_care, \"Race Categories\", \"Num of Frequencies\", \"Race Frequencies for Individuals Who Received Care\")\n",
    "\n",
    "\n",
    "# NORMALIZE THE DATA \n",
    "\n",
    "# Ethnicity (Hispanic)\n",
    "# 1 -> no ; 2 -> yes\n",
    "hispanic_labels = [\"No\", \"Yes\"]\n",
    "# get the frequencies of each hispanic categories in the delayed/no care subtable\n",
    "delay_items, hisp_freq_delay = myutils.get_item_frequency(delayed_or_none.get_column(\"RHISPANIC\"))\n",
    "# frequencies of each hispanic categories in the care received subtable\n",
    "# care_items, hisp_freq_care = myutils.get_item_frequency(care_received.get_column(\"RHISPANIC\"))\n",
    "\n",
    "percentages = myutils.percentage_of_population(overall_table.data, delayed_or_none.data, 3)\n",
    "print(percentages)\n",
    "\n",
    "items = list(percentages.values())\n",
    "\n",
    "for i in range(len(items)):\n",
    "    items[i] = items[i] * 100\n",
    "    \n",
    "print(items)\n",
    "\n",
    "# plot_utils.plot_pie_percent(items, hispanic_labels, \"Hispanic Percentages\")\n",
    "\n",
    "# plot a bar graph for each subtable to compare which age groups were more likely to receive care, and which were more likely to be denied\n",
    "plot_utils.plot_bar(hispanic_labels, items, \"Hispanic\", \"Percentage of Hispanic Individuals\", \"Percent of Hispanic Individuals Who Were Delayed or Did Not Receive Care\")\n",
    "# plot_utils.plot_bar(hispanic_labels, hisp_freq_care, \"Hispanic\", \"Num of Frequencies\", \"Hispanic Frequencies for Individuals Who Received Care\")"
   ]
  },
  {
   "cell_type": "markdown",
   "metadata": {},
   "source": [
    "(Add observations regarding race and ethnicity (hispanic))\n",
    "\n",
    "People who are white and people who are not hispanic were delayed or did not receive health care, (why???)\n",
    "(More research needed to explain results)"
   ]
  },
  {
   "cell_type": "markdown",
   "metadata": {},
   "source": [
    "### Gender of Individual Data and Observations Based on \"DELAYNOTGET\" Attribute Values\n",
    "(Does not specify whether the individual is transgender or cisgender)\n",
    "\n",
    "Gender/Sex | Label\n",
    "-|-\n",
    "Male | 1\n",
    "Female | 2"
   ]
  },
  {
   "cell_type": "code",
   "execution_count": 9,
   "metadata": {},
   "outputs": [
    {
     "name": "stdout",
     "output_type": "stream",
     "text": [
      "{2.0: 0.41613316261203587, 1.0: 0.3382352941176471}\n",
      "[41.613316261203586, 33.82352941176471]\n"
     ]
    },
    {
     "data": {
      "image/png": "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\n",
      "text/plain": [
       "<Figure size 432x288 with 1 Axes>"
      ]
     },
     "metadata": {
      "needs_background": "light"
     },
     "output_type": "display_data"
    }
   ],
   "source": [
    "importlib.reload(mysklearn.plot_utils)\n",
    "import mysklearn.plot_utils as plot_utils\n",
    "importlib.reload(mysklearn.myutils)\n",
    "import mysklearn.myutils as myutils\n",
    "\n",
    "# Gender/Sex\n",
    "sex_labels = [\"Female\", \"Male\"]\n",
    "# get the frequencies of each gender categories in the delayed/no care subtable\n",
    "# delay_items, sex_freq_delay = myutils.get_item_frequency(delayed_or_none.get_column(\"EGENDER\"))\n",
    "# frequencies of each gender categories in the care received subtable\n",
    "\n",
    "percentages = myutils.percentage_of_population(overall_table.data, delayed_or_none.data, 2)\n",
    "print(percentages)\n",
    "\n",
    "items = list(percentages.values())\n",
    "\n",
    "for i in range(len(items)):\n",
    "    items[i] = items[i] * 100\n",
    "    \n",
    "print(items)\n",
    "\n",
    "# plot_utils.plot_pie_percent(items, sex_labels, \"Gender Percentages\")\n",
    "plot_utils.plot_bar(sex_labels, items, \"Sex\", \"Percentage of Individuals\", \"Percent of Individuals Who Were Delayed or Did Not Receive Care\")\n",
    "\n",
    "\n",
    "# plot a bar graph for each subtable to compare which age groups were more likely to receive care, and which were more likely to be denied\n",
    "# plot_utils.plot_bar(sex_labels, sex_freq_delay, \"Gender\", \"Num of Frequencies\", \"Gender Frequencies for Individuals Who Were Delayed or Did Not Receive Care\")\n"
   ]
  },
  {
   "cell_type": "markdown",
   "metadata": {},
   "source": [
    "(Add observations regarding gender)"
   ]
  },
  {
   "cell_type": "markdown",
   "metadata": {},
   "source": [
    "### Education Level Data and Observations Based on \"DELAYNOTGET\" Attribute Values\n",
    "\n",
    "Education Level | Label\n",
    "-|-\n",
    "Less than high school | 1\n",
    "Some high school | 2\n",
    "High school graduate or equivalent | 3\n",
    "Some college | 4\n",
    "Associate's degree | 5\n",
    "Bachelor's degree | 6\n",
    "Graduate degree | 7"
   ]
  },
  {
   "cell_type": "code",
   "execution_count": 10,
   "metadata": {},
   "outputs": [
    {
     "name": "stdout",
     "output_type": "stream",
     "text": [
      "{7.0: 0.41083743842364534, 4.0: 0.39372822299651566, 1.0: 0.42857142857142855, 5.0: 0.3927710843373494, 3.0: 0.35507246376811596, 6.0: 0.3602103418054338, 2.0: 0.38095238095238093}\n",
      "[41.083743842364534, 39.37282229965157, 42.857142857142854, 39.277108433734945, 35.507246376811594, 36.02103418054338, 38.095238095238095]\n"
     ]
    },
    {
     "data": {
      "image/png": "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\n",
      "text/plain": [
       "<Figure size 432x288 with 1 Axes>"
      ]
     },
     "metadata": {
      "needs_background": "light"
     },
     "output_type": "display_data"
    }
   ],
   "source": [
    "importlib.reload(mysklearn.plot_utils)\n",
    "import mysklearn.plot_utils as plot_utils\n",
    "importlib.reload(mysklearn.myutils)\n",
    "import mysklearn.myutils as myutils\n",
    "\n",
    "# Education\n",
    "ed_labels = [\"Graduate\", \"Some College\", \"< High School\", \"Associate's\", \"High School/GED\", \"Bachelor's\", \"Some High School\"]\n",
    "# get the frequencies of each education categories in the delayed/no care subtable\n",
    "# delay_items, ed_freq_delay = myutils.get_item_frequency(delayed_or_none.get_column(\"EEDUC\"))\n",
    "# frequencies of each education categories in the care received subtable\n",
    "\n",
    "percentages = myutils.percentage_of_population(overall_table.data, delayed_or_none.data, 5)\n",
    "print(percentages)\n",
    "\n",
    "items = list(percentages.values())\n",
    "\n",
    "for i in range(len(items)):\n",
    "    items[i] = items[i] * 100\n",
    "    \n",
    "print(items)\n",
    "\n",
    "# plot_utils.plot_pie_percent(items, ed_labels, \"Education Percentages\")\n",
    "plot_utils.plot_bar(ed_labels, items, \"Education Level\", \"Percentage of Individuals\", \"Percent of Individuals Who Were Delayed or Did Not Receive Care\")\n",
    "\n",
    "\n",
    "# plot a bar graph for each subtable to compare which age groups were more likely to receive care, and which were more likely to be denied\n",
    "# plot_utils.plot_bar(ed_labels, ed_freq_delay, \"Education Level\", \"Num of Frequencies\", \"Education Frequencies for Individuals Who Were Delayed or Did Not Receive Care\")\n"
   ]
  },
  {
   "cell_type": "markdown",
   "metadata": {},
   "source": [
    "(Add observations regarding education level here)"
   ]
  },
  {
   "cell_type": "markdown",
   "metadata": {},
   "source": [
    "### Income Data and Observations Based on \"DELAYNOTGET\" Attribute Values\n",
    "\n",
    "Income | Label\n",
    "-|-\n",
    "< 25,000 | 1\n",
    "25,000 - 34,999 | 2\n",
    "35,000 - 49,999 | 3\n",
    "50,000 - 74,999 | 4\n",
    "75,000 - 99,999 | 5\n",
    "100,000 - 149,999 | 6\n",
    "150,000 - 199,999 | 7\n",
    "200,000 < | 8"
   ]
  },
  {
   "cell_type": "code",
   "execution_count": 12,
   "metadata": {},
   "outputs": [
    {
     "name": "stdout",
     "output_type": "stream",
     "text": [
      "{6.0: 0.35390946502057613, 4.0: 0.43541364296081275, 7.0: 0.3465045592705167, 1.0: 0.43103448275862066, 5.0: 0.38353765323992994, 3.0: 0.38202247191011235, 8.0: 0.3263157894736842, 2.0: 0.39204545454545453}\n",
      "[35.390946502057616, 43.54136429608128, 34.650455927051674, 43.103448275862064, 38.353765323992995, 38.20224719101123, 32.631578947368425, 39.20454545454545]\n"
     ]
    },
    {
     "data": {
      "image/png": "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\n",
      "text/plain": [
       "<Figure size 432x288 with 1 Axes>"
      ]
     },
     "metadata": {
      "needs_background": "light"
     },
     "output_type": "display_data"
    }
   ],
   "source": [
    "importlib.reload(mysklearn.plot_utils)\n",
    "import mysklearn.plot_utils as plot_utils\n",
    "importlib.reload(mysklearn.myutils)\n",
    "import mysklearn.myutils as myutils\n",
    "\n",
    "# Income\n",
    "income_labels = [\"$100K-$149,999\", \"$35K-$74,999\", \"$150K-$199,999\", \"< $25K\", \"$75K-$99,999\", \"$35K-$49,999\", \"> $200K\", \"$25K-$34,999\"]\n",
    "# get the frequencies of each income categories in the delayed/no care subtable\n",
    "delay_items, income_freq_delay = myutils.get_item_frequency(delayed_or_none.get_column(\"INCOME\"))\n",
    "# frequencies of each income categories in the care received subtable\n",
    "# care_items, income_freq_care = myutils.get_item_frequency(care_received.get_column(\"INCOME\"))\n",
    "\n",
    "percentages = myutils.percentage_of_population(overall_table.data, delayed_or_none.data, 6)\n",
    "print(percentages)\n",
    "\n",
    "items = list(percentages.values())\n",
    "\n",
    "for i in range(len(items)):\n",
    "    items[i] = items[i] * 100\n",
    "    \n",
    "print(items)\n",
    "\n",
    "# plot_utils.plot_pie_percent(items, ed_labels, \"Education Percentages\")\n",
    "plot_utils.plot_bar(income_labels, items, \"Income\", \"Percentage of Individuals\", \"Percent of Individuals Who Were Delayed or Did Not Receive Care\")\n",
    "\n",
    "\n",
    "# plot a bar graph for each subtable to compare which age groups were more likely to receive care, and which were more likely to be denied\n",
    "# plot_utils.plot_bar(income_labels, income_freq_delay, \"Income Range\", \"Num of Frequencies\", \"Income Frequencies for Individuals Who Were Delayed or Did Not Receive Care\")\n",
    "# plot_utils.plot_bar(income_labels, income_freq_care, \"Income Range\", \"Num of Frequencies\", \"Income Frequencies for Individuals Who Received Care\")"
   ]
  },
  {
   "cell_type": "markdown",
   "metadata": {},
   "source": [
    "(Add observations regarding income range and care)\n",
    "Unfortunately, many people who have a lower income have been delayed or did not receive healthcare. This could be due to a lack of affordable resources for healthcare..."
   ]
  },
  {
   "cell_type": "markdown",
   "metadata": {},
   "source": [
    "# (ADDITIONAL GRAPHS TO ADD)\n",
    "- Maybe add the attribute \"WRKLOSS\" to the condensed data to compare job loss to the loss of income to a lack of access for care"
   ]
  },
  {
   "cell_type": "code",
   "execution_count": null,
   "metadata": {},
   "outputs": [],
   "source": []
  },
  {
   "cell_type": "code",
   "execution_count": null,
   "metadata": {},
   "outputs": [],
   "source": []
  },
  {
   "cell_type": "code",
   "execution_count": null,
   "metadata": {},
   "outputs": [],
   "source": []
  }
 ],
 "metadata": {
  "kernelspec": {
   "display_name": "Python 3",
   "language": "python",
   "name": "python3"
  },
  "language_info": {
   "codemirror_mode": {
    "name": "ipython",
    "version": 3
   },
   "file_extension": ".py",
   "mimetype": "text/x-python",
   "name": "python",
   "nbconvert_exporter": "python",
   "pygments_lexer": "ipython3",
   "version": "3.8.5"
  }
 },
 "nbformat": 4,
 "nbformat_minor": 4
}
=======
{
 "cells": [
  {
   "cell_type": "markdown",
   "metadata": {},
   "source": [
    "# COVID-19's Impact on Healthcare Accessibility\n",
    "### By: Tristan Call and Maria Elena Aviles-Baquero"
   ]
  },
  {
   "cell_type": "markdown",
   "metadata": {},
   "source": [
    "## Introductory"
   ]
  },
  {
   "cell_type": "code",
   "execution_count": null,
   "metadata": {},
   "outputs": [],
   "source": [
    "# STEPS\n",
    "# 1. Focus on Washington (for now aka. generalize code (as always))\n",
    "# 2. create default values\n",
    "\n",
    "# load data function: through MyPyTable()\n",
    "\n",
    "# data analysis functions:\n",
    "# group_by()\n",
    "# get_column() - MyPyTable\n",
    "# plotting - whatever we used in class\n",
    "    # save_graph() function\n",
    "# output result files (? TBD)\n",
    "\n",
    "# summary_stats from MyPyTable"
   ]
  },
  {
   "cell_type": "markdown",
   "metadata": {},
   "source": [
    "## Data Analysis"
   ]
  },
  {
   "cell_type": "markdown",
   "metadata": {},
   "source": [
    "TODO:\n",
    "- load in data to use\n",
    "- create analysis functions (something that takes in specific attributes and returns them)"
   ]
  },
  {
   "cell_type": "code",
   "execution_count": 2,
   "metadata": {},
   "outputs": [],
   "source": [
    "# some useful mysklearn package import statements and reloads\n",
    "import importlib\n",
    "\n",
    "import mysklearn.myutils\n",
    "importlib.reload(mysklearn.myutils)\n",
    "import mysklearn.myutils as myutils\n",
    "\n",
    "# uncomment once you paste your mypytable.py into mysklearn package\n",
    "import mysklearn.mypytable\n",
    "importlib.reload(mysklearn.mypytable)\n",
    "from mysklearn.mypytable import MyPyTable \n",
    "\n",
    "import mysklearn.plot_utils\n",
    "importlib.reload(mysklearn.plot_utils)\n",
    "import mysklearn.plot_utils as plot_utils\n",
    "\n",
    "import mysklearn.myclassifiers\n",
    "importlib.reload(mysklearn.myclassifiers)\n",
    "from mysklearn.myclassifiers import MyKNeighborsClassifier, MySimpleLinearRegressor, MyNaiveBayesClassifier\n",
    "\n",
    "import mysklearn.myevaluation\n",
    "importlib.reload(mysklearn.myevaluation)\n",
    "import mysklearn.myevaluation as myevaluation\n",
    "\n",
    "import os\n",
    "import pandas as pd"
   ]
  },
  {
   "cell_type": "markdown",
   "metadata": {},
   "source": [
    "## Manipulate Data into Useable Format\n",
    "The first thing we need to do is grab the data from the sas file and manipulate it into a format and size which is workable with our very much not optimized dataset. Part of this involves dropping rows with NaNs or -99s (seen but unanswered questions) in them ahead of time. Overall we aim to go from about 70,000 results to a more reasonable < 10,000."
   ]
  },
  {
   "cell_type": "code",
   "execution_count": 3,
   "metadata": {},
   "outputs": [
    {
     "name": "stdout",
     "output_type": "stream",
     "text": [
      "      TBIRTH_YEAR  EGENDER  RHISPANIC  RRACE  EEDUC  INCOME  DELAY  NOTGET\n",
      "1          1969.0      2.0        1.0    1.0    7.0     6.0    1.0     2.0\n",
      "2          1959.0      2.0        1.0    1.0    7.0     4.0    1.0     1.0\n",
      "4          1967.0      1.0        1.0    1.0    4.0     6.0    2.0     2.0\n",
      "5          1965.0      1.0        1.0    1.0    7.0     6.0    2.0     2.0\n",
      "6          1962.0      2.0        1.0    2.0    4.0     1.0    2.0     2.0\n",
      "...           ...      ...        ...    ...    ...     ...    ...     ...\n",
      "4993       1964.0      2.0        1.0    1.0    4.0     1.0    2.0     2.0\n",
      "4994       1984.0      1.0        1.0    1.0    4.0     7.0    1.0     1.0\n",
      "4995       1973.0      1.0        1.0    1.0    6.0     8.0    2.0     2.0\n",
      "4997       1976.0      2.0        1.0    1.0    3.0     3.0    1.0     1.0\n",
      "4999       1958.0      2.0        1.0    1.0    7.0     5.0    2.0     2.0\n",
      "\n",
      "[3909 rows x 8 columns]\n"
     ]
    }
   ],
   "source": [
    "# Grab the data\n",
    "week21_filename = os.path.join(\"input_data\", \"pulse2020_puf_21.sas7bdat\")\n",
    "iterator = pd.read_sas(week21_filename, chunksize=5000)\n",
    "alldata = []\n",
    "for chunk in iterator:\n",
    "    alldata.append(chunk)\n",
    "\n",
    "relevant_attributes = [\"TBIRTH_YEAR\", \"EGENDER\", \"RHISPANIC\", \"RRACE\", \"EEDUC\", \"INCOME\", \"DELAY\", \"NOTGET\"]\n",
    "\n",
    "# Grab a chunk of data with the attributes we are interested in, minus Nans, and save to a local file\n",
    "data = alldata[0][[\"TBIRTH_YEAR\", \"EGENDER\", \"RHISPANIC\", \"RRACE\", \"EEDUC\", \"INCOME\", \"DELAY\", \"NOTGET\"]]\n",
    "working_data_filename = os.path.join(\"input_data\", \"week21_working.csv\")\n",
    "nafree_data = data.dropna()\n",
    "\n",
    "# Get rid of -99 results (aka seen but not answered)\n",
    "nafree_data = nafree_data[nafree_data.INCOME != -99]\n",
    "nafree_data = nafree_data[nafree_data.DELAY != -99]\n",
    "nafree_data = nafree_data[nafree_data.NOTGET != -99]\n",
    "print(nafree_data)\n",
    "\n",
    "# Save to file\n",
    "nafree_data.to_csv(working_data_filename)"
   ]
  },
  {
   "cell_type": "markdown",
   "metadata": {},
   "source": [
    "## Organize the data\n",
    "Next we want to get the data into a more useful format. Step one of this is chunk years into decades to have a reasonable number of attribute values for year according to the below:\n",
    "\n",
    "years | label\n",
    "-|-\n",
    "1932-1941 | 1\n",
    "1942-1951 | 2\n",
    "1952-1961 | 3\n",
    "1962-1971 | 4\n",
    "1972-1981 | 5\n",
    "1982-1991 | 6\n",
    "1992-2002 | 7\n",
    "\n",
    "Next we want to create a DELAYNOTGET column as a composite of delay and notget."
   ]
  },
  {
   "cell_type": "code",
   "execution_count": 4,
   "metadata": {},
   "outputs": [],
   "source": [
    "importlib.reload(mysklearn.myutils)\n",
    "import mysklearn.myutils as myutils\n",
    "\n",
    "# Load the data into a mypytable for future analysis\n",
    "overall_table = MyPyTable()\n",
    "overall_table.load_from_file(working_data_filename)\n",
    "overall_table.convert_to_numeric()\n",
    "\n",
    "# Convert year into bigger categorical chunks\n",
    "year_col = overall_table.get_column(\"TBIRTH_YEAR\")\n",
    "year_label = [x + 1 for x in range(7)]\n",
    "cutoffs = [1932 + 10 * x for x in range(8)]\n",
    "year_col = myutils.categorize_continuous_list(year_col, cutoffs, year_label)\n",
    "\n",
    "# Create DELAYNOTGET column\n",
    "delay = overall_table.get_column(\"DELAY\")\n",
    "notget = overall_table.get_column(\"NOTGET\")\n",
    "delaynotget = []\n",
    "for i in range(len(delay)):\n",
    "    if delay[i] == 1 or notget[i] == 1:\n",
    "        delaynotget.append(1)\n",
    "    else:\n",
    "        delaynotget.append(2)\n",
    "        \n",
    "# Combine all the above into the overall_table\n",
    "overall_table.column_names.append(\"DELAYNOTGET\")\n",
    "overall_table.data = [[overall_table.data[i][0]] + [year_col[i]] + overall_table.data[i][2:] + [delaynotget[i]] for i in range(len(year_col))]\n",
    "# overall_table.pretty_print()"
   ]
  },
  {
   "cell_type": "code",
   "execution_count": null,
   "metadata": {},
   "outputs": [],
   "source": []
  },
  {
   "cell_type": "code",
   "execution_count": null,
   "metadata": {},
   "outputs": [],
   "source": []
  },
  {
   "cell_type": "code",
   "execution_count": null,
   "metadata": {},
   "outputs": [],
   "source": []
  },
  {
   "cell_type": "code",
   "execution_count": null,
   "metadata": {},
   "outputs": [],
   "source": []
  },
  {
   "cell_type": "code",
   "execution_count": null,
   "metadata": {},
   "outputs": [],
   "source": []
  },
  {
   "cell_type": "markdown",
   "metadata": {},
   "source": [
    "# Classification\n",
    "In this section we will classify our results using our classifiers"
   ]
  },
  {
   "cell_type": "code",
   "execution_count": null,
   "metadata": {},
   "outputs": [],
   "source": []
  },
  {
   "cell_type": "code",
   "execution_count": null,
   "metadata": {},
   "outputs": [],
   "source": []
  },
  {
   "cell_type": "markdown",
   "metadata": {},
   "source": [
    "# Visualizations"
   ]
  },
  {
   "cell_type": "markdown",
   "metadata": {},
   "source": [
    "### Summary Statistics for the Attributes"
   ]
  },
  {
   "cell_type": "code",
   "execution_count": 6,
   "metadata": {},
   "outputs": [
    {
     "name": "stdout",
     "output_type": "stream",
     "text": [
     "attribute      min    max    mid        avg    median       std\n",
      "-----------  -----  -----  -----  ---------  --------  --------\n",
      "TBIRTH_YEAR      0      1    0.5  0.516117   0.5       0.258856\n",
      "EGENDER          0      1    0.5  0.599642   1         0.489971\n",
      "RHISPANIC        0      1    0.5  0.0831415  0         0.276096\n",
      "RRACE            0      1    0.5  0.104971   0         0.259623\n",
      "EEDUC            0      1    0.5  0.721796   0.833333  0.237344\n",
      "INCOME           0      1    0.5  0.507985   0.571429  0.296784\n",
      "DELAY            0      1    0.5  0.650038   1         0.476958\n",
      "NOTGET           0      1    0.5  0.746482   1         0.435025\n",
      "DELAYNOTGET      0      1    0.5  0.614735   1         0.486658\n"

     ]
    }
   ],
   "source": [
    "importlib.reload(mysklearn.mypytable)\n",
    "from mysklearn.mypytable import MyPyTable \n",
    "importlib.reload(mysklearn.plot_utils)\n",
    "import mysklearn.plot_utils as plot_utils\n",
    "\n",
    "# normalize the data\n",
    "overall_table.data = myutils.normalize_data_cols(overall_table.data)\n",
    "\n",
    "# SHOULD I KEEP THE SUMMARY STATS? ARE THEY NECESSARY? WHAT DO THEY TELL US?\n",
    "\n",
    "# use overall_table object declared above to compute the stats for all attributes\n",
    "table_stats = overall_table.compute_summary_statistics(overall_table.column_names[1:])\n",
    "# print out the statistics table\n",
    "table_stats.pretty_print()\n",
    "\n",
    "items, values = myutils.get_item_frequency(overall_table.get_column(\"DELAYNOTGET\"))\n",
    "print(items)\n",
    "print(values)\n",
    "# add a graph?"
   ]
  },
  {
   "cell_type": "markdown",
   "metadata": {},
   "source": [
    "(Add notes here regarding findings in statistics summary)"
   ]
  },
  {
   "cell_type": "markdown",
   "metadata": {},
   "source": [
    "### Grouping the Data Into Those Who Received Care Without Delay and Those Who Did Not"
   ]
  },
  {
   "cell_type": "code",
   "execution_count": 13,
   "metadata": {},
   "outputs": [
    {
     "name": "stdout",
     "output_type": "stream",
     "text": [
      "1506\n",
      "2403\n"
     ]
    }
   ],
   "source": [
    "importlib.reload(mysklearn.mypytable)\n",
    "from mysklearn.mypytable import MyPyTable \n",
    "\n",
    "# get subtables group by whether or not an instance was delayed/didn't get care or did receive care without delay\n",
    "group_names, subtables = overall_table.group_by(\"DELAYNOTGET\")\n",
    "\n",
    "# SHOW PERCENTAGE FOR EQUAL DISTRIBUTION\n",
    "# FIND NUMBER OF 1s AND 2s\n",
    "\n",
    "# first subtable represents the instances where the individual got delayed care or did not get any\n",
    "delayed_or_none = MyPyTable(overall_table.column_names, subtables[0])\n",
    "print(len(delayed_or_none.data))\n",
    "# second subtable represents the instances where the individual got delayed care or did not get any\n",
    "care_received = MyPyTable(overall_table.column_names, subtables[1])\n",
    "print(len(care_received.data))\n",
    "# delayed_or_none.pretty_print()\n",
    "# care_received.pretty_print()"
   ]
  },
  {
   "cell_type": "markdown",
   "metadata": {},
   "source": [
    "### Birth Years Data and Observations Based on \"DELAYNOTGET\" Attribute Values"
   ]
  },
  {
   "cell_type": "code",
   "execution_count": 20,
   "metadata": {},
   "outputs": [
    {
     "data": {
      "image/png": "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\n",
      "text/plain": [
       "<Figure size 432x288 with 1 Axes>"
      ]
     },
     "metadata": {},
     "output_type": "display_data"
    }
   ],
   "source": [
    "importlib.reload(mysklearn.plot_utils)\n",
    "import mysklearn.plot_utils as plot_utils\n",
    "importlib.reload(mysklearn.myutils)\n",
    "import mysklearn.myutils as myutils\n",
    "\n",
    "birth_years = [\"1932-41\", \"1942-51\", \"1952-61\", \"1962-71\", \"1972-81\", \"1982-91\", \"1992-2002\"]\n",
    "# get the frequencies of each birth categories in the delayed/no care subtable\n",
    "delay_items, birth_freq_delay = myutils.get_item_frequency(delayed_or_none.get_column(\"TBIRTH_YEAR\"))\n",
    "# frequencies of each birth categories in the care received subtable\n",
    "# care_items, birth_freq_care = myutils.get_item_frequency(care_received.get_column(\"TBIRTH_YEAR\"))\n",
    "\n",
    "plot_utils.plot_pie_percent(birth_freq_delay, birth_years, \"Birth Year Distribution\")\n",
    "\n",
    "# plot_utils.plot_hist(birth_freq_delay, birth_years, \"Frequency\", \"Birth Year Distribution\")\n",
    "\n",
    "# plot a bar graph for each subtable to compare which age groups were more likely to receive care, and which were more likely to be denied\n",
    "# plot_utils.plot_bar(birth_years, birth_freq_delay, \"Birth Years Categories\", \"Num of Frequencies\", \"Birth Year Frequencies for Individuals Who Were Delayed or Did Not Receive Care\")\n",
    "# plot_utils.plot_bar(birth_years, birth_freq_care, \"Birth Years Categories\", \"Num of Frequencies\", \"Birth Year Frequencies for Individuals Who Received Care\")"
   ]
  },
  {
   "cell_type": "code",
   "execution_count": null,
   "metadata": {},
   "outputs": [],
   "source": []
  },
  {
   "cell_type": "markdown",
   "metadata": {},
   "source": [
    "Remember, the values 1 to 7 have the following meanings:\n",
    "\n",
    "Years | Label\n",
    "-|-\n",
    "1932-1941 | 1\n",
    "1942-1951 | 2\n",
    "1952-1961 | 3\n",
    "1962-1971 | 4\n",
    "1972-1981 | 5\n",
    "1982-1991 | 6\n",
    "1992-2002 | 7\n",
    "\n",
    "By looking at the bar graph above, we can observe that the majority of individuals that are delayed care or do not received care, tend to be of older generations, ranging from 1932 to 1961. One possible explanation for this trend is that these age groups tend to be the people who are higher risk for becoming hospitalized and passing from contracting COVID-19. Therefore, many medical providers may not provide care for fear of putting these individuals at risk."
   ]
  },
  {
   "cell_type": "markdown",
   "metadata": {},
   "source": [
    "### Race and Ethnicity of Individual Data and Observations Based on \"DELAYNOTGET\" Attribute Values\n",
    "\n",
    "The identities of each race present in this data are labeled from 1 to 4:\n",
    "\n",
    "Race | Label\n",
    "-|-\n",
    "White | 1\n",
    "Black | 2\n",
    "Asian | 3\n",
    "Mixed; More than one of the above | 4\n",
    "\n"
   ]
  },
  {
   "cell_type": "code",
   "execution_count": 8,
   "metadata": {},
   "outputs": [
    {
     "data": {
      "image/png": "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\n",
      "text/plain": [
       "<Figure size 432x288 with 1 Axes>"
      ]
     },
     "metadata": {
      "needs_background": "light"
     },
     "output_type": "display_data"
    },
    {
     "data": {
      "image/png": "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\n",
      "text/plain": [
       "<Figure size 432x288 with 1 Axes>"
      ]
     },
     "metadata": {
      "needs_background": "light"
     },
     "output_type": "display_data"
    }
   ],
   "source": [
    "importlib.reload(mysklearn.plot_utils)\n",
    "import mysklearn.plot_utils as plot_utils\n",
    "importlib.reload(mysklearn.myutils)\n",
    "import mysklearn.myutils as myutils\n",
    "\n",
    "# Race\n",
    "race_labels = [\"White\", \"Black\", \"Asian\", \"Two or More\"]\n",
    "# get the frequencies of each race categories in the delayed/no care subtable\n",
    "delay_items, race_freq_delay = myutils.get_item_frequency(delayed_or_none.get_column(\"RRACE\"))\n",
    "# frequencies of each race categories in the care received subtable\n",
    "# care_items, race_freq_care = myutils.get_item_frequency(care_received.get_column(\"RRACE\"))\n",
    "\n",
    "# plot a bar graph for each subtable to compare which age groups were more likely to receive care, and which were more likely to be denied\n",
    "plot_utils.plot_bar(race_labels, race_freq_delay, \"Race Categories\", \"Num of Frequencies\", \"Race Frequencies for Individuals Who Were Delayed or Did Not Receive Care\")\n",
    "# plot_utils.plot_bar(race_labels, race_freq_care, \"Race Categories\", \"Num of Frequencies\", \"Race Frequencies for Individuals Who Received Care\")\n",
    "\n",
    "\n",
    "# NORMALIZE THE DATA \n",
    "\n",
    "# Ethnicity (Hispanic)\n",
    "# 1 -> no ; 2 -> yes\n",
    "hispanic_labels = [\"No\", \"Yes\"]\n",
    "# get the frequencies of each hispanic categories in the delayed/no care subtable\n",
    "delay_items, hisp_freq_delay = myutils.get_item_frequency(delayed_or_none.get_column(\"RHISPANIC\"))\n",
    "# frequencies of each hispanic categories in the care received subtable\n",
    "# care_items, hisp_freq_care = myutils.get_item_frequency(care_received.get_column(\"RHISPANIC\"))\n",
    "\n",
    "# plot a bar graph for each subtable to compare which age groups were more likely to receive care, and which were more likely to be denied\n",
    "plot_utils.plot_bar(hispanic_labels, hisp_freq_delay, \"Hispanic\", \"Num of Frequencies\", \"Hispanic Frequencies for Individuals Who Were Delayed or Did Not Receive Care\")\n",
    "# plot_utils.plot_bar(hispanic_labels, hisp_freq_care, \"Hispanic\", \"Num of Frequencies\", \"Hispanic Frequencies for Individuals Who Received Care\")"
   ]
  },
  {
   "cell_type": "markdown",
   "metadata": {},
   "source": [
    "(Add observations regarding race and ethnicity (hispanic))\n",
    "\n",
    "People who are white and people who are not hispanic were delayed or did not receive health care, (why???)\n",
    "(More research needed to explain results)"
   ]
  },
  {
   "cell_type": "markdown",
   "metadata": {},
   "source": [
    "### Gender of Individual Data and Observations Based on \"DELAYNOTGET\" Attribute Values\n",
    "(Does not specify whether the individual is transgender or cisgender)\n",
    "\n",
    "Gender/Sex | Label\n",
    "-|-\n",
    "Male | 1\n",
    "Female | 2"
   ]
  },
  {
   "cell_type": "code",
   "execution_count": 9,
   "metadata": {},
   "outputs": [
    {
     "data": {
      "image/png": "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\n",
      "text/plain": [
       "<Figure size 432x288 with 1 Axes>"
      ]
     },
     "metadata": {
      "needs_background": "light"
     },
     "output_type": "display_data"
    }
   ],
   "source": [
    "importlib.reload(mysklearn.plot_utils)\n",
    "import mysklearn.plot_utils as plot_utils\n",
    "importlib.reload(mysklearn.myutils)\n",
    "import mysklearn.myutils as myutils\n",
    "\n",
    "# Gender/Sex\n",
    "sex_labels = [\"Male\", \"Female\"]\n",
    "# get the frequencies of each gender categories in the delayed/no care subtable\n",
    "delay_items, sex_freq_delay = myutils.get_item_frequency(delayed_or_none.get_column(\"EGENDER\"))\n",
    "# frequencies of each gender categories in the care received subtable\n",
    "# care_items, sex_freq_care = myutils.get_item_frequency(care_received.get_column(\"EGENDER\"))\n",
    "\n",
    "# plot a bar graph for each subtable to compare which age groups were more likely to receive care, and which were more likely to be denied\n",
    "plot_utils.plot_bar(sex_labels, sex_freq_delay, \"Gender\", \"Num of Frequencies\", \"Gender Frequencies for Individuals Who Were Delayed or Did Not Receive Care\")\n",
    "# plot_utils.plot_bar(sex_labels, sex_freq_care, \"Gender Categories\", \"Num of Frequencies\", \"Gender Frequencies for Individuals Who Received Care\")"
   ]
  },
  {
   "cell_type": "markdown",
   "metadata": {},
   "source": [
    "(Add observations regarding gender)"
   ]
  },
  {
   "cell_type": "markdown",
   "metadata": {},
   "source": [
    "### Education Level Data and Observations Based on \"DELAYNOTGET\" Attribute Values\n",
    "\n",
    "Education Level | Label\n",
    "-|-\n",
    "Less than high school | 1\n",
    "Some high school | 2\n",
    "High school graduate or equivalent | 3\n",
    "Some college | 4\n",
    "Associate's degree | 5\n",
    "Bachelor's degree | 6\n",
    "Graduate degree | 7"
   ]
  },
  {
   "cell_type": "code",
   "execution_count": 10,
   "metadata": {},
   "outputs": [
    {
     "data": {
      "image/png": "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\n",
      "text/plain": [
       "<Figure size 432x288 with 1 Axes>"
      ]
     },
     "metadata": {
      "needs_background": "light"
     },
     "output_type": "display_data"
    }
   ],
   "source": [
    "importlib.reload(mysklearn.plot_utils)\n",
    "import mysklearn.plot_utils as plot_utils\n",
    "importlib.reload(mysklearn.myutils)\n",
    "import mysklearn.myutils as myutils\n",
    "\n",
    "# Education\n",
    "ed_labels = [\"< High School\", \"Some High School\", \"High School/GED\", \"Some College\", \"Associate's\", \"Bachelor's\", \"Graduate\"]\n",
    "# get the frequencies of each education categories in the delayed/no care subtable\n",
    "delay_items, ed_freq_delay = myutils.get_item_frequency(delayed_or_none.get_column(\"EEDUC\"))\n",
    "# frequencies of each education categories in the care received subtable\n",
    "# care_items, ed_freq_care = myutils.get_item_frequency(care_received.get_column(\"EEDUC\"))\n",
    "\n",
    "# plot a bar graph for each subtable to compare which age groups were more likely to receive care, and which were more likely to be denied\n",
    "plot_utils.plot_bar(ed_labels, ed_freq_delay, \"Education Level\", \"Num of Frequencies\", \"Education Frequencies for Individuals Who Were Delayed or Did Not Receive Care\")\n",
    "# plot_utils.plot_bar(ed_labels, ed_freq_care, \"Education Level\", \"Num of Frequencies\", \"Education Frequencies for Individuals Who Received Care\")"
   ]
  },
  {
   "cell_type": "markdown",
   "metadata": {},
   "source": [
    "(Add observations regarding education level here)"
   ]
  },
  {
   "cell_type": "markdown",
   "metadata": {},
   "source": [
    "### Income Data and Observations Based on \"DELAYNOTGET\" Attribute Values\n",
    "\n",
    "Income | Label\n",
    "-|-\n",
    "< 25,000 | 1\n",
    "25,000 - 34,999 | 2\n",
    "35,000 - 49,999 | 3\n",
    "50,000 - 74,999 | 4\n",
    "75,000 - 99,999 | 5\n",
    "100,000 - 149,999 | 6\n",
    "150,000 - 199,999 | 7\n",
    "200,000 < | 8"
   ]
  },
  {
   "cell_type": "code",
   "execution_count": 11,
   "metadata": {},
   "outputs": [
    {
     "data": {
      "image/png": "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\n",
      "text/plain": [
       "<Figure size 432x288 with 1 Axes>"
      ]
     },
     "metadata": {
      "needs_background": "light"
     },
     "output_type": "display_data"
    }
   ],
   "source": [
    "importlib.reload(mysklearn.plot_utils)\n",
    "import mysklearn.plot_utils as plot_utils\n",
    "importlib.reload(mysklearn.myutils)\n",
    "import mysklearn.myutils as myutils\n",
    "\n",
    "# Income\n",
    "income_labels = [\"< $25K\", \"$25K-$34,999\", \"$35K-$49,999\", \"$35K-$74,999\", \"$75K-$99,999\", \"$100K-$149,999\", \"$150K-$199,999\", \"> $200K\"]\n",
    "# get the frequencies of each income categories in the delayed/no care subtable\n",
    "delay_items, income_freq_delay = myutils.get_item_frequency(delayed_or_none.get_column(\"INCOME\"))\n",
    "# frequencies of each income categories in the care received subtable\n",
    "# care_items, income_freq_care = myutils.get_item_frequency(care_received.get_column(\"INCOME\"))\n",
    "\n",
    "# plot a bar graph for each subtable to compare which age groups were more likely to receive care, and which were more likely to be denied\n",
    "plot_utils.plot_bar(income_labels, income_freq_delay, \"Income Range\", \"Num of Frequencies\", \"Income Frequencies for Individuals Who Were Delayed or Did Not Receive Care\")\n",
    "# plot_utils.plot_bar(income_labels, income_freq_care, \"Income Range\", \"Num of Frequencies\", \"Income Frequencies for Individuals Who Received Care\")"
   ]
  },
  {
   "cell_type": "markdown",
   "metadata": {},
   "source": [
    "(Add observations regarding income range and care)\n",
    "Unfortunately, many people who have a lower income have been delayed or did not receive healthcare. This could be due to a lack of affordable resources for healthcare..."
   ]
  },
  {
   "cell_type": "markdown",
   "metadata": {},
   "source": [
    "# (ADDITIONAL GRAPHS TO ADD)\n",
    "- Maybe add the attribute \"WRKLOSS\" to the condensed data to compare job loss to the loss of income to a lack of access for care"
   ]
  },
  {
   "cell_type": "code",
   "execution_count": null,
   "metadata": {},
   "outputs": [],
   "source": []
  }
 ],
 "metadata": {
  "kernelspec": {
   "display_name": "Python 3",
   "language": "python",
   "name": "python3"
  },
  "language_info": {
   "codemirror_mode": {
    "name": "ipython",
    "version": 3
   },
   "file_extension": ".py",
   "mimetype": "text/x-python",
   "name": "python",
   "nbconvert_exporter": "python",
   "pygments_lexer": "ipython3",
   "version": "3.8.5"
  }
 },
 "nbformat": 4,
 "nbformat_minor": 4
}
>>>>>>> classification
