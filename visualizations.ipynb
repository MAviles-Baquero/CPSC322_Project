{
 "cells": [
  {
   "cell_type": "markdown",
   "metadata": {},
   "source": [
    "# COVID-19's Impact on Healthcare Accessibility\n",
    "### By: Tristan Call and Maria Elena Aviles-Baquero"
   ]
  },
  {
   "cell_type": "markdown",
   "metadata": {},
   "source": [
    "## Introductory"
   ]
  },
  {
   "cell_type": "code",
   "execution_count": null,
   "metadata": {},
   "outputs": [],
   "source": [
    "# STEPS\n",
    "# 1. Focus on Washington (for now aka. generalize code (as always))\n",
    "# 2. create default values\n",
    "\n",
    "# load data function: through MyPyTable()\n",
    "\n",
    "# data analysis functions:\n",
    "# group_by()\n",
    "# get_column() - MyPyTable\n",
    "# plotting - whatever we used in class\n",
    "    # save_graph() function\n",
    "# output result files (? TBD)\n",
    "\n",
    "# summary_stats from MyPyTable"
   ]
  },
  {
   "cell_type": "markdown",
   "metadata": {},
   "source": [
    "## Data Analysis"
   ]
  },
  {
   "cell_type": "markdown",
   "metadata": {},
   "source": [
    "TODO:\n",
    "- load in data to use\n",
    "- create analysis functions (something that takes in specific attributes and returns them)"
   ]
  },
  {
   "cell_type": "code",
   "execution_count": 2,
   "metadata": {},
   "outputs": [],
   "source": [
    "# some useful mysklearn package import statements and reloads\n",
    "import importlib\n",
    "\n",
    "import mysklearn.myutils\n",
    "importlib.reload(mysklearn.myutils)\n",
    "import mysklearn.myutils as myutils\n",
    "\n",
    "# uncomment once you paste your mypytable.py into mysklearn package\n",
    "import mysklearn.mypytable\n",
    "importlib.reload(mysklearn.mypytable)\n",
    "from mysklearn.mypytable import MyPyTable \n",
    "\n",
    "import mysklearn.plot_utils\n",
    "importlib.reload(mysklearn.plot_utils)\n",
    "import mysklearn.plot_utils as plot_utils\n",
    "\n",
    "import mysklearn.myclassifiers\n",
    "importlib.reload(mysklearn.myclassifiers)\n",
    "from mysklearn.myclassifiers import MyKNeighborsClassifier, MySimpleLinearRegressor, MyNaiveBayesClassifier\n",
    "\n",
    "import mysklearn.myevaluation\n",
    "importlib.reload(mysklearn.myevaluation)\n",
    "import mysklearn.myevaluation as myevaluation\n",
    "\n",
    "import os\n",
    "import pandas as pd"
   ]
  },
  {
   "cell_type": "markdown",
   "metadata": {},
   "source": [
    "## Manipulate Data into Useable Format\n",
    "The first thing we need to do is grab the data from the sas file and manipulate it into a format and size which is workable with our very much not optimized dataset. Part of this involves dropping rows with NaNs or -99s (seen but unanswered questions) in them ahead of time. Overall we aim to go from about 70,000 results to a more reasonable < 10,000."
   ]
  },
  {
   "cell_type": "code",
   "execution_count": 3,
   "metadata": {},
   "outputs": [
    {
     "name": "stdout",
     "output_type": "stream",
     "text": [
      "      TBIRTH_YEAR  EGENDER  RHISPANIC  RRACE  EEDUC  INCOME  DELAY  NOTGET\n",
      "1          1969.0      2.0        1.0    1.0    7.0     6.0    1.0     2.0\n",
      "2          1959.0      2.0        1.0    1.0    7.0     4.0    1.0     1.0\n",
      "4          1967.0      1.0        1.0    1.0    4.0     6.0    2.0     2.0\n",
      "5          1965.0      1.0        1.0    1.0    7.0     6.0    2.0     2.0\n",
      "6          1962.0      2.0        1.0    2.0    4.0     1.0    2.0     2.0\n",
      "...           ...      ...        ...    ...    ...     ...    ...     ...\n",
      "4993       1964.0      2.0        1.0    1.0    4.0     1.0    2.0     2.0\n",
      "4994       1984.0      1.0        1.0    1.0    4.0     7.0    1.0     1.0\n",
      "4995       1973.0      1.0        1.0    1.0    6.0     8.0    2.0     2.0\n",
      "4997       1976.0      2.0        1.0    1.0    3.0     3.0    1.0     1.0\n",
      "4999       1958.0      2.0        1.0    1.0    7.0     5.0    2.0     2.0\n",
      "\n",
      "[3909 rows x 8 columns]\n"
     ]
    }
   ],
   "source": [
    "# Grab the data\n",
    "week21_filename = os.path.join(\"input_data\", \"pulse2020_puf_21.sas7bdat\")\n",
    "iterator = pd.read_sas(week21_filename, chunksize=5000)\n",
    "alldata = []\n",
    "for chunk in iterator:\n",
    "    alldata.append(chunk)\n",
    "\n",
    "relevant_attributes = [\"TBIRTH_YEAR\", \"EGENDER\", \"RHISPANIC\", \"RRACE\", \"EEDUC\", \"INCOME\", \"DELAY\", \"NOTGET\"]\n",
    "\n",
    "# Grab a chunk of data with the attributes we are interested in, minus Nans, and save to a local file\n",
    "data = alldata[0][[\"TBIRTH_YEAR\", \"EGENDER\", \"RHISPANIC\", \"RRACE\", \"EEDUC\", \"INCOME\", \"DELAY\", \"NOTGET\"]]\n",
    "working_data_filename = os.path.join(\"input_data\", \"week21_working.csv\")\n",
    "nafree_data = data.dropna()\n",
    "\n",
    "# Get rid of -99 results (aka seen but not answered)\n",
    "nafree_data = nafree_data[nafree_data.INCOME != -99]\n",
    "nafree_data = nafree_data[nafree_data.DELAY != -99]\n",
    "nafree_data = nafree_data[nafree_data.NOTGET != -99]\n",
    "print(nafree_data)\n",
    "\n",
    "# Save to file\n",
    "nafree_data.to_csv(working_data_filename)"
   ]
  },
  {
   "cell_type": "markdown",
   "metadata": {},
   "source": [
    "## Organize the data\n",
    "Next we want to get the data into a more useful format. Step one of this is chunk years into decades to have a reasonable number of attribute values for year according to the below:\n",
    "\n",
    "years | label\n",
    "-|-\n",
    "1932-1941 | 1\n",
    "1942-1951 | 2\n",
    "1952-1961 | 3\n",
    "1962-1971 | 4\n",
    "1972-1981 | 5\n",
    "1982-1991 | 6\n",
    "1992-2002 | 7\n",
    "\n",
    "Next we want to create a DELAYNOTGET column as a composite of delay and notget."
   ]
  },
  {
   "cell_type": "code",
   "execution_count": 4,
   "metadata": {},
   "outputs": [],
   "source": [
    "importlib.reload(mysklearn.myutils)\n",
    "import mysklearn.myutils as myutils\n",
    "\n",
    "# Load the data into a mypytable for future analysis\n",
    "overall_table = MyPyTable()\n",
    "overall_table.load_from_file(working_data_filename)\n",
    "overall_table.convert_to_numeric()\n",
    "\n",
    "# Convert year into bigger categorical chunks\n",
    "year_col = overall_table.get_column(\"TBIRTH_YEAR\")\n",
    "year_label = [x + 1 for x in range(7)]\n",
    "cutoffs = [1932 + 10 * x for x in range(8)]\n",
    "year_col = myutils.categorize_continuous_list(year_col, cutoffs, year_label)\n",
    "\n",
    "# Create DELAYNOTGET column\n",
    "delay = overall_table.get_column(\"DELAY\")\n",
    "notget = overall_table.get_column(\"NOTGET\")\n",
    "delaynotget = []\n",
    "for i in range(len(delay)):\n",
    "    if delay[i] == 1 or notget[i] == 1:\n",
    "        delaynotget.append(1)\n",
    "    else:\n",
    "        delaynotget.append(2)\n",
    "        \n",
    "# Combine all the above into the overall_table\n",
    "overall_table.column_names.append(\"DELAYNOTGET\")\n",
    "overall_table.data = [[overall_table.data[i][0]] + [year_col[i]] + overall_table.data[i][2:] + [delaynotget[i]] for i in range(len(year_col))]\n",
    "# overall_table.pretty_print()"
   ]
  },
  {
   "cell_type": "code",
   "execution_count": null,
   "metadata": {},
   "outputs": [],
   "source": []
  },
  {
   "cell_type": "code",
   "execution_count": null,
   "metadata": {},
   "outputs": [],
   "source": []
  },
  {
   "cell_type": "code",
   "execution_count": null,
   "metadata": {},
   "outputs": [],
   "source": []
  },
  {
   "cell_type": "code",
   "execution_count": null,
   "metadata": {},
   "outputs": [],
   "source": []
  },
  {
   "cell_type": "code",
   "execution_count": null,
   "metadata": {},
   "outputs": [],
   "source": []
  },
  {
   "cell_type": "markdown",
   "metadata": {},
   "source": [
    "# Classification\n",
    "In this section we will classify our results using our classifiers"
   ]
  },
  {
   "cell_type": "code",
   "execution_count": null,
   "metadata": {},
   "outputs": [],
   "source": []
  },
  {
   "cell_type": "code",
   "execution_count": null,
   "metadata": {},
   "outputs": [],
   "source": []
  },
  {
   "cell_type": "markdown",
   "metadata": {},
   "source": [
    "# Visualizations"
   ]
  },
  {
   "cell_type": "markdown",
   "metadata": {},
   "source": [
    "### Summary Statistics for the Attributes"
   ]
  },
  {
   "cell_type": "code",
   "execution_count": 6,
   "metadata": {},
   "outputs": [
    {
     "name": "stdout",
     "output_type": "stream",
     "text": [
     "attribute      min    max    mid        avg    median       std\n",
      "-----------  -----  -----  -----  ---------  --------  --------\n",
      "TBIRTH_YEAR      0      1    0.5  0.516117   0.5       0.258856\n",
      "EGENDER          0      1    0.5  0.599642   1         0.489971\n",
      "RHISPANIC        0      1    0.5  0.0831415  0         0.276096\n",
      "RRACE            0      1    0.5  0.104971   0         0.259623\n",
      "EEDUC            0      1    0.5  0.721796   0.833333  0.237344\n",
      "INCOME           0      1    0.5  0.507985   0.571429  0.296784\n",
      "DELAY            0      1    0.5  0.650038   1         0.476958\n",
      "NOTGET           0      1    0.5  0.746482   1         0.435025\n",
      "DELAYNOTGET      0      1    0.5  0.614735   1         0.486658\n"

     ]
    }
   ],
   "source": [
    "importlib.reload(mysklearn.mypytable)\n",
    "from mysklearn.mypytable import MyPyTable \n",
    "importlib.reload(mysklearn.plot_utils)\n",
    "import mysklearn.plot_utils as plot_utils\n",
    "\n",
    "# normalize the data\n",
    "overall_table.data = myutils.normalize_data_cols(overall_table.data)\n",
    "\n",
    "# SHOULD I KEEP THE SUMMARY STATS? ARE THEY NECESSARY? WHAT DO THEY TELL US?\n",
    "\n",
    "# use overall_table object declared above to compute the stats for all attributes\n",
    "table_stats = overall_table.compute_summary_statistics(overall_table.column_names[1:])\n",
    "# print out the statistics table\n",
    "table_stats.pretty_print()\n",
    "\n",
    "items, values = myutils.get_item_frequency(overall_table.get_column(\"DELAYNOTGET\"))\n",
    "print(items)\n",
    "print(values)\n",
    "# add a graph?"
   ]
  },
  {
   "cell_type": "markdown",
   "metadata": {},
   "source": [
    "(Add notes here regarding findings in statistics summary)"
   ]
  },
  {
   "cell_type": "markdown",
   "metadata": {},
   "source": [
    "### Grouping the Data Into Those Who Received Care Without Delay and Those Who Did Not"
   ]
  },
  {
   "cell_type": "code",
   "execution_count": 13,
   "metadata": {},
   "outputs": [
    {
     "name": "stdout",
     "output_type": "stream",
     "text": [
      "1506\n",
      "2403\n"
     ]
    }
   ],
   "source": [
    "importlib.reload(mysklearn.mypytable)\n",
    "from mysklearn.mypytable import MyPyTable \n",
    "\n",
    "# get subtables group by whether or not an instance was delayed/didn't get care or did receive care without delay\n",
    "group_names, subtables = overall_table.group_by(\"DELAYNOTGET\")\n",
    "\n",
    "# SHOW PERCENTAGE FOR EQUAL DISTRIBUTION\n",
    "# FIND NUMBER OF 1s AND 2s\n",
    "\n",
    "# first subtable represents the instances where the individual got delayed care or did not get any\n",
    "delayed_or_none = MyPyTable(overall_table.column_names, subtables[0])\n",
    "print(len(delayed_or_none.data))\n",
    "# second subtable represents the instances where the individual got delayed care or did not get any\n",
    "care_received = MyPyTable(overall_table.column_names, subtables[1])\n",
    "print(len(care_received.data))\n",
    "# delayed_or_none.pretty_print()\n",
    "# care_received.pretty_print()"
   ]
  },
  {
   "cell_type": "markdown",
   "metadata": {},
   "source": [
    "### Birth Years Data and Observations Based on \"DELAYNOTGET\" Attribute Values"
   ]
  },
  {
   "cell_type": "code",
   "execution_count": 20,
   "metadata": {},
   "outputs": [
    {
     "data": {
      "image/png": "[encoded data removed]",
      "text/plain": [
       "<Figure size 432x288 with 1 Axes>"
      ]
     },
     "metadata": {},
     "output_type": "display_data"
    }
   ],
   "source": [
    "importlib.reload(mysklearn.plot_utils)\n",
    "import mysklearn.plot_utils as plot_utils\n",
    "importlib.reload(mysklearn.myutils)\n",
    "import mysklearn.myutils as myutils\n",
    "\n",
    "birth_years = [\"1932-41\", \"1942-51\", \"1952-61\", \"1962-71\", \"1972-81\", \"1982-91\", \"1992-2002\"]\n",
    "# get the frequencies of each birth categories in the delayed/no care subtable\n",
    "delay_items, birth_freq_delay = myutils.get_item_frequency(delayed_or_none.get_column(\"TBIRTH_YEAR\"))\n",
    "# frequencies of each birth categories in the care received subtable\n",
    "# care_items, birth_freq_care = myutils.get_item_frequency(care_received.get_column(\"TBIRTH_YEAR\"))\n",
    "\n",
    "plot_utils.plot_pie_percent(birth_freq_delay, birth_years, \"Birth Year Distribution\")\n",
    "\n",
    "# plot_utils.plot_hist(birth_freq_delay, birth_years, \"Frequency\", \"Birth Year Distribution\")\n",
    "\n",
    "# plot a bar graph for each subtable to compare which age groups were more likely to receive care, and which were more likely to be denied\n",
    "# plot_utils.plot_bar(birth_years, birth_freq_delay, \"Birth Years Categories\", \"Num of Frequencies\", \"Birth Year Frequencies for Individuals Who Were Delayed or Did Not Receive Care\")\n",
    "# plot_utils.plot_bar(birth_years, birth_freq_care, \"Birth Years Categories\", \"Num of Frequencies\", \"Birth Year Frequencies for Individuals Who Received Care\")"
   ]
  },
  {
   "cell_type": "code",
   "execution_count": null,
   "metadata": {},
   "outputs": [],
   "source": []
  },
  {
   "cell_type": "markdown",
   "metadata": {},
   "source": [
    "Remember, the values 1 to 7 have the following meanings:\n",
    "\n",
    "Years | Label\n",
    "-|-\n",
    "1932-1941 | 1\n",
    "1942-1951 | 2\n",
    "1952-1961 | 3\n",
    "1962-1971 | 4\n",
    "1972-1981 | 5\n",
    "1982-1991 | 6\n",
    "1992-2002 | 7\n",
    "\n",
    "By looking at the bar graph above, we can observe that the majority of individuals that are delayed care or do not received care, tend to be of older generations, ranging from 1932 to 1961. One possible explanation for this trend is that these age groups tend to be the people who are higher risk for becoming hospitalized and passing from contracting COVID-19. Therefore, many medical providers may not provide care for fear of putting these individuals at risk."
   ]
  },
  {
   "cell_type": "markdown",
   "metadata": {},
   "source": [
    "### Race and Ethnicity of Individual Data and Observations Based on \"DELAYNOTGET\" Attribute Values\n",
    "\n",
    "The identities of each race present in this data are labeled from 1 to 4:\n",
    "\n",
    "Race | Label\n",
    "-|-\n",
    "White | 1\n",
    "Black | 2\n",
    "Asian | 3\n",
    "Mixed; More than one of the above | 4\n",
    "\n"
   ]
  },
  {
   "cell_type": "code",
   "execution_count": 8,
   "metadata": {},
   "outputs": [
    {
     "data": {
      "image/png": "[encoded data removed]",
      "text/plain": [
       "<Figure size 432x288 with 1 Axes>"
      ]
     },
     "metadata": {
      "needs_background": "light"
     },
     "output_type": "display_data"
    },
    {
     "data": {
      "image/png": "[encoded data removed]",
      "text/plain": [
       "<Figure size 432x288 with 1 Axes>"
      ]
     },
     "metadata": {
      "needs_background": "light"
     },
     "output_type": "display_data"
    }
   ],
   "source": [
    "importlib.reload(mysklearn.plot_utils)\n",
    "import mysklearn.plot_utils as plot_utils\n",
    "importlib.reload(mysklearn.myutils)\n",
    "import mysklearn.myutils as myutils\n",
    "\n",
    "# Race\n",
    "race_labels = [\"White\", \"Black\", \"Asian\", \"Two or More\"]\n",
    "# get the frequencies of each race categories in the delayed/no care subtable\n",
    "delay_items, race_freq_delay = myutils.get_item_frequency(delayed_or_none.get_column(\"RRACE\"))\n",
    "# frequencies of each race categories in the care received subtable\n",
    "# care_items, race_freq_care = myutils.get_item_frequency(care_received.get_column(\"RRACE\"))\n",
    "\n",
    "# plot a bar graph for each subtable to compare which age groups were more likely to receive care, and which were more likely to be denied\n",
    "plot_utils.plot_bar(race_labels, race_freq_delay, \"Race Categories\", \"Num of Frequencies\", \"Race Frequencies for Individuals Who Were Delayed or Did Not Receive Care\")\n",
    "# plot_utils.plot_bar(race_labels, race_freq_care, \"Race Categories\", \"Num of Frequencies\", \"Race Frequencies for Individuals Who Received Care\")\n",
    "\n",
    "\n",
    "# NORMALIZE THE DATA \n",
    "\n",
    "# Ethnicity (Hispanic)\n",
    "# 1 -> no ; 2 -> yes\n",
    "hispanic_labels = [\"No\", \"Yes\"]\n",
    "# get the frequencies of each hispanic categories in the delayed/no care subtable\n",
    "delay_items, hisp_freq_delay = myutils.get_item_frequency(delayed_or_none.get_column(\"RHISPANIC\"))\n",
    "# frequencies of each hispanic categories in the care received subtable\n",
    "# care_items, hisp_freq_care = myutils.get_item_frequency(care_received.get_column(\"RHISPANIC\"))\n",
    "\n",
    "# plot a bar graph for each subtable to compare which age groups were more likely to receive care, and which were more likely to be denied\n",
    "plot_utils.plot_bar(hispanic_labels, hisp_freq_delay, \"Hispanic\", \"Num of Frequencies\", \"Hispanic Frequencies for Individuals Who Were Delayed or Did Not Receive Care\")\n",
    "# plot_utils.plot_bar(hispanic_labels, hisp_freq_care, \"Hispanic\", \"Num of Frequencies\", \"Hispanic Frequencies for Individuals Who Received Care\")"
   ]
  },
  {
   "cell_type": "markdown",
   "metadata": {},
   "source": [
    "(Add observations regarding race and ethnicity (hispanic))\n",
    "\n",
    "People who are white and people who are not hispanic were delayed or did not receive health care, (why???)\n",
    "(More research needed to explain results)"
   ]
  },
  {
   "cell_type": "markdown",
   "metadata": {},
   "source": [
    "### Gender of Individual Data and Observations Based on \"DELAYNOTGET\" Attribute Values\n",
    "(Does not specify whether the individual is transgender or cisgender)\n",
    "\n",
    "Gender/Sex | Label\n",
    "-|-\n",
    "Male | 1\n",
    "Female | 2"
   ]
  },
  {
   "cell_type": "code",
   "execution_count": 9,
   "metadata": {},
   "outputs": [
    {
     "data": {
      "image/png": "[encoded data removed]",
      "text/plain": [
       "<Figure size 432x288 with 1 Axes>"
      ]
     },
     "metadata": {
      "needs_background": "light"
     },
     "output_type": "display_data"
    }
   ],
   "source": [
    "importlib.reload(mysklearn.plot_utils)\n",
    "import mysklearn.plot_utils as plot_utils\n",
    "importlib.reload(mysklearn.myutils)\n",
    "import mysklearn.myutils as myutils\n",
    "\n",
    "# Gender/Sex\n",
    "sex_labels = [\"Male\", \"Female\"]\n",
    "# get the frequencies of each gender categories in the delayed/no care subtable\n",
    "delay_items, sex_freq_delay = myutils.get_item_frequency(delayed_or_none.get_column(\"EGENDER\"))\n",
    "# frequencies of each gender categories in the care received subtable\n",
    "# care_items, sex_freq_care = myutils.get_item_frequency(care_received.get_column(\"EGENDER\"))\n",
    "\n",
    "# plot a bar graph for each subtable to compare which age groups were more likely to receive care, and which were more likely to be denied\n",
    "plot_utils.plot_bar(sex_labels, sex_freq_delay, \"Gender\", \"Num of Frequencies\", \"Gender Frequencies for Individuals Who Were Delayed or Did Not Receive Care\")\n",
    "# plot_utils.plot_bar(sex_labels, sex_freq_care, \"Gender Categories\", \"Num of Frequencies\", \"Gender Frequencies for Individuals Who Received Care\")"
   ]
  },
  {
   "cell_type": "markdown",
   "metadata": {},
   "source": [
    "(Add observations regarding gender)"
   ]
  },
  {
   "cell_type": "markdown",
   "metadata": {},
   "source": [
    "### Education Level Data and Observations Based on \"DELAYNOTGET\" Attribute Values\n",
    "\n",
    "Education Level | Label\n",
    "-|-\n",
    "Less than high school | 1\n",
    "Some high school | 2\n",
    "High school graduate or equivalent | 3\n",
    "Some college | 4\n",
    "Associate's degree | 5\n",
    "Bachelor's degree | 6\n",
    "Graduate degree | 7"
   ]
  },
  {
   "cell_type": "code",
   "execution_count": 10,
   "metadata": {},
   "outputs": [
    {
     "data": {
      "image/png": "[encoded data removed]",
      "text/plain": [
       "<Figure size 432x288 with 1 Axes>"
      ]
     },
     "metadata": {
      "needs_background": "light"
     },
     "output_type": "display_data"
    }
   ],
   "source": [
    "importlib.reload(mysklearn.plot_utils)\n",
    "import mysklearn.plot_utils as plot_utils\n",
    "importlib.reload(mysklearn.myutils)\n",
    "import mysklearn.myutils as myutils\n",
    "\n",
    "# Education\n",
    "ed_labels = [\"< High School\", \"Some High School\", \"High School/GED\", \"Some College\", \"Associate's\", \"Bachelor's\", \"Graduate\"]\n",
    "# get the frequencies of each education categories in the delayed/no care subtable\n",
    "delay_items, ed_freq_delay = myutils.get_item_frequency(delayed_or_none.get_column(\"EEDUC\"))\n",
    "# frequencies of each education categories in the care received subtable\n",
    "# care_items, ed_freq_care = myutils.get_item_frequency(care_received.get_column(\"EEDUC\"))\n",
    "\n",
    "# plot a bar graph for each subtable to compare which age groups were more likely to receive care, and which were more likely to be denied\n",
    "plot_utils.plot_bar(ed_labels, ed_freq_delay, \"Education Level\", \"Num of Frequencies\", \"Education Frequencies for Individuals Who Were Delayed or Did Not Receive Care\")\n",
    "# plot_utils.plot_bar(ed_labels, ed_freq_care, \"Education Level\", \"Num of Frequencies\", \"Education Frequencies for Individuals Who Received Care\")"
   ]
  },
  {
   "cell_type": "markdown",
   "metadata": {},
   "source": [
    "(Add observations regarding education level here)"
   ]
  },
  {
   "cell_type": "markdown",
   "metadata": {},
   "source": [
    "### Income Data and Observations Based on \"DELAYNOTGET\" Attribute Values\n",
    "\n",
    "Income | Label\n",
    "-|-\n",
    "< 25,000 | 1\n",
    "25,000 - 34,999 | 2\n",
    "35,000 - 49,999 | 3\n",
    "50,000 - 74,999 | 4\n",
    "75,000 - 99,999 | 5\n",
    "100,000 - 149,999 | 6\n",
    "150,000 - 199,999 | 7\n",
    "200,000 < | 8"
   ]
  },
  {
   "cell_type": "code",
   "execution_count": 11,
   "metadata": {},
   "outputs": [
    {
     "data": {
      "image/png": "[encoded data removed]",
      "text/plain": [
       "<Figure size 432x288 with 1 Axes>"
      ]
     },
     "metadata": {
      "needs_background": "light"
     },
     "output_type": "display_data"
    }
   ],
   "source": [
    "importlib.reload(mysklearn.plot_utils)\n",
    "import mysklearn.plot_utils as plot_utils\n",
    "importlib.reload(mysklearn.myutils)\n",
    "import mysklearn.myutils as myutils\n",
    "\n",
    "# Income\n",
    "income_labels = [\"< $25K\", \"$25K-$34,999\", \"$35K-$49,999\", \"$35K-$74,999\", \"$75K-$99,999\", \"$100K-$149,999\", \"$150K-$199,999\", \"> $200K\"]\n",
    "# get the frequencies of each income categories in the delayed/no care subtable\n",
    "delay_items, income_freq_delay = myutils.get_item_frequency(delayed_or_none.get_column(\"INCOME\"))\n",
    "# frequencies of each income categories in the care received subtable\n",
    "# care_items, income_freq_care = myutils.get_item_frequency(care_received.get_column(\"INCOME\"))\n",
    "\n",
    "# plot a bar graph for each subtable to compare which age groups were more likely to receive care, and which were more likely to be denied\n",
    "plot_utils.plot_bar(income_labels, income_freq_delay, \"Income Range\", \"Num of Frequencies\", \"Income Frequencies for Individuals Who Were Delayed or Did Not Receive Care\")\n",
    "# plot_utils.plot_bar(income_labels, income_freq_care, \"Income Range\", \"Num of Frequencies\", \"Income Frequencies for Individuals Who Received Care\")"
   ]
  },
  {
   "cell_type": "markdown",
   "metadata": {},
   "source": [
    "(Add observations regarding income range and care)\n",
    "Unfortunately, many people who have a lower income have been delayed or did not receive healthcare. This could be due to a lack of affordable resources for healthcare..."
   ]
  },
  {
   "cell_type": "markdown",
   "metadata": {},
   "source": [
    "# (ADDITIONAL GRAPHS TO ADD)\n",
    "- Maybe add the attribute \"WRKLOSS\" to the condensed data to compare job loss to the loss of income to a lack of access for care"
   ]
  },
  {
   "cell_type": "code",
   "execution_count": null,
   "metadata": {},
   "outputs": [],
   "source": []
  }
 ],
 "metadata": {
  "kernelspec": {
   "display_name": "Python 3",
   "language": "python",
   "name": "python3"
  },
  "language_info": {
   "codemirror_mode": {
    "name": "ipython",
    "version": 3
   },
   "file_extension": ".py",
   "mimetype": "text/x-python",
   "name": "python",
   "nbconvert_exporter": "python",
   "pygments_lexer": "ipython3",
   "version": "3.8.5"
  }
 },
 "nbformat": 4,
 "nbformat_minor": 4
}
