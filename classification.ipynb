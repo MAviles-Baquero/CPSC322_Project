{
 "cells": [
  {
   "cell_type": "markdown",
   "metadata": {},
   "source": [
    "# COVID-19's Impact on Healthcare Accessibility\n",
    "### By: Tristan Call and Maria Elena Aviles-Baquero\n",
    "\n",
    "# Classification\n",
    "In this document we will aim to apply classifiers to the dataset"
   ]
  },
  {
   "cell_type": "markdown",
   "metadata": {},
   "source": [
    "(question about this notebook: what is the difference b/w this one and the EDA?)"
   ]
  },
  {
   "cell_type": "code",
   "execution_count": null,
   "metadata": {},
   "outputs": [],
   "source": [
    "# some useful mysklearn package import statements and reloads\n",
    "import importlib\n",
    "\n",
    "import mysklearn.myutils\n",
    "importlib.reload(mysklearn.myutils)\n",
    "import mysklearn.myutils as myutils\n",
    "\n",
    "# uncomment once you paste your mypytable.py into mysklearn package\n",
    "import mysklearn.mypytable\n",
    "importlib.reload(mysklearn.mypytable)\n",
    "from mysklearn.mypytable import MyPyTable \n",
    "\n",
    "import mysklearn.plot_utils\n",
    "importlib.reload(mysklearn.plot_utils)\n",
    "import mysklearn.plot_utils as plot_utils\n",
    "\n",
    "import mysklearn.myclassifiers\n",
    "importlib.reload(mysklearn.myclassifiers)\n",
    "from mysklearn.myclassifiers import MyKNeighborsClassifier, MySimpleLinearRegressor, MyNaiveBayesClassifier, MyDecisionTreeClassifier, MyZeroRClassifier, MyRandomClassifier, MyRandomForestClassifier\n",
    "\n",
    "import mysklearn.myevaluation\n",
    "importlib.reload(mysklearn.myevaluation)\n",
    "import mysklearn.myevaluation as myevaluation\n",
    "\n",
    "import os\n",
    "import pandas as pd\n",
    "from tabulate import tabulate"
   ]
  },
  {
   "cell_type": "code",
   "execution_count": null,
   "metadata": {},
   "outputs": [],
   "source": [
    "importlib.reload(mysklearn.myutils)\n",
    "import mysklearn.myutils as myutils\n",
    "\n",
    "working_data_filename = os.path.join(\"input_data\", \"week21_working.csv\")\n",
    "\n",
    "# Load the data into a mypytable for future analysis\n",
    "overall_table = MyPyTable()\n",
    "overall_table.load_from_file(working_data_filename)\n",
    "overall_table.convert_to_numeric()\n",
    "\n",
    "# Convert year into bigger categorical chunks\n",
    "year_col = overall_table.get_column(\"TBIRTH_YEAR\")\n",
    "year_label = [str(1932 + 10 * x) + \" to \" + str(1941 + 10 * x) for x in range(6)]\n",
    "year_label.append(\"1992 to 2002\")\n",
    "cutoffs = [1932 + 10 * x for x in range(8)]\n",
    "year_col = myutils.categorize_continuous_list(year_col, cutoffs, year_label)\n",
    "\n",
    "# Create DELAYNOTGET column\n",
    "delay = overall_table.get_column(\"DELAY\")\n",
    "notget = overall_table.get_column(\"NOTGET\")\n",
    "delaynotget = []\n",
    "for i in range(len(delay)):\n",
    "    if delay[i] == 1 or notget[i] == 1:\n",
    "        delaynotget.append(1)\n",
    "    else:\n",
    "        delaynotget.append(2)\n",
    "        \n",
    "# Combine all the above into the overall_table\n",
    "overall_table.column_names.append(\"DELAYNOTGET\")\n",
    "overall_table.data = [[overall_table.data[i][0]] + [year_col[i]] + overall_table.data[i][2:] + [delaynotget[i]] for i in range(len(year_col))]\n",
    "print(len(overall_table.data))"
   ]
  },
  {
   "cell_type": "markdown",
   "metadata": {},
   "source": [
    "# Copy from here"
   ]
  },
  {
   "cell_type": "markdown",
   "metadata": {},
   "source": [
    "# Classification\n",
    "First we will break the information into the appropriate format"
   ]
  },
  {
   "cell_type": "code",
   "execution_count": null,
   "metadata": {},
   "outputs": [],
   "source": [
    "# Break information into X_train and class_label\n",
    "X_train = overall_table.get_columns([\"TBIRTH_YEAR\", \"EGENDER\", \"RHISPANIC\", \"RRACE\", \"EEDUC\", \"INCOME\"])\n",
    "X_train = X_train.data\n",
    "Y_train = overall_table.get_column(\"DELAYNOTGET\")"
   ]
  },
  {
   "cell_type": "markdown",
   "metadata": {},
   "source": [
    "### Process\n",
    "To find the best classifier, we first computed 2 baseline classifiers, ZeroR and random. We then tested naive bayes, decision tree, and random forest classifiers and looked at how they compared to the baselines and each other. All of these classifiers were loosley based on the sklearn implementation, but featured simpler algorithms and less streamlining (https://scikit-learn.org/stable/).\n",
    "\n",
    "### Evaluation\n",
    "To determine which classifier was the best, we ran each of them over a stratified 10-fold cross validation testing technique for accuracy. The exception was the random forest classifier, which required its own unique approach. We then plugged these results into a confusion matrix to determine if the classifier was better at one or another prediction. Given roughly equal accuracy (within about 1%), the classifier where the recognition rates of all class labels were closer to being the same won out. Meaning any classifier which at least matched the zero R classifier in accuracy, but didn't have a 0%, 100% split in recognition rates, would win out."
   ]
  },
  {
   "cell_type": "markdown",
   "metadata": {},
   "source": [
    "## Compute the Baseline\n",
    "First we will compute the baseline classifiers to get an idea of how must we must improve our classifiers.\n",
    "### Zero R"
   ]
  },
  {
   "cell_type": "code",
   "execution_count": 4,
   "metadata": {},
   "outputs": [
    {
     "name": "stdout",
     "output_type": "stream",
     "text": [
      "===========================================\n",
      "Predictive Accuracy\n",
      "===========================================\n",
      "Stratified 10-Fold Cross Validation\n",
      "Zero R: accuracy = 0.614735226400614, error rate = 0.38526477359938605\n"
     ]
    }
   ],
   "source": [
    "print('''===========================================\n",
    "Predictive Accuracy\n",
    "===========================================\n",
    "Stratified 10-Fold Cross Validation''')\n",
    "k = 10\n",
    "all_predicted_delay_zero = []\n",
    "all_actual_delay_zero = []\n",
    "\n",
    "# Get training data\n",
    "train_folds, test_folds = myevaluation.stratified_kfold_cross_validation(X_train, Y_train, k)\n",
    "for i in range(k):\n",
    "    # Sort training data\n",
    "    xtrain = myutils.distribute_data_by_index(X_train, train_folds[i])\n",
    "    ytrain = myutils.distribute_data_by_index(Y_train, train_folds[i])\n",
    "    xtest = myutils.distribute_data_by_index(X_train, test_folds[i])\n",
    "    ytest = myutils.distribute_data_by_index(Y_train, test_folds[i])\n",
    "\n",
    "    # Compute prediction and convert\n",
    "    zero = MyZeroRClassifier()\n",
    "    zero.fit(xtrain, ytrain)\n",
    "    predicted_delay = zero.predict(xtest)\n",
    "    all_predicted_delay_zero += predicted_delay\n",
    "    all_actual_delay_zero += ytest\n",
    "    \n",
    "# Calculate overall accuracy\n",
    "accuracy = myutils.calculate_accuracy(all_predicted_delay_zero, all_actual_delay_zero)\n",
    "error_rate = 1- accuracy\n",
    "\n",
    "print(\"Zero R: accuracy = \" + str(accuracy) + \", error rate = \" + str(error_rate))"
   ]
  },
  {
   "cell_type": "code",
   "execution_count": 5,
   "metadata": {},
   "outputs": [
    {
     "name": "stdout",
     "output_type": "stream",
     "text": [
      "===========================================\n",
      "Confusion Matrices\n",
      "===========================================\n",
      "Zero R (Stratified 10-Fold Cross Validation):\n",
      "==================  ==================  =============  =======  =================\n",
      "Delayed/canceled      Delayed/canceled    Not delayed    Total    Recognition (%)\n",
      "==================  ==================  =============  =======  =================\n",
      "Delayed/canceled                     0           1506     1506                  0\n",
      "Not delayed                          0           2403     2403                100\n",
      "==================  ==================  =============  =======  =================\n"
     ]
    }
   ],
   "source": [
    "print('''===========================================\n",
    "Confusion Matrices\n",
    "===========================================\n",
    "Zero R (Stratified 10-Fold Cross Validation):''')\n",
    "\n",
    "ylabels = list(set(Y_train))\n",
    "matrix = myevaluation.confusion_matrix(all_actual_delay_zero, all_predicted_delay_zero, ylabels)\n",
    "header = myutils.format_confusion_matrix_into_table(matrix, [\"Delayed/canceled\", \"Not delayed\"], \"Delayed/canceled\")\n",
    "\n",
    "print(tabulate(matrix, headers=header, tablefmt=\"rst\", numalign=\"right\"))"
   ]
  },
  {
   "cell_type": "markdown",
   "metadata": {},
   "source": [
    "### Random Classifier"
   ]
  },
  {
   "cell_type": "code",
   "execution_count": 6,
   "metadata": {},
   "outputs": [
    {
     "name": "stdout",
     "output_type": "stream",
     "text": [
      "===========================================\n",
      "Predictive Accuracy\n",
      "===========================================\n",
      "Stratified 10-Fold Cross Validation\n",
      "Random: accuracy = 0.5154771041187004, error rate = 0.4845228958812996\n"
     ]
    }
   ],
   "source": [
    "print('''===========================================\n",
    "Predictive Accuracy\n",
    "===========================================\n",
    "Stratified 10-Fold Cross Validation''')\n",
    "k = 10\n",
    "all_predicted_delay_random = []\n",
    "all_actual_delay_random = []\n",
    "\n",
    "# Get training data\n",
    "train_folds, test_folds = myevaluation.stratified_kfold_cross_validation(X_train, Y_train, k)\n",
    "for i in range(k):\n",
    "    # Sort training data\n",
    "    xtrain = myutils.distribute_data_by_index(X_train, train_folds[i])\n",
    "    ytrain = myutils.distribute_data_by_index(Y_train, train_folds[i])\n",
    "    xtest = myutils.distribute_data_by_index(X_train, test_folds[i])\n",
    "    ytest = myutils.distribute_data_by_index(Y_train, test_folds[i])\n",
    "\n",
    "    # Compute prediction and convert\n",
    "    random = MyRandomClassifier()\n",
    "    random.fit(xtrain, ytrain)\n",
    "    predicted_delay = random.predict(xtest)\n",
    "    all_predicted_delay_random += predicted_delay\n",
    "    all_actual_delay_random += ytest\n",
    "    \n",
    "# Calculate overall accuracy\n",
    "accuracy = myutils.calculate_accuracy(all_predicted_delay_random, all_actual_delay_random)\n",
    "error_rate = 1- accuracy\n",
    "\n",
    "print(\"Random: accuracy = \" + str(accuracy) + \", error rate = \" + str(error_rate))"
   ]
  },
  {
   "cell_type": "code",
   "execution_count": 7,
   "metadata": {},
   "outputs": [
    {
     "name": "stdout",
     "output_type": "stream",
     "text": [
      "===========================================\n",
      "Confusion Matrices\n",
      "===========================================\n",
      "Random (Stratified 10-Fold Cross Validation):\n",
      "==================  ==================  =============  =======  =================\n",
      "Delayed/canceled      Delayed/canceled    Not delayed    Total    Recognition (%)\n",
      "==================  ==================  =============  =======  =================\n",
      "Delayed/canceled                   573            933     1506              38.05\n",
      "Not delayed                        961           1442     2403              60.01\n",
      "==================  ==================  =============  =======  =================\n"
     ]
    }
   ],
   "source": [
    "print('''===========================================\n",
    "Confusion Matrices\n",
    "===========================================\n",
    "Random (Stratified 10-Fold Cross Validation):''')\n",
    "\n",
    "ylabels = list(set(Y_train))\n",
    "matrix = myevaluation.confusion_matrix(all_actual_delay_random, all_predicted_delay_random, ylabels)\n",
    "header = myutils.format_confusion_matrix_into_table(matrix, [\"Delayed/canceled\", \"Not delayed\"], \"Delayed/canceled\")\n",
    "\n",
    "print(tabulate(matrix, headers=header, tablefmt=\"rst\", numalign=\"right\"))"
   ]
  },
  {
   "cell_type": "markdown",
   "metadata": {},
   "source": [
    "## Compute Actual Classifiers\n",
    "Next we try running naive bayes, decision tree, and random forest classifiers over our database and see how they compare."
   ]
  },
  {
   "cell_type": "markdown",
   "metadata": {},
   "source": [
    "### Naive Bayes"
   ]
  },
  {
   "cell_type": "code",
   "execution_count": 8,
   "metadata": {},
   "outputs": [
    {
     "name": "stdout",
     "output_type": "stream",
     "text": [
      "===========================================\n",
      "Predictive Accuracy\n",
      "===========================================\n",
      "Stratified 10-Fold Cross Validation\n",
      "Naive bayes: accuracy = 0.6144794064978255, error rate = 0.3855205935021745\n"
     ]
    }
   ],
   "source": [
    "print('''===========================================\n",
    "Predictive Accuracy\n",
    "===========================================\n",
    "Stratified 10-Fold Cross Validation''')\n",
    "k = 10\n",
    "all_predicted_delay_bayes = []\n",
    "all_actual_delay_bayes = []\n",
    "\n",
    "# Get training data\n",
    "train_folds, test_folds = myevaluation.stratified_kfold_cross_validation(X_train, Y_train, k)\n",
    "for i in range(k):\n",
    "    # Sort training data\n",
    "    xtrain = myutils.distribute_data_by_index(X_train, train_folds[i])\n",
    "    ytrain = myutils.distribute_data_by_index(Y_train, train_folds[i])\n",
    "    xtest = myutils.distribute_data_by_index(X_train, test_folds[i])\n",
    "    ytest = myutils.distribute_data_by_index(Y_train, test_folds[i])\n",
    "\n",
    "    # Compute prediction and convert\n",
    "    bayes = MyNaiveBayesClassifier()\n",
    "    bayes.fit(xtrain, ytrain)\n",
    "    predicted_delay = bayes.predict(xtest)\n",
    "    all_predicted_delay_bayes += predicted_delay\n",
    "    all_actual_delay_bayes += ytest\n",
    "    \n",
    "# Calculate overall accuracy\n",
    "accuracy = myutils.calculate_accuracy(all_predicted_delay_bayes, all_actual_delay_bayes)\n",
    "error_rate = 1- accuracy\n",
    "\n",
    "print(\"Naive bayes: accuracy = \" + str(accuracy) + \", error rate = \" + str(error_rate))"
   ]
  },
  {
   "cell_type": "code",
   "execution_count": 9,
   "metadata": {},
   "outputs": [
    {
     "name": "stdout",
     "output_type": "stream",
     "text": [
      "===========================================\n",
      "Confusion Matrices\n",
      "===========================================\n",
      "Naive bayes (Stratified 10-Fold Cross Validation):\n",
      "==================  ==================  =============  =======  =================\n",
      "Delayed/canceled      Delayed/canceled    Not delayed    Total    Recognition (%)\n",
      "==================  ==================  =============  =======  =================\n",
      "Delayed/canceled                   221           1285     1506              14.67\n",
      "Not delayed                        222           2181     2403              90.76\n",
      "==================  ==================  =============  =======  =================\n"
     ]
    }
   ],
   "source": [
    "print('''===========================================\n",
    "Confusion Matrices\n",
    "===========================================\n",
    "Naive bayes (Stratified 10-Fold Cross Validation):''')\n",
    "\n",
    "ylabels = list(set(Y_train))\n",
    "matrix = myevaluation.confusion_matrix(all_actual_delay_bayes, all_predicted_delay_bayes, ylabels)\n",
    "header = myutils.format_confusion_matrix_into_table(matrix, [\"Delayed/canceled\", \"Not delayed\"], \"Delayed/canceled\")\n",
    "\n",
    "print(tabulate(matrix, headers=header, tablefmt=\"rst\", numalign=\"right\"))"
   ]
  },
  {
   "cell_type": "markdown",
   "metadata": {},
   "source": [
    "Naive Bayes had comparable accuracy to the Zero R classifier, as well as better delayed/canceled recognition. It also has better accuracy, and worse recognition than the random classifier."
   ]
  },
  {
   "cell_type": "markdown",
   "metadata": {},
   "source": [
    "### Decision Tree"
   ]
  },
  {
   "cell_type": "code",
   "execution_count": 63,
   "metadata": {},
   "outputs": [
    {
     "name": "stdout",
     "output_type": "stream",
     "text": [
      "===========================================\n",
      "Predictive Accuracy\n",
      "===========================================\n",
      "Stratified 10-Fold Cross Validation\n",
      "Decision Tree: accuracy = 0.6091071885392684, error rate = 0.3908928114607316\n"
     ]
    }
   ],
   "source": [
    "print('''===========================================\n",
    "Predictive Accuracy\n",
    "===========================================\n",
    "Stratified 10-Fold Cross Validation''')\n",
    "k = 10\n",
    "all_predicted_delay_tree = []\n",
    "all_actual_delay_tree = []\n",
    "\n",
    "# Get training data\n",
    "train_folds, test_folds = myevaluation.stratified_kfold_cross_validation(X_train, Y_train, k)\n",
    "for i in range(k):\n",
    "    # Sort training data\n",
    "    xtrain = myutils.distribute_data_by_index(X_train, train_folds[i])\n",
    "    ytrain = myutils.distribute_data_by_index(Y_train, train_folds[i])\n",
    "    xtest = myutils.distribute_data_by_index(X_train, test_folds[i])\n",
    "    ytest = myutils.distribute_data_by_index(Y_train, test_folds[i])\n",
    "\n",
    "    # Compute prediction and convert\n",
    "    tree = MyDecisionTreeClassifier()\n",
    "    tree.fit(xtrain, ytrain, ['RHISPANIC', 'RRACE', 'TBIRTH_YEAR', 'INCOME', 'label'])\n",
    "    predicted_delay = tree.predict(xtest)\n",
    "    all_predicted_delay_tree += predicted_delay\n",
    "    all_actual_delay_tree += ytest\n",
    "# Calculate overall accuracy\n",
    "accuracy = myutils.calculate_accuracy(all_predicted_delay_tree, all_actual_delay_tree)\n",
    "error_rate = 1- accuracy\n",
    "\n",
    "print(\"Decision Tree: accuracy = \" + str(accuracy) + \", error rate = \" + str(error_rate))"
   ]
  },
  {
   "cell_type": "code",
   "execution_count": 64,
   "metadata": {},
   "outputs": [
    {
     "name": "stdout",
     "output_type": "stream",
     "text": [
      "===========================================\n",
      "Confusion Matrices\n",
      "===========================================\n",
      "Decision Tree (Stratified 10-Fold Cross Validation):\n",
      "==================  ==================  =============  =======  =================\n",
      "Delayed/canceled      Delayed/canceled    Not delayed    Total    Recognition (%)\n",
      "==================  ==================  =============  =======  =================\n",
      "Delayed/canceled                   157           1349     1506              10.42\n",
      "Not delayed                        179           2224     2403              92.55\n",
      "==================  ==================  =============  =======  =================\n"
     ]
    }
   ],
   "source": [
    "print('''===========================================\n",
    "Confusion Matrices\n",
    "===========================================\n",
    "Decision Tree (Stratified 10-Fold Cross Validation):''')\n",
    "\n",
    "ylabels = list(set(Y_train))\n",
    "matrix = myevaluation.confusion_matrix(all_actual_delay_tree, all_predicted_delay_tree, ylabels)\n",
    "header = myutils.format_confusion_matrix_into_table(matrix, [\"Delayed/canceled\", \"Not delayed\"], \"Delayed/canceled\")\n",
    "\n",
    "print(tabulate(matrix, headers=header, tablefmt=\"rst\", numalign=\"right\"))"
   ]
  },
  {
   "cell_type": "markdown",
   "metadata": {},
   "source": [
    "The decision tree, as you can see, did not have very good performance. It was out performed slightly by the zero R and Naive Bayes classifiers in terms of accuracy only had the benefit of better delayed/canceled recognition. The best accuracy results were found using hispanic, race, birth year, and income. Adding gender and education decreased accuracy and increased delayed/canceled recognition. With the current structure it has almost identical performance to the Naive Bayes classifier, if slightly less good. In accuracy it still outperformed the random classifier, though did worse in delayed/canceled recognition."
   ]
  },
  {
   "cell_type": "code",
   "execution_count": 75,
   "metadata": {},
   "outputs": [],
   "source": [
    "# tree = MyDecisionTreeClassifier()\n",
    "# tree.fit(X_train, Y_train)\n",
    "# tree.print_decision_rules(attribute_names=[\"TBIRTH_YEAR\", \"EGENDER\", \"RHISPANIC\", \"RRACE\", \"EEDUC\", \"INCOME\"], class_name=\"delayed/canceled (1 = yes)\")"
   ]
  },
  {
   "cell_type": "markdown",
   "metadata": {},
   "source": [
    "### Random Forest \n",
    "With the forest classifier we had to use a different method of evaluation due to the randomness that it featured. To do this we followed the random forest procedure described in class (located at https://github.com/GonzagaCPSC322/U7-Ensemble-Learning/blob/master/A%20Ensemble%20Learning.ipynb). We computed a stratified k fold cross validation with k=3. Then we selected one of the folds as our validation set, and the rest as our training set. We trained the forest over the training set, then tested it against the validation set. This was done 5 times to attempt to minimize the effects of randomness in evaluating the classifier. We then computed the overall accuracy and confusion matrixes, and continued as normal in our evaluation. "
   ]
  },
  {
   "cell_type": "code",
   "execution_count": 34,
   "metadata": {},
   "outputs": [
    {
     "name": "stdout",
     "output_type": "stream",
     "text": [
      "===========================================\n",
      "Predictive Accuracy\n",
      "===========================================\n",
      "Individual Tree Accuracy:\n",
      "Tree attributes: ['a1'], validation accuracy: 0.6355329949238578\n",
      "Tree attributes: ['a3'], validation accuracy: 0.6347177848775293\n",
      "Tree attributes: ['a4'], validation accuracy: 0.6302083333333334\n",
      "Tree attributes: ['a0'], validation accuracy: 0.6242171189979123\n",
      "Tree attributes: ['a2'], validation accuracy: 0.6216494845360825\n",
      "Tree attributes: ['a1'], validation accuracy: 0.6223132036847492\n",
      "Tree attributes: ['a3'], validation accuracy: 0.6179196704428425\n",
      "Tree attributes: ['a5'], validation accuracy: 0.6164102564102564\n",
      "Tree attributes: ['a0'], validation accuracy: 0.6149068322981367\n",
      "Tree attributes: ['a1'], validation accuracy: 0.6148936170212767\n",
      "Tree attributes: ['a3'], validation accuracy: 0.6292016806722689\n",
      "Tree attributes: ['a5'], validation accuracy: 0.6284544524053224\n",
      "Tree attributes: ['a0'], validation accuracy: 0.6239583333333333\n",
      "Tree attributes: ['a2'], validation accuracy: 0.6226012793176973\n",
      "Tree attributes: ['a4'], validation accuracy: 0.6195995785036881\n",
      "Tree attributes: ['a4'], validation accuracy: 0.6336842105263157\n",
      "Tree attributes: ['a4'], validation accuracy: 0.6232032854209446\n",
      "Tree attributes: ['a0'], validation accuracy: 0.6141975308641975\n",
      "Tree attributes: ['a4'], validation accuracy: 0.6131013306038895\n",
      "Tree attributes: ['a0'], validation accuracy: 0.6098843322818086\n",
      "Tree attributes: ['a1'], validation accuracy: 0.6297786720321932\n",
      "Tree attributes: ['a3'], validation accuracy: 0.6297071129707112\n",
      "Tree attributes: ['a2'], validation accuracy: 0.6215932914046122\n",
      "Tree attributes: ['a3'], validation accuracy: 0.6172450052576236\n",
      "Tree attributes: ['a4'], validation accuracy: 0.611228813559322\n",
      "===========================================\n",
      "Predictive Accuracy\n",
      "===========================================\n",
      "Stratified 3-Fold Cross Validation\n",
      "Forest: accuracy = 0.614735226400614, error rate = 0.38526477359938605\n",
      "Confusion Matrices:\n",
      "==================  ==================  =============  =======  =================\n",
      "Delayed/canceled      Delayed/canceled    Not delayed    Total    Recognition (%)\n",
      "==================  ==================  =============  =======  =================\n",
      "Delayed/canceled                   333           1173     1506              22.11\n",
      "Not delayed                        462           1941     2403              80.77\n",
      "==================  ==================  =============  =======  =================\n"
     ]
    }
   ],
   "source": [
    "N = 10\n",
    "M = 5\n",
    "F = 1\n",
    "\n",
    "print('''===========================================\n",
    "Predictive Accuracy\n",
    "===========================================''')\n",
    "print(\"Individual Tree Accuracy:\")\n",
    "all_predicted_forest = []\n",
    "all_actual_forest = []\n",
    "# Run tests of each parameter 5 times\n",
    "for i in range(5):\n",
    "    forest = MyRandomForestClassifier(N, F, M)\n",
    "    accuracy, predicted, actual = forest.test_tree_stratified_kfold(X_train, Y_train)\n",
    "    all_predicted_forest += predicted\n",
    "    all_actual_forest += actual\n",
    "    \n",
    "    # Print off each trees individual validation acccuracy\n",
    "    for tree in forest.chosen_trees:\n",
    "        print(\"Tree attributes: \" + str(tree['attributes']) + \", validation accuracy: \" + str(tree['accuracy']))\n",
    "    \n",
    "accuracy = myutils.calculate_accuracy(all_predicted_forest, all_actual_forest)\n",
    "error_rate = 1- accuracy\n",
    "print('''===========================================\n",
    "Predictive Accuracy\n",
    "===========================================\n",
    "Stratified 3-Fold Cross Validation''')\n",
    "print(\"Forest: accuracy = \" + str(accuracy) + \", error rate = \" + str(error_rate))\n",
    "print('''Confusion Matrices:''')\n",
    "\n",
    "ylabels = list(set(Y_train))\n",
    "matrix = myevaluation.confusion_matrix(all_actual_delay_tree, all_predicted_delay_tree, ylabels)\n",
    "header = myutils.format_confusion_matrix_into_table(matrix, [\"Delayed/canceled\", \"Not delayed\"], \"Delayed/canceled\")\n",
    "\n",
    "print(tabulate(matrix, headers=header, tablefmt=\"rst\", numalign=\"right\"))"
   ]
  },
  {
   "cell_type": "code",
   "execution_count": 35,
   "metadata": {},
   "outputs": [
    {
     "name": "stdout",
     "output_type": "stream",
     "text": [
      "===========================================\n",
      "Predictive Accuracy\n",
      "===========================================\n",
      "Individual Tree Accuracy:\n",
      "Tree attributes: ['a1', 'a2', 'a0', 'a4'], validation accuracy: 0.6197478991596639\n",
      "Tree attributes: ['a1', 'a3', 'a2', 'a0'], validation accuracy: 0.6170678336980306\n",
      "Tree attributes: ['a3', 'a1', 'a2', 'a4'], validation accuracy: 0.6162162162162163\n",
      "Tree attributes: ['a0', 'a3', 'a2', 'a4'], validation accuracy: 0.6078431372549019\n",
      "Tree attributes: ['a4', 'a5', 'a3', 'a0'], validation accuracy: 0.6058091286307054\n",
      "Tree attributes: ['a5', 'a2', 'a4', 'a1'], validation accuracy: 0.6201716738197425\n",
      "Tree attributes: ['a1', 'a4', 'a5', 'a0'], validation accuracy: 0.6127049180327869\n",
      "Tree attributes: ['a5', 'a1', 'a0', 'a4'], validation accuracy: 0.6123711340206186\n",
      "Tree attributes: ['a1', 'a3', 'a2', 'a4'], validation accuracy: 0.6086508753861998\n",
      "Tree attributes: ['a3', 'a4', 'a0', 'a5'], validation accuracy: 0.6086021505376344\n",
      "Tree attributes: ['a1', 'a2', 'a3', 'a4'], validation accuracy: 0.625\n",
      "Tree attributes: ['a3', 'a4', 'a5', 'a1'], validation accuracy: 0.622680412371134\n",
      "Tree attributes: ['a2', 'a0', 'a1', 'a3'], validation accuracy: 0.6107178968655207\n",
      "Tree attributes: ['a3', 'a4', 'a5', 'a1'], validation accuracy: 0.6105919003115264\n",
      "Tree attributes: ['a1', 'a3', 'a5', 'a4'], validation accuracy: 0.610062893081761\n",
      "Tree attributes: ['a5', 'a3', 'a4', 'a1'], validation accuracy: 0.6171366594360087\n",
      "Tree attributes: ['a5', 'a0', 'a2', 'a4'], validation accuracy: 0.6150583244962884\n",
      "Tree attributes: ['a5', 'a0', 'a1', 'a2'], validation accuracy: 0.6146694214876033\n",
      "Tree attributes: ['a3', 'a4', 'a5', 'a2'], validation accuracy: 0.6029258098223615\n",
      "Tree attributes: ['a1', 'a5', 'a0', 'a3'], validation accuracy: 0.5989583333333334\n",
      "Tree attributes: ['a3', 'a5', 'a2', 'a4'], validation accuracy: 0.6243272335844995\n",
      "Tree attributes: ['a2', 'a5', 'a0', 'a1'], validation accuracy: 0.6160337552742616\n",
      "Tree attributes: ['a0', 'a5', 'a4', 'a3'], validation accuracy: 0.6083333333333333\n",
      "Tree attributes: ['a5', 'a3', 'a0', 'a4'], validation accuracy: 0.6077170418006431\n",
      "Tree attributes: ['a4', 'a2', 'a5', 'a0'], validation accuracy: 0.6069246435845214\n",
      "===========================================\n",
      "Predictive Accuracy\n",
      "===========================================\n",
      "Stratified 3-Fold Cross Validation\n",
      "Forest: accuracy = 0.6079815809669993, error rate = 0.3920184190330007\n",
      "Confusion Matrices:\n",
      "==================  ==================  =============  =======  =================\n",
      "Delayed/canceled      Delayed/canceled    Not delayed    Total    Recognition (%)\n",
      "==================  ==================  =============  =======  =================\n",
      "Delayed/canceled                   333           1173     1506              22.11\n",
      "Not delayed                        462           1941     2403              80.77\n",
      "==================  ==================  =============  =======  =================\n"
     ]
    }
   ],
   "source": [
    "N = 10\n",
    "M = 5\n",
    "F = 4\n",
    "\n",
    "print('''===========================================\n",
    "Predictive Accuracy\n",
    "===========================================''')\n",
    "print(\"Individual Tree Accuracy:\")\n",
    "all_predicted_forest = []\n",
    "all_actual_forest = []\n",
    "# Run tests of each parameter 5 times\n",
    "for i in range(5):\n",
    "    forest = MyRandomForestClassifier(N, F, M)\n",
    "    accuracy, predicted, actual = forest.test_tree_stratified_kfold(X_train, Y_train)\n",
    "    all_predicted_forest += predicted\n",
    "    all_actual_forest += actual\n",
    "    \n",
    "    # Print off each trees individual validation acccuracy\n",
    "    for tree in forest.chosen_trees:\n",
    "        print(\"Tree attributes: \" + str(tree['attributes']) + \", validation accuracy: \" + str(tree['accuracy']))\n",
    "    \n",
    "accuracy = myutils.calculate_accuracy(all_predicted_forest, all_actual_forest)\n",
    "error_rate = 1- accuracy\n",
    "print('''===========================================\n",
    "Predictive Accuracy\n",
    "===========================================\n",
    "Stratified 3-Fold Cross Validation''')\n",
    "print(\"Forest: accuracy = \" + str(accuracy) + \", error rate = \" + str(error_rate))\n",
    "print('''Confusion Matrices:''')\n",
    "\n",
    "ylabels = list(set(Y_train))\n",
    "matrix = myevaluation.confusion_matrix(all_actual_delay_tree, all_predicted_delay_tree, ylabels)\n",
    "header = myutils.format_confusion_matrix_into_table(matrix, [\"Delayed/canceled\", \"Not delayed\"], \"Delayed/canceled\")\n",
    "\n",
    "print(tabulate(matrix, headers=header, tablefmt=\"rst\", numalign=\"right\"))"
   ]
  },
  {
   "cell_type": "markdown",
   "metadata": {},
   "source": [
    "Increasing F seems to have only decreased the accuracy of the classifier."
   ]
  },
  {
   "cell_type": "code",
   "execution_count": 38,
   "metadata": {},
   "outputs": [
    {
     "name": "stdout",
     "output_type": "stream",
     "text": [
      "===========================================\n",
      "Predictive Accuracy\n",
      "===========================================\n",
      "Individual Tree Accuracy:\n",
      "Tree attributes: ['a4', 'a1'], validation accuracy: 0.6466165413533834\n",
      "Tree attributes: ['a1', 'a3'], validation accuracy: 0.6236786469344608\n",
      "Tree attributes: ['a2', 'a5'], validation accuracy: 0.6220806794055201\n",
      "Tree attributes: ['a5', 'a1'], validation accuracy: 0.6194594594594595\n",
      "Tree attributes: ['a0', 'a3'], validation accuracy: 0.6194503171247357\n",
      "Tree attributes: ['a0', 'a3'], validation accuracy: 0.6274921301154249\n",
      "Tree attributes: ['a1', 'a3'], validation accuracy: 0.6257995735607675\n",
      "Tree attributes: ['a0', 'a4'], validation accuracy: 0.6175548589341693\n",
      "Tree attributes: ['a1', 'a3'], validation accuracy: 0.6173733195449845\n",
      "Tree attributes: ['a4', 'a0'], validation accuracy: 0.6161934805467929\n",
      "Tree attributes: ['a5', 'a3'], validation accuracy: 0.6307363927427961\n",
      "Tree attributes: ['a0', 'a4'], validation accuracy: 0.6218487394957983\n",
      "Tree attributes: ['a2', 'a3'], validation accuracy: 0.6186094069529653\n",
      "Tree attributes: ['a2', 'a4'], validation accuracy: 0.6148148148148148\n",
      "Tree attributes: ['a3', 'a5'], validation accuracy: 0.6147455867082036\n",
      "Tree attributes: ['a2', 'a5'], validation accuracy: 0.6198347107438017\n",
      "Tree attributes: ['a5', 'a2'], validation accuracy: 0.6196319018404908\n",
      "Tree attributes: ['a2', 'a3'], validation accuracy: 0.6190476190476191\n",
      "Tree attributes: ['a5', 'a4'], validation accuracy: 0.6139240506329114\n",
      "Tree attributes: ['a2', 'a0'], validation accuracy: 0.6135163674762407\n",
      "Tree attributes: ['a4', 'a0'], validation accuracy: 0.6376050420168067\n",
      "Tree attributes: ['a4', 'a2'], validation accuracy: 0.6330178759200841\n",
      "Tree attributes: ['a5', 'a3'], validation accuracy: 0.6216494845360825\n",
      "Tree attributes: ['a5', 'a0'], validation accuracy: 0.6159420289855072\n",
      "Tree attributes: ['a4', 'a5'], validation accuracy: 0.6150670794633643\n",
      "===========================================\n",
      "Predictive Accuracy\n",
      "===========================================\n",
      "Stratified 3-Fold Cross Validation\n",
      "Forest: accuracy = 0.6133537989255564, error rate = 0.3866462010744436\n",
      "Confusion Matrices:\n",
      "==================  ==================  =============  =======  =================\n",
      "Delayed/canceled      Delayed/canceled    Not delayed    Total    Recognition (%)\n",
      "==================  ==================  =============  =======  =================\n",
      "Delayed/canceled                   333           1173     1506              22.11\n",
      "Not delayed                        462           1941     2403              80.77\n",
      "==================  ==================  =============  =======  =================\n"
     ]
    }
   ],
   "source": [
    "N = 20\n",
    "M = 5\n",
    "F = 2\n",
    "\n",
    "print('''===========================================\n",
    "Predictive Accuracy\n",
    "===========================================''')\n",
    "print(\"Individual Tree Accuracy:\")\n",
    "all_predicted_forest = []\n",
    "all_actual_forest = []\n",
    "# Run tests of each parameter 5 times\n",
    "for i in range(5):\n",
    "    forest = MyRandomForestClassifier(N, F, M)\n",
    "    accuracy, predicted, actual = forest.test_tree_stratified_kfold(X_train, Y_train)\n",
    "    all_predicted_forest += predicted\n",
    "    all_actual_forest += actual\n",
    "    \n",
    "    # Print off each trees individual validation acccuracy\n",
    "    for tree in forest.chosen_trees:\n",
    "        print(\"Tree attributes: \" + str(tree['attributes']) + \", validation accuracy: \" + str(tree['accuracy']))\n",
    "    \n",
    "accuracy = myutils.calculate_accuracy(all_predicted_forest, all_actual_forest)\n",
    "error_rate = 1- accuracy\n",
    "print('''===========================================\n",
    "Predictive Accuracy\n",
    "===========================================\n",
    "Stratified 3-Fold Cross Validation''')\n",
    "print(\"Forest: accuracy = \" + str(accuracy) + \", error rate = \" + str(error_rate))\n",
    "print('''Confusion Matrices:''')\n",
    "\n",
    "ylabels = list(set(Y_train))\n",
    "matrix = myevaluation.confusion_matrix(all_actual_delay_tree, all_predicted_delay_tree, ylabels)\n",
    "header = myutils.format_confusion_matrix_into_table(matrix, [\"Delayed/canceled\", \"Not delayed\"], \"Delayed/canceled\")\n",
    "\n",
    "print(tabulate(matrix, headers=header, tablefmt=\"rst\", numalign=\"right\"))"
   ]
  },
  {
   "cell_type": "markdown",
   "metadata": {},
   "source": [
    "Increasing M seems to have marginally increased the accuracy, but not significantly"
   ]
  },
  {
   "cell_type": "code",
   "execution_count": 37,
   "metadata": {},
   "outputs": [
    {
     "name": "stdout",
     "output_type": "stream",
     "text": [
      "===========================================\n",
      "Predictive Accuracy\n",
      "===========================================\n",
      "Individual Tree Accuracy:\n",
      "Tree attributes: ['a2'], validation accuracy: 0.6240837696335079\n",
      "Tree attributes: ['a0'], validation accuracy: 0.6217616580310881\n",
      "Tree attributes: ['a3'], validation accuracy: 0.6426332288401254\n",
      "Tree attributes: ['a1'], validation accuracy: 0.6358921161825726\n",
      "Tree attributes: ['a5'], validation accuracy: 0.6370217166494312\n",
      "Tree attributes: ['a3'], validation accuracy: 0.6325878594249201\n",
      "Tree attributes: ['a2'], validation accuracy: 0.6551362683438156\n",
      "Tree attributes: ['a3'], validation accuracy: 0.6337148803329865\n",
      "Tree attributes: ['a2'], validation accuracy: 0.6432318992654774\n",
      "Tree attributes: ['a1'], validation accuracy: 0.6371220020855057\n",
      "===========================================\n",
      "Predictive Accuracy\n",
      "===========================================\n",
      "Stratified 3-Fold Cross Validation\n",
      "Forest: accuracy = 0.614735226400614, error rate = 0.38526477359938605\n",
      "Confusion Matrices:\n",
      "==================  ==================  =============  =======  =================\n",
      "Delayed/canceled      Delayed/canceled    Not delayed    Total    Recognition (%)\n",
      "==================  ==================  =============  =======  =================\n",
      "Delayed/canceled                   333           1173     1506              22.11\n",
      "Not delayed                        462           1941     2403              80.77\n",
      "==================  ==================  =============  =======  =================\n"
     ]
    }
   ],
   "source": [
    "N = 20\n",
    "M = 2\n",
    "F = 1\n",
    "\n",
    "print('''===========================================\n",
    "Predictive Accuracy\n",
    "===========================================''')\n",
    "print(\"Individual Tree Accuracy:\")\n",
    "all_predicted_forest = []\n",
    "all_actual_forest = []\n",
    "# Run tests of each parameter 5 times\n",
    "for i in range(5):\n",
    "    forest = MyRandomForestClassifier(N, F, M)\n",
    "    accuracy, predicted, actual = forest.test_tree_stratified_kfold(X_train, Y_train)\n",
    "    all_predicted_forest += predicted\n",
    "    all_actual_forest += actual\n",
    "    \n",
    "    # Print off each trees individual validation acccuracy\n",
    "    for tree in forest.chosen_trees:\n",
    "        print(\"Tree attributes: \" + str(tree['attributes']) + \", validation accuracy: \" + str(tree['accuracy']))\n",
    "    \n",
    "accuracy = myutils.calculate_accuracy(all_predicted_forest, all_actual_forest)\n",
    "error_rate = 1- accuracy\n",
    "print('''===========================================\n",
    "Predictive Accuracy\n",
    "===========================================\n",
    "Stratified 3-Fold Cross Validation''')\n",
    "print(\"Forest: accuracy = \" + str(accuracy) + \", error rate = \" + str(error_rate))\n",
    "print('''Confusion Matrices:''')\n",
    "\n",
    "ylabels = list(set(Y_train))\n",
    "matrix = myevaluation.confusion_matrix(all_actual_delay_tree, all_predicted_delay_tree, ylabels)\n",
    "header = myutils.format_confusion_matrix_into_table(matrix, [\"Delayed/canceled\", \"Not delayed\"], \"Delayed/canceled\")\n",
    "\n",
    "print(tabulate(matrix, headers=header, tablefmt=\"rst\", numalign=\"right\"))"
   ]
  },
  {
   "cell_type": "markdown",
   "metadata": {},
   "source": [
    "Decreasing the M value also did not noticeably modify the results.\n",
    "\n",
    "As such the best combination seems to have F=1, with M and N not having as much of an effect."
   ]
  },
  {
   "cell_type": "markdown",
   "metadata": {},
   "source": [
    "## Best Classifier\n",
    "The forest classifier accuracy outperformed all the other classifiers. In terms of accuracy it beat Naive Bayes, Decision Tree, and Random classifiers. It was on par with the zero R classifier, but had a better Delayed/canceled recognition rate. It didn't have as good a delayed/canceled recognition rate as random did, but it was significantly more accurate, making it still the better choice. As such it was the best. \n",
    "\n",
    "That said it was not a particularly good classifier. It only managed to be on par with the zero R classifier in terms of accuracy, and only counted as a better algorithm because its delayed/canceled recognition rate was superior to zero R's. More work would be required for it to be utilized in an important role."
   ]
  },
  {
   "cell_type": "markdown",
   "metadata": {},
   "source": [
    "### Heroku\n"
   ]
  },
  {
   "cell_type": "markdown",
   "metadata": {},
   "source": []
  },
  {
   "cell_type": "markdown",
   "metadata": {},
   "source": [
    "# Conclusion\n",
    "\n",
    "Overall the project was moderately successful. We started with a dataset with a number of demographic and socioeconomic attributes, and whether or not individuals suffered delayed or canceled care due to COVID-19. Ounce we found the correct dataset, we were able to relatively easily use part of that data for classification. We approached our classifiers by creating two baseline ones, then testing three others against those baselines to determine how effective they were. Our best classifier, the random forest, had comparable accuracy to the first baseline classifier with better recognition rates, and outperformed the second baseline classifier by a notable amount in accuracy. However, these results were not ideal, and future development would be needed before the classifier could be useful. \n",
    "\n",
    "Future work might try predicting based on other attributes that were included in the general dataset. Employment status, other health related information, housing status, or any number of elements may have a stronger correlation. Atlernatively, the correlations of some attributes may be greater in certain areas, such as race mattering in some states more than others. Finally, it should be noted that the current classifier utilized only about 3000 of the ~70,000 data points available in one week of a study that has been going along for at least 27 weeks due to runtime issues. Utilizing more computer power and optimized algorithms to process all of the data might reveal that the current snapshot was not representative of the whole, and should definitely be investigated."
   ]
  },
  {
   "cell_type": "code",
   "execution_count": null,
   "metadata": {},
   "outputs": [],
   "source": []
  }
 ],
 "metadata": {
  "kernelspec": {
   "display_name": "Python 3",
   "language": "python",
   "name": "python3"
  },
  "language_info": {
   "codemirror_mode": {
    "name": "ipython",
    "version": 3
   },
   "file_extension": ".py",
   "mimetype": "text/x-python",
   "name": "python",
   "nbconvert_exporter": "python",
   "pygments_lexer": "ipython3",
   "version": "3.8.5"
  }
 },
 "nbformat": 4,
 "nbformat_minor": 4
}
