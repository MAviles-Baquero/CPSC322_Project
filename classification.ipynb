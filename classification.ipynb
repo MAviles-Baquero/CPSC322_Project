{
 "cells": [
  {
   "cell_type": "markdown",
   "metadata": {},
   "source": [
    "# COVID-19's Impact on Healthcare Accessibility\n",
    "### By: Tristan Call and Maria Elena Aviles-Baquero\n",
    "\n",
    "# Classification\n",
    "In this document we will aim to apply classifiers to the dataset"
   ]
  },
  {
   "cell_type": "markdown",
   "metadata": {},
   "source": [
    "(question about this notebook: what is the difference b/w this one and the EDA?)"
   ]
  },
  {
   "cell_type": "code",
   "execution_count": 1,
   "metadata": {},
   "outputs": [],
   "source": [
    "# some useful mysklearn package import statements and reloads\n",
    "import importlib\n",
    "\n",
    "import mysklearn.myutils\n",
    "importlib.reload(mysklearn.myutils)\n",
    "import mysklearn.myutils as myutils\n",
    "\n",
    "# uncomment once you paste your mypytable.py into mysklearn package\n",
    "import mysklearn.mypytable\n",
    "importlib.reload(mysklearn.mypytable)\n",
    "from mysklearn.mypytable import MyPyTable \n",
    "\n",
    "import mysklearn.plot_utils\n",
    "importlib.reload(mysklearn.plot_utils)\n",
    "import mysklearn.plot_utils as plot_utils\n",
    "\n",
    "import mysklearn.myclassifiers\n",
    "importlib.reload(mysklearn.myclassifiers)\n",
    "from mysklearn.myclassifiers import MyKNeighborsClassifier, MySimpleLinearRegressor, MyNaiveBayesClassifier, MyDecisionTreeClassifier, MyZeroRClassifier, MyRandomClassifier, MyRandomForestClassifier\n",
    "\n",
    "import mysklearn.myevaluation\n",
    "importlib.reload(mysklearn.myevaluation)\n",
    "import mysklearn.myevaluation as myevaluation\n",
    "\n",
    "import os\n",
    "import pandas as pd\n",
    "from tabulate import tabulate"
   ]
  },
  {
   "cell_type": "code",
   "execution_count": 2,
   "metadata": {},
   "outputs": [],
   "source": [
    "importlib.reload(mysklearn.myutils)\n",
    "import mysklearn.myutils as myutils\n",
    "\n",
    "working_data_filename = os.path.join(\"input_data\", \"week21_working.csv\")\n",
    "\n",
    "# Load the data into a mypytable for future analysis\n",
    "overall_table = MyPyTable()\n",
    "overall_table.load_from_file(working_data_filename)\n",
    "overall_table.convert_to_numeric()\n",
    "\n",
    "# Convert year into bigger categorical chunks\n",
    "year_col = overall_table.get_column(\"TBIRTH_YEAR\")\n",
    "year_label = [str(1932 + 10 * x) + \" to \" + str(1941 + 10 * x) for x in range(6)]\n",
    "year_label.append(\"1992 to 2002\")\n",
    "cutoffs = [1932 + 10 * x for x in range(8)]\n",
    "year_col = myutils.categorize_continuous_list(year_col, cutoffs, year_label)\n",
    "\n",
    "# Create DELAYNOTGET column\n",
    "delay = overall_table.get_column(\"DELAY\")\n",
    "notget = overall_table.get_column(\"NOTGET\")\n",
    "delaynotget = []\n",
    "for i in range(len(delay)):\n",
    "    if delay[i] == 1 or notget[i] == 1:\n",
    "        delaynotget.append(1)\n",
    "    else:\n",
    "        delaynotget.append(2)\n",
    "        \n",
    "# Combine all the above into the overall_table\n",
    "overall_table.column_names.append(\"DELAYNOTGET\")\n",
    "overall_table.data = [[overall_table.data[i][0]] + [year_col[i]] + overall_table.data[i][2:] + [delaynotget[i]] for i in range(len(year_col))]"
   ]
  },
  {
   "cell_type": "code",
   "execution_count": 3,
   "metadata": {},
   "outputs": [],
   "source": [
    "# Break information into X_train and class_label\n",
    "X_train = overall_table.get_columns([\"TBIRTH_YEAR\", \"EGENDER\", \"RHISPANIC\", \"RRACE\", \"EEDUC\", \"INCOME\"])\n",
    "X_train = X_train.data\n",
    "Y_train = overall_table.get_column(\"DELAYNOTGET\")"
   ]
  },
  {
   "cell_type": "markdown",
   "metadata": {},
   "source": [
    "## Compute the Baseline\n",
    "First we will compute the baseline classifiers to get an idea of how must we must improve our classifiers."
   ]
  },
  {
   "cell_type": "code",
   "execution_count": 4,
   "metadata": {},
   "outputs": [
    {
     "name": "stdout",
     "output_type": "stream",
     "text": [
      "===========================================\n",
      "Predictive Accuracy\n",
      "===========================================\n",
      "Stratified 10-Fold Cross Validation\n",
      "Zero R: accuracy = 0.614735226400614, error rate = 0.38526477359938605\n"
     ]
    }
   ],
   "source": [
    "print('''===========================================\n",
    "Predictive Accuracy\n",
    "===========================================\n",
    "Stratified 10-Fold Cross Validation''')\n",
    "k = 10\n",
    "all_predicted_delay_zero = []\n",
    "all_actual_delay_zero = []\n",
    "\n",
    "# Get training data\n",
    "train_folds, test_folds = myevaluation.stratified_kfold_cross_validation(X_train, Y_train, k)\n",
    "for i in range(k):\n",
    "    # Sort training data\n",
    "    xtrain = myutils.distribute_data_by_index(X_train, train_folds[i])\n",
    "    ytrain = myutils.distribute_data_by_index(Y_train, train_folds[i])\n",
    "    xtest = myutils.distribute_data_by_index(X_train, test_folds[i])\n",
    "    ytest = myutils.distribute_data_by_index(Y_train, test_folds[i])\n",
    "\n",
    "    # Compute prediction and convert\n",
    "    zero = MyZeroRClassifier()\n",
    "    zero.fit(xtrain, ytrain)\n",
    "    predicted_delay = zero.predict(xtest)\n",
    "    all_predicted_delay_zero += predicted_delay\n",
    "    all_actual_delay_zero += ytest\n",
    "    \n",
    "# Calculate overall accuracy\n",
    "accuracy = myutils.calculate_accuracy(all_predicted_delay_zero, all_actual_delay_zero)\n",
    "error_rate = 1- accuracy\n",
    "\n",
    "print(\"Zero R: accuracy = \" + str(accuracy) + \", error rate = \" + str(error_rate))"
   ]
  },
  {
   "cell_type": "code",
   "execution_count": 5,
   "metadata": {},
   "outputs": [
    {
     "name": "stdout",
     "output_type": "stream",
     "text": [
      "===========================================\n",
      "Confusion Matrices\n",
      "===========================================\n",
      "Zero R (Stratified 10-Fold Cross Validation):\n",
      "==================  ==================  =============  =======  =================\n",
      "Delayed/canceled      Delayed/canceled    Not delayed    Total    Recognition (%)\n",
      "==================  ==================  =============  =======  =================\n",
      "Delayed/canceled                     0           1506     1506                  0\n",
      "Not delayed                          0           2403     2403                100\n",
      "==================  ==================  =============  =======  =================\n"
     ]
    }
   ],
   "source": [
    "print('''===========================================\n",
    "Confusion Matrices\n",
    "===========================================\n",
    "Zero R (Stratified 10-Fold Cross Validation):''')\n",
    "\n",
    "ylabels = list(set(Y_train))\n",
    "matrix = myevaluation.confusion_matrix(all_actual_delay_zero, all_predicted_delay_zero, ylabels)\n",
    "header = myutils.format_confusion_matrix_into_table(matrix, [\"Delayed/canceled\", \"Not delayed\"], \"Delayed/canceled\")\n",
    "\n",
    "print(tabulate(matrix, headers=header, tablefmt=\"rst\", numalign=\"right\"))"
   ]
  },
  {
   "cell_type": "markdown",
   "metadata": {},
   "source": [
    "### Random Classifier"
   ]
  },
  {
   "cell_type": "code",
   "execution_count": 6,
   "metadata": {},
   "outputs": [
    {
     "name": "stdout",
     "output_type": "stream",
     "text": [
      "===========================================\n",
      "Predictive Accuracy\n",
      "===========================================\n",
      "Stratified 10-Fold Cross Validation\n",
      "Random: accuracy = 0.5154771041187004, error rate = 0.4845228958812996\n"
     ]
    }
   ],
   "source": [
    "print('''===========================================\n",
    "Predictive Accuracy\n",
    "===========================================\n",
    "Stratified 10-Fold Cross Validation''')\n",
    "k = 10\n",
    "all_predicted_delay_random = []\n",
    "all_actual_delay_random = []\n",
    "\n",
    "# Get training data\n",
    "train_folds, test_folds = myevaluation.stratified_kfold_cross_validation(X_train, Y_train, k)\n",
    "for i in range(k):\n",
    "    # Sort training data\n",
    "    xtrain = myutils.distribute_data_by_index(X_train, train_folds[i])\n",
    "    ytrain = myutils.distribute_data_by_index(Y_train, train_folds[i])\n",
    "    xtest = myutils.distribute_data_by_index(X_train, test_folds[i])\n",
    "    ytest = myutils.distribute_data_by_index(Y_train, test_folds[i])\n",
    "\n",
    "    # Compute prediction and convert\n",
    "    random = MyRandomClassifier()\n",
    "    random.fit(xtrain, ytrain)\n",
    "    predicted_delay = random.predict(xtest)\n",
    "    all_predicted_delay_random += predicted_delay\n",
    "    all_actual_delay_random += ytest\n",
    "    \n",
    "# Calculate overall accuracy\n",
    "accuracy = myutils.calculate_accuracy(all_predicted_delay_random, all_actual_delay_random)\n",
    "error_rate = 1- accuracy\n",
    "\n",
    "print(\"Random: accuracy = \" + str(accuracy) + \", error rate = \" + str(error_rate))"
   ]
  },
  {
   "cell_type": "code",
   "execution_count": 7,
   "metadata": {},
   "outputs": [
    {
     "name": "stdout",
     "output_type": "stream",
     "text": [
      "===========================================\n",
      "Confusion Matrices\n",
      "===========================================\n",
      "Random (Stratified 10-Fold Cross Validation):\n",
      "==================  ==================  =============  =======  =================\n",
      "Delayed/canceled      Delayed/canceled    Not delayed    Total    Recognition (%)\n",
      "==================  ==================  =============  =======  =================\n",
      "Delayed/canceled                   573            933     1506              38.05\n",
      "Not delayed                        961           1442     2403              60.01\n",
      "==================  ==================  =============  =======  =================\n"
     ]
    }
   ],
   "source": [
    "print('''===========================================\n",
    "Confusion Matrices\n",
    "===========================================\n",
    "Random (Stratified 10-Fold Cross Validation):''')\n",
    "\n",
    "ylabels = list(set(Y_train))\n",
    "matrix = myevaluation.confusion_matrix(all_actual_delay_random, all_predicted_delay_random, ylabels)\n",
    "header = myutils.format_confusion_matrix_into_table(matrix, [\"Delayed/canceled\", \"Not delayed\"], \"Delayed/canceled\")\n",
    "\n",
    "print(tabulate(matrix, headers=header, tablefmt=\"rst\", numalign=\"right\"))"
   ]
  },
  {
   "cell_type": "markdown",
   "metadata": {},
   "source": [
    "## Compute Actual Classifiers\n",
    "Next we will try running some more intensive classifiers over our database and see how they compare"
   ]
  },
  {
   "cell_type": "markdown",
   "metadata": {},
   "source": [
    "### Naive Bayes"
   ]
  },
  {
   "cell_type": "code",
   "execution_count": 8,
   "metadata": {},
   "outputs": [
    {
     "name": "stdout",
     "output_type": "stream",
     "text": [
      "===========================================\n",
      "Predictive Accuracy\n",
      "===========================================\n",
      "Stratified 10-Fold Cross Validation\n",
      "Naive bayes: accuracy = 0.6144794064978255, error rate = 0.3855205935021745\n"
     ]
    }
   ],
   "source": [
    "print('''===========================================\n",
    "Predictive Accuracy\n",
    "===========================================\n",
    "Stratified 10-Fold Cross Validation''')\n",
    "k = 10\n",
    "all_predicted_delay_bayes = []\n",
    "all_actual_delay_bayes = []\n",
    "\n",
    "# Get training data\n",
    "train_folds, test_folds = myevaluation.stratified_kfold_cross_validation(X_train, Y_train, k)\n",
    "for i in range(k):\n",
    "    # Sort training data\n",
    "    xtrain = myutils.distribute_data_by_index(X_train, train_folds[i])\n",
    "    ytrain = myutils.distribute_data_by_index(Y_train, train_folds[i])\n",
    "    xtest = myutils.distribute_data_by_index(X_train, test_folds[i])\n",
    "    ytest = myutils.distribute_data_by_index(Y_train, test_folds[i])\n",
    "\n",
    "    # Compute prediction and convert\n",
    "    bayes = MyNaiveBayesClassifier()\n",
    "    bayes.fit(xtrain, ytrain)\n",
    "    predicted_delay = bayes.predict(xtest)\n",
    "    all_predicted_delay_bayes += predicted_delay\n",
    "    all_actual_delay_bayes += ytest\n",
    "    \n",
    "# Calculate overall accuracy\n",
    "accuracy = myutils.calculate_accuracy(all_predicted_delay_bayes, all_actual_delay_bayes)\n",
    "error_rate = 1- accuracy\n",
    "\n",
    "print(\"Naive bayes: accuracy = \" + str(accuracy) + \", error rate = \" + str(error_rate))"
   ]
  },
  {
   "cell_type": "code",
   "execution_count": 9,
   "metadata": {},
   "outputs": [
    {
     "name": "stdout",
     "output_type": "stream",
     "text": [
      "===========================================\n",
      "Confusion Matrices\n",
      "===========================================\n",
      "Naive bayes (Stratified 10-Fold Cross Validation):\n",
      "==================  ==================  =============  =======  =================\n",
      "Delayed/canceled      Delayed/canceled    Not delayed    Total    Recognition (%)\n",
      "==================  ==================  =============  =======  =================\n",
      "Delayed/canceled                   221           1285     1506              14.67\n",
      "Not delayed                        222           2181     2403              90.76\n",
      "==================  ==================  =============  =======  =================\n"
     ]
    }
   ],
   "source": [
    "print('''===========================================\n",
    "Confusion Matrices\n",
    "===========================================\n",
    "Naive bayes (Stratified 10-Fold Cross Validation):''')\n",
    "\n",
    "ylabels = list(set(Y_train))\n",
    "matrix = myevaluation.confusion_matrix(all_actual_delay_bayes, all_predicted_delay_bayes, ylabels)\n",
    "header = myutils.format_confusion_matrix_into_table(matrix, [\"Delayed/canceled\", \"Not delayed\"], \"Delayed/canceled\")\n",
    "\n",
    "print(tabulate(matrix, headers=header, tablefmt=\"rst\", numalign=\"right\"))"
   ]
  },
  {
   "cell_type": "markdown",
   "metadata": {},
   "source": [
    "### Decision Tree"
   ]
  },
  {
   "cell_type": "code",
   "execution_count": 10,
   "metadata": {},
   "outputs": [
    {
     "name": "stdout",
     "output_type": "stream",
     "text": [
      "===========================================\n",
      "Predictive Accuracy\n",
      "===========================================\n",
      "Stratified 10-Fold Cross Validation\n",
      "Decision Tree tree: accuracy = 0.5817344589409056, error rate = 0.4182655410590944\n"
     ]
    }
   ],
   "source": [
    "print('''===========================================\n",
    "Predictive Accuracy\n",
    "===========================================\n",
    "Stratified 10-Fold Cross Validation''')\n",
    "k = 10\n",
    "all_predicted_delay_tree = []\n",
    "all_actual_delay_tree = []\n",
    "\n",
    "# Get training data\n",
    "train_folds, test_folds = myevaluation.stratified_kfold_cross_validation(X_train, Y_train, k)\n",
    "for i in range(k):\n",
    "    # Sort training data\n",
    "    xtrain = myutils.distribute_data_by_index(X_train, train_folds[i])\n",
    "    ytrain = myutils.distribute_data_by_index(Y_train, train_folds[i])\n",
    "    xtest = myutils.distribute_data_by_index(X_train, test_folds[i])\n",
    "    ytest = myutils.distribute_data_by_index(Y_train, test_folds[i])\n",
    "\n",
    "    # Compute prediction and convert\n",
    "    tree = MyDecisionTreeClassifier()\n",
    "    tree.fit(xtrain, ytrain)\n",
    "    predicted_delay = tree.predict(xtest)\n",
    "    all_predicted_delay_tree += predicted_delay\n",
    "    all_actual_delay_tree += ytest\n",
    "    \n",
    "# Calculate overall accuracy\n",
    "accuracy = myutils.calculate_accuracy(all_predicted_delay_tree, all_actual_delay_tree)\n",
    "error_rate = 1- accuracy\n",
    "\n",
    "print(\"Decision Tree: accuracy = \" + str(accuracy) + \", error rate = \" + str(error_rate))"
   ]
  },
  {
   "cell_type": "code",
   "execution_count": 11,
   "metadata": {},
   "outputs": [
    {
     "name": "stdout",
     "output_type": "stream",
     "text": [
      "===========================================\n",
      "Confusion Matrices\n",
      "===========================================\n",
      "Decision Tree (Stratified 10-Fold Cross Validation):\n",
      "==================  ==================  =============  =======  =================\n",
      "Delayed/canceled      Delayed/canceled    Not delayed    Total    Recognition (%)\n",
      "==================  ==================  =============  =======  =================\n",
      "Delayed/canceled                   333           1173     1506              22.11\n",
      "Not delayed                        462           1941     2403              80.77\n",
      "==================  ==================  =============  =======  =================\n"
     ]
    }
   ],
   "source": [
    "print('''===========================================\n",
    "Confusion Matrices\n",
    "===========================================\n",
    "Decision Tree (Stratified 10-Fold Cross Validation):''')\n",
    "\n",
    "ylabels = list(set(Y_train))\n",
    "matrix = myevaluation.confusion_matrix(all_actual_delay_tree, all_predicted_delay_tree, ylabels)\n",
    "header = myutils.format_confusion_matrix_into_table(matrix, [\"Delayed/canceled\", \"Not delayed\"], \"Delayed/canceled\")\n",
    "\n",
    "print(tabulate(matrix, headers=header, tablefmt=\"rst\", numalign=\"right\"))"
   ]
  },
  {
   "cell_type": "markdown",
   "metadata": {},
   "source": [
    "The decision tree, as you can see, did not have very good performance. It was out performed by the zero R classifier in terms of accuracy."
   ]
  },
  {
   "cell_type": "code",
   "execution_count": 75,
   "metadata": {},
   "outputs": [],
   "source": [
    "# tree = MyDecisionTreeClassifier()\n",
    "# tree.fit(X_train, Y_train)\n",
    "# tree.print_decision_rules(attribute_names=[\"TBIRTH_YEAR\", \"EGENDER\", \"RHISPANIC\", \"RRACE\", \"EEDUC\", \"INCOME\"], class_name=\"delayed/canceled (1 = yes)\")"
   ]
  },
  {
   "cell_type": "markdown",
   "metadata": {},
   "source": [
    "### Forest "
   ]
  },
  {
   "cell_type": "code",
   "execution_count": 22,
   "metadata": {},
   "outputs": [
    {
     "name": "stdout",
     "output_type": "stream",
     "text": [
      "[{'attributes': ['a3', 'a5'], 'tree': <mysklearn.myclassifiers.MyDecisionTreeClassifier object at 0x7f29d42c28b0>, 'accuracy': 0.6182795698924731}, {'attributes': ['a4', 'a2'], 'tree': <mysklearn.myclassifiers.MyDecisionTreeClassifier object at 0x7f29d410bcd0>, 'accuracy': 0.6137071651090342}, {'attributes': ['a0', 'a3'], 'tree': <mysklearn.myclassifiers.MyDecisionTreeClassifier object at 0x7f29d410bc70>, 'accuracy': 0.6116207951070336}, {'attributes': ['a0', 'a3'], 'tree': <mysklearn.myclassifiers.MyDecisionTreeClassifier object at 0x7f29d428ceb0>, 'accuracy': 0.6092783505154639}]\n",
      "[{'attributes': ['a4', 'a5'], 'tree': <mysklearn.myclassifiers.MyDecisionTreeClassifier object at 0x7f29d428c970>, 'accuracy': 0.6370143149284253}, {'attributes': ['a3', 'a0'], 'tree': <mysklearn.myclassifiers.MyDecisionTreeClassifier object at 0x7f29d46c69a0>, 'accuracy': 0.619979402677652}, {'attributes': ['a0', 'a2'], 'tree': <mysklearn.myclassifiers.MyDecisionTreeClassifier object at 0x7f29d46c6a00>, 'accuracy': 0.6130030959752322}, {'attributes': ['a5', 'a2'], 'tree': <mysklearn.myclassifiers.MyDecisionTreeClassifier object at 0x7f29d41a3dc0>, 'accuracy': 0.6010309278350515}]\n",
      "[{'attributes': ['a3', 'a2'], 'tree': <mysklearn.myclassifiers.MyDecisionTreeClassifier object at 0x7f29d41a1dc0>, 'accuracy': 0.6300211416490487}, {'attributes': ['a0', 'a1'], 'tree': <mysklearn.myclassifiers.MyDecisionTreeClassifier object at 0x7f29d46d8a00>, 'accuracy': 0.6186186186186187}, {'attributes': ['a1', 'a0'], 'tree': <mysklearn.myclassifiers.MyDecisionTreeClassifier object at 0x7f29d46d89a0>, 'accuracy': 0.6111111111111112}, {'attributes': ['a5', 'a0'], 'tree': <mysklearn.myclassifiers.MyDecisionTreeClassifier object at 0x7f29d4310b20>, 'accuracy': 0.6036772216547498}]\n",
      "[{'attributes': ['a4', 'a5'], 'tree': <mysklearn.myclassifiers.MyDecisionTreeClassifier object at 0x7f29d41abdc0>, 'accuracy': 0.6279569892473118}, {'attributes': ['a4', 'a5'], 'tree': <mysklearn.myclassifiers.MyDecisionTreeClassifier object at 0x7f29d46c69a0>, 'accuracy': 0.6219640971488912}, {'attributes': ['a4', 'a3'], 'tree': <mysklearn.myclassifiers.MyDecisionTreeClassifier object at 0x7f29d4310b20>, 'accuracy': 0.6159496327387198}, {'attributes': ['a1', 'a2'], 'tree': <mysklearn.myclassifiers.MyDecisionTreeClassifier object at 0x7f29d41abd60>, 'accuracy': 0.6140904311251314}]\n",
      "[{'attributes': ['a1', 'a2'], 'tree': <mysklearn.myclassifiers.MyDecisionTreeClassifier object at 0x7f29d41a8d60>, 'accuracy': 0.617678381256656}, {'attributes': ['a4', 'a3'], 'tree': <mysklearn.myclassifiers.MyDecisionTreeClassifier object at 0x7f29d41a8dc0>, 'accuracy': 0.6109958506224067}, {'attributes': ['a4', 'a1'], 'tree': <mysklearn.myclassifiers.MyDecisionTreeClassifier object at 0x7f29d41b7eb0>, 'accuracy': 0.6077586206896551}, {'attributes': ['a2', 'a4'], 'tree': <mysklearn.myclassifiers.MyDecisionTreeClassifier object at 0x7f29d46249a0>, 'accuracy': 0.6012591815320042}]\n",
      "===========================================\n",
      "Predictive Accuracy\n",
      "===========================================\n",
      "Stratified 3-Fold Cross Validation\n",
      "Forest: accuracy = 0.614735226400614, error rate = 0.38526477359938605\n",
      "===========================================\n",
      "Confusion Matrices\n",
      "===========================================\n",
      "Decision Tree (Stratified 10-Fold Cross Validation):\n",
      "==================  ==================  =============  =======  =================\n",
      "Delayed/canceled      Delayed/canceled    Not delayed    Total    Recognition (%)\n",
      "==================  ==================  =============  =======  =================\n",
      "Delayed/canceled                   333           1173     1506              22.11\n",
      "Not delayed                        462           1941     2403              80.77\n",
      "==================  ==================  =============  =======  =================\n"
     ]
    }
   ],
   "source": [
    "importlib.reload(mysklearn.myclassifiers)\n",
    "from mysklearn.myclassifiers import MyKNeighborsClassifier, MySimpleLinearRegressor, MyNaiveBayesClassifier, MyDecisionTreeClassifier, MyZeroRClassifier, MyRandomClassifier, MyRandomForestClassifier\n",
    "N = 5\n",
    "M = 3\n",
    "F = 2\n",
    "\n",
    "all_predicted_forest = []\n",
    "all_actual_forest = []\n",
    "# Run tests of each parameter 5 times\n",
    "for i in range(5):\n",
    "    forest = MyRandomForestClassifier(N, F, M)\n",
    "    accuracy, predicted, actual = forest.test_tree_stratified_kfold(X_train, Y_train)\n",
    "    all_predicted_forest += predicted\n",
    "    all_actual_forest += actual\n",
    "    \n",
    "accuracy = myutils.calculate_accuracy(all_predicted_forest, all_actual_forest)\n",
    "error_rate = 1- accuracy\n",
    "print('''===========================================\n",
    "Predictive Accuracy\n",
    "===========================================\n",
    "Stratified 3-Fold Cross Validation''')\n",
    "print(\"Forest: accuracy = \" + str(accuracy) + \", error rate = \" + str(error_rate))\n",
    "    \n",
    "\n",
    "\n",
    "print('''===========================================\n",
    "Confusion Matrices\n",
    "===========================================\n",
    "Decision Tree (Stratified 10-Fold Cross Validation):''')\n",
    "\n",
    "ylabels = list(set(Y_train))\n",
    "matrix = myevaluation.confusion_matrix(all_actual_delay_tree, all_predicted_delay_tree, ylabels)\n",
    "header = myutils.format_confusion_matrix_into_table(matrix, [\"Delayed/canceled\", \"Not delayed\"], \"Delayed/canceled\")\n",
    "\n",
    "print(tabulate(matrix, headers=header, tablefmt=\"rst\", numalign=\"right\"))"
   ]
  }
 ],
 "metadata": {
  "kernelspec": {
   "display_name": "Python 3",
   "language": "python",
   "name": "python3"
  },
  "language_info": {
   "codemirror_mode": {
    "name": "ipython",
    "version": 3
   },
   "file_extension": ".py",
   "mimetype": "text/x-python",
   "name": "python",
   "nbconvert_exporter": "python",
   "pygments_lexer": "ipython3",
   "version": "3.8.5"
  }
 },
 "nbformat": 4,
 "nbformat_minor": 4
}
