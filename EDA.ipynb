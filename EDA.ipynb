{
 "cells": [
  {
   "cell_type": "markdown",
   "metadata": {},
   "source": [
    "# COVID-19's Impact on Healthcare Accessibility\n",
    "### By: Tristan Call and Maria Elena Aviles-Baquero"
   ]
  },
  {
   "cell_type": "markdown",
   "metadata": {},
   "source": [
    "## Introductory"
   ]
  },
  {
   "cell_type": "code",
   "execution_count": null,
   "metadata": {},
   "outputs": [],
   "source": []
  },
  {
   "cell_type": "markdown",
   "metadata": {},
   "source": [
    "## Data Analysis"
   ]
  },
  {
   "cell_type": "markdown",
   "metadata": {},
   "source": [
    "TODO:\n",
    "- load in data to use\n",
    "- create analysis functions (something that takes in specific attributes and returns them)"
   ]
  },
  {
   "cell_type": "code",
   "execution_count": 6,
   "metadata": {},
   "outputs": [],
   "source": [
    "# load data function: through MyPyTable()\n",
    "\n",
    "# data analysis functions:\n",
    "# group_by()\n",
    "# get_column() - MyPyTable\n",
    "# plotting - whatever we used in class\n",
    "    # save_graph() function\n",
    "# output result files (? TBD)\n",
    "\n",
    "# summary_stats from MyPyTable\n",
    "\n",
    "# some useful mysklearn package import statements and reloads\n",
    "import importlib\n",
    "\n",
    "import mysklearn.myutils\n",
    "importlib.reload(mysklearn.myutils)\n",
    "import mysklearn.myutils as myutils\n",
    "\n",
    "# uncomment once you paste your mypytable.py into mysklearn package\n",
    "import mysklearn.mypytable\n",
    "importlib.reload(mysklearn.mypytable)\n",
    "from mysklearn.mypytable import MyPyTable \n",
    "\n",
    "import mysklearn.plot_utils\n",
    "importlib.reload(mysklearn.plot_utils)\n",
    "import mysklearn.plot_utils as plot_utils\n",
    "\n",
    "# import mysklearn.myclassifiers\n",
    "# importlib.reload(mysklearn.myclassifiers)\n",
    "# from mysklearn.myclassifiers import MyKNeighborsClassifier, MySimpleLinearRegressor, MyNaiveBayesClassifier\n",
    "\n",
    "# import mysklearn.myevaluation\n",
    "# importlib.reload(mysklearn.myevaluation)\n",
    "# import mysklearn.myevaluation as myevaluation\n",
    "\n",
    "\n",
    "# STEPS\n",
    "# 1. Focus on Washington (for now aka. generalize code (as always))\n",
    "# 2. create default values\n",
    "\n",
    "\n",
    "import os\n",
    "import pandas as pd\n",
    "\n",
    "# loads in the Healthcare Access during the Coronavirus Pandemic into the variable covid\n",
    "covid_file = os.path.join(\"input_data\", \"Indicators_of_Reduced_Access_to_Care_Due_to_the_Coronavirus_Pandemic_During_Last_4_Weeks.csv\")\n",
    "covid = MyPyTable().load_from_file(covid_file)\n",
    "\n",
    "# Add things to accomplish below:\n"
   ]
  },
  {
   "cell_type": "code",
   "execution_count": 40,
   "metadata": {},
   "outputs": [
    {
     "name": "stdout",
     "output_type": "stream",
     "text": [
      "       TBIRTH_YEAR  EGENDER  RHISPANIC  RRACE  EEDUC  INCOME  DELAY  NOTGET\n",
      "1           1969.0      2.0        1.0    1.0    7.0     6.0    1.0     2.0\n",
      "2           1959.0      2.0        1.0    1.0    7.0     4.0    1.0     1.0\n",
      "4           1967.0      1.0        1.0    1.0    4.0     6.0    2.0     2.0\n",
      "5           1965.0      1.0        1.0    1.0    7.0     6.0    2.0     2.0\n",
      "6           1962.0      2.0        1.0    2.0    4.0     1.0    2.0     2.0\n",
      "...            ...      ...        ...    ...    ...     ...    ...     ...\n",
      "69938       1964.0      2.0        1.0    1.0    7.0     8.0    2.0     2.0\n",
      "69939       1984.0      2.0        1.0    1.0    4.0     5.0    1.0     1.0\n",
      "69940       1959.0      2.0        1.0    1.0    3.0     6.0    2.0     2.0\n",
      "69941       1997.0      2.0        1.0    1.0    5.0     3.0    1.0     1.0\n",
      "69942       1954.0      1.0        1.0    1.0    7.0     6.0    2.0     2.0\n",
      "\n",
      "[56661 rows x 8 columns]\n"
     ]
    }
   ],
   "source": [
    "week21_filename = os.path.join(\"input_data\", \"pulse2020_puf_21.sas7bdat\")\n",
    "alldata = pd.read_sas(week21_filename)\n",
    "\n",
    "relevant_attributes = [\"TBIRTH_YEAR\", \"EGENDER\", \"RHISPANIC\", \"RRACE\", \"EEDUC\", \"INCOME\", \"DELAY\", \"NOTGET\"]\n",
    "\n",
    "data = alldata[[\"TBIRTH_YEAR\", \"EGENDER\", \"RHISPANIC\", \"RRACE\", \"EEDUC\", \"INCOME\", \"DELAY\", \"NOTGET\"]]\n",
    "working_data_filename = os.path.join(\"input_data\", \"week21_working.csv\")\n",
    "nafree_data = data.dropna()\n",
    "print(nafree_data)\n",
    "nafree_data.to_csv(working_data_filename)"
   ]
  },
  {
   "cell_type": "code",
   "execution_count": null,
   "metadata": {},
   "outputs": [],
   "source": [
    "table = MyPyTable()\n",
    "table.load_from_file(working_data_filename)\n",
    "\n",
    "print(table.data)"
   ]
  },
  {
   "cell_type": "code",
   "execution_count": null,
   "metadata": {},
   "outputs": [],
   "source": []
  }
 ],
 "metadata": {
  "kernelspec": {
   "display_name": "Python 3",
   "language": "python",
   "name": "python3"
  },
  "language_info": {
   "codemirror_mode": {
    "name": "ipython",
    "version": 3
   },
   "file_extension": ".py",
   "mimetype": "text/x-python",
   "name": "python",
   "nbconvert_exporter": "python",
   "pygments_lexer": "ipython3",
   "version": "3.8.5"
  }
 },
 "nbformat": 4,
 "nbformat_minor": 4
}
