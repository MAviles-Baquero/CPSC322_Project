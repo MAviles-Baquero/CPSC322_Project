{
 "metadata": {
  "language_info": {
   "codemirror_mode": {
    "name": "ipython",
    "version": 3
   },
   "file_extension": ".py",
   "mimetype": "text/x-python",
   "name": "python",
   "nbconvert_exporter": "python",
   "pygments_lexer": "ipython3",
   "version": 3
  },
  "orig_nbformat": 2
 },
 "nbformat": 4,
 "nbformat_minor": 2,
 "cells": [
  {
   "source": [
    "# COVID-19's Impact on Healthcare Accessibility\n",
    "### By: Tristan Call and Maria Elena Aviles-Baquero"
   ],
   "cell_type": "markdown",
   "metadata": {}
  },
  {
   "source": [
    "## About the Dataset\n",
    "__Data Sources:__\n",
    "\n",
    "The dataset below was taken from the Centers for Disease Control and Prevention (CDC) website and the data was provided by the U.S. Census Bureau. \n",
    "\n",
    "[Summary of the Dataset](https://www.cdc.gov/nchs/covid19/pulse/reduced-access-to-care.htm)\n",
    "\n",
    "[Indicators of Reduced Access to Care Due to COVID-19](https://data.cdc.gov/NCHS/Indicators-of-Reduced-Access-to-Care-Due-to-the-Co/xb3p-q62w )\n",
    "\n",
    "\n",
    "__Dataset Format:__\n",
    "\n",
    "Attribute | Data Type | Description\n",
    "-|-|-\n",
    "Indicator | string | The type of delay experienced\n",
    "Group | string | Group partitions. Includes data separated by age, race, sex, etc.\n",
    "State | string | The state the data is from\n",
    "Subgroup | string | The specific group from the above categories\n",
    "Phase | string | The phase of the study\n",
    "Time Period | string | The time period \n",
    "Time Period Label | string | The shorthand dates for the phase\n",
    "Time Period Start Date | string | The start of the phase\n",
    "Time Period End Date | string | The end of the phase\n",
    "Value | float | The percent value of the group that had the indicator\n",
    "Low CI | float | Low end of 95% confidence interval\n",
    "High CI | float | High end of 95% confidence interval\n",
    "Confidence Interval | string | Printable version of full confidence interval\n",
    "Quartile Range | string | The quartile range\n"
   ],
   "cell_type": "markdown",
   "metadata": {}
  },
  {
   "source": [
    "## Implementation/Technical Merit\n",
    "\n",
    "There are a variety of challenges present in the dataset, specifically within the attributes of _Quartile Range_, _Time Period Label_, _Time Period Start/End Date_ attributes, and the _Phase_ attribute.  In the _Quartile Range_ attribute, not all of the instances have values in the dataset.  The attributes of _Time Period Label_, _Time Period Start Date_, and _Time Period End Date_ may require additional libraries to interpret the \"Month Day - Month Day\" and the time and date stamp formats of the instances.  The last potential challenge of this dataset is the _Phase_ attribute because there seems to be some incomplete entries for some of the instances due to ongoing phases, marked by a \"-1\".\n",
    "\n",
    "Since there are many attributes present in the dataset, there are a few ways we can pare down the attributes without taking away from the integrity of the data. Many of the attributes in the dataset very similar to or related to other attributes. For example, the attribute _Low CI_ and _High CI_ indicate tyhe lowest and highest confidence intervals for each instance. The attribute right after _High CI_ is the _Confidence Interval_ has the format \"_Low CI_ - _High CI_\". We can condence the dataset by simply omitting the _Low CI_ and _High CI_ attributes since we have those values within the _Confidence Interval_. Likewise, the _Time Period Start/End Date_ attributes and the _Time Period Label_ attribute can also be condensed by omitting the _Time Period Start/End Date_ attributes and only using the _Time Period Label_."
   ],
   "cell_type": "markdown",
   "metadata": {}
  },
  {
   "source": [
    "## Impact of the Results\n",
    "\n",
    "The dataset we have chosen shows the impact of healthcare access during the COVID-19 pandemic and how socioeconomic backgrounds (education, race, age, ethnicity, sex, etc.) and location (by state within the United States) may affect whether or not an individual will be able to access healthcare. Using these results, we may be able to target specific demographics that have been particularly hit by COVID-19 for additional assistance.\n",
    "\n",
    "The stakeholders in this data are: people who are marginalized (people of color, elderly, people with little to no education background), policy makers, healthcare workers, essential workers, as well as people who are privileged in our society. In reality, anyone who has been affected by COVID-19, either directly or indirectly, are also stakeholders in this dataset."
   ],
   "cell_type": "markdown",
   "metadata": {}
  }
 ]
}