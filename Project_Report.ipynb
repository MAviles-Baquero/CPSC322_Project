{
 "cells": [
  {
   "cell_type": "markdown",
   "metadata": {},
   "source": [
    "# COVID-19's Impact on Healthcare Accessibility\n",
    "By: Tristan Call and Maria Elena Aviles-Baquero  \n",
    "CPSC 322, Spring 2021  "
   ]
  },
  {
   "cell_type": "markdown",
   "metadata": {},
   "source": [
    "# Introductory"
   ]
  },
  {
   "cell_type": "markdown",
   "metadata": {},
   "source": [
    "## Our Database:\n",
    "This section must briefly describe the dataset you used and the classification task you implemented (e.g., what were you trying to classify in the dataset).\n",
    "\n",
    "We utilized week 21 of the Household Pulse Survey Public Use File, which covered the time period from December 9 – December 21."
   ]
  },
  {
   "cell_type": "markdown",
   "metadata": {},
   "source": [
    "## Our Findings:\n",
    "You should also briefly describe your findings (e.g., what classifier approach performed the best).  \n",
    "Overall we discovered that a random forest classifier was our best classifier."
   ]
  },
  {
   "cell_type": "markdown",
   "metadata": {},
   "source": [
    "\n",
    "# Data Analysis"
   ]
  },
  {
   "cell_type": "markdown",
   "metadata": {},
   "source": [
    "## Database information\n",
    "Information about the dataset itself, e.g., the attributes and attribute types, the number of instances, and the attribute being used as the label.\n"
   ]
  },
  {
   "cell_type": "markdown",
   "metadata": {},
   "source": [
    "## Loading in the data"
   ]
  },
  {
   "cell_type": "code",
   "execution_count": 5,
   "metadata": {},
   "outputs": [],
   "source": [
    "# some useful mysklearn package import statements and reloads\n",
    "import importlib\n",
    "\n",
    "import mysklearn.myutils\n",
    "importlib.reload(mysklearn.myutils)\n",
    "import mysklearn.myutils as myutils\n",
    "\n",
    "# uncomment once you paste your mypytable.py into mysklearn package\n",
    "import mysklearn.mypytable\n",
    "importlib.reload(mysklearn.mypytable)\n",
    "from mysklearn.mypytable import MyPyTable \n",
    "\n",
    "import mysklearn.plot_utils\n",
    "importlib.reload(mysklearn.plot_utils)\n",
    "import mysklearn.plot_utils as plot_utils\n",
    "\n",
    "import mysklearn.myclassifiers\n",
    "importlib.reload(mysklearn.myclassifiers)\n",
    "from mysklearn.myclassifiers import MyKNeighborsClassifier, MySimpleLinearRegressor, MyNaiveBayesClassifier\n",
    "\n",
    "import mysklearn.myevaluation\n",
    "importlib.reload(mysklearn.myevaluation)\n",
    "import mysklearn.myevaluation as myevaluation\n",
    "\n",
    "import os\n",
    "import pandas as pd\n",
    "from tabulate import tabulate"
   ]
  },
  {
   "cell_type": "markdown",
   "metadata": {},
   "source": [
    "### Manipulate Data into Useable Format\n",
    "The first thing we need to do is grab the data from the sas file and manipulate it into a format and size which is workable with our very much not optimized dataset. Part of this involves dropping rows with NaNs or -99s (seen but unanswered questions) in them ahead of time. Overall we aim to go from about 70,000 results to a more reasonable < 10,000 so that our computers can run it in a reasonable amount of time."
   ]
  },
  {
   "cell_type": "code",
   "execution_count": 6,
   "metadata": {},
   "outputs": [
    {
     "name": "stdout",
     "output_type": "stream",
     "text": [
      "      TBIRTH_YEAR  EGENDER  RHISPANIC  RRACE  EEDUC  INCOME  DELAY  NOTGET\n",
      "1          1969.0      2.0        1.0    1.0    7.0     6.0    1.0     2.0\n",
      "2          1959.0      2.0        1.0    1.0    7.0     4.0    1.0     1.0\n",
      "4          1967.0      1.0        1.0    1.0    4.0     6.0    2.0     2.0\n",
      "5          1965.0      1.0        1.0    1.0    7.0     6.0    2.0     2.0\n",
      "6          1962.0      2.0        1.0    2.0    4.0     1.0    2.0     2.0\n",
      "...           ...      ...        ...    ...    ...     ...    ...     ...\n",
      "4993       1964.0      2.0        1.0    1.0    4.0     1.0    2.0     2.0\n",
      "4994       1984.0      1.0        1.0    1.0    4.0     7.0    1.0     1.0\n",
      "4995       1973.0      1.0        1.0    1.0    6.0     8.0    2.0     2.0\n",
      "4997       1976.0      2.0        1.0    1.0    3.0     3.0    1.0     1.0\n",
      "4999       1958.0      2.0        1.0    1.0    7.0     5.0    2.0     2.0\n",
      "\n",
      "[3909 rows x 8 columns]\n"
     ]
    }
   ],
   "source": [
    "# Grab the data\n",
    "week21_filename = os.path.join(\"input_data\", \"pulse2020_puf_21.sas7bdat\")\n",
    "iterator = pd.read_sas(week21_filename, chunksize=5000)\n",
    "alldata = []\n",
    "for chunk in iterator:\n",
    "    alldata.append(chunk)\n",
    "\n",
    "relevant_attributes = [\"TBIRTH_YEAR\", \"EGENDER\", \"RHISPANIC\", \"RRACE\", \"EEDUC\", \"INCOME\", \"DELAY\", \"NOTGET\"]\n",
    "\n",
    "# Grab a chunk of data with the attributes we are interested in, minus Nans, and save to a local file\n",
    "data = alldata[0][[\"TBIRTH_YEAR\", \"EGENDER\", \"RHISPANIC\", \"RRACE\", \"EEDUC\", \"INCOME\", \"DELAY\", \"NOTGET\"]]\n",
    "working_data_filename = os.path.join(\"input_data\", \"week21_working.csv\")\n",
    "nafree_data = data.dropna()\n",
    "\n",
    "# Get rid of -99 results (aka seen but not answered)\n",
    "nafree_data = nafree_data[nafree_data.INCOME != -99]\n",
    "nafree_data = nafree_data[nafree_data.DELAY != -99]\n",
    "nafree_data = nafree_data[nafree_data.NOTGET != -99]\n",
    "print(nafree_data)\n",
    "\n",
    "# Save to file\n",
    "nafree_data.to_csv(working_data_filename)"
   ]
  },
  {
   "cell_type": "markdown",
   "metadata": {},
   "source": [
    "### Organize the data\n",
    "Next we want to get the data into a more useful format. Step one of this is chunk years into decades to have a reasonable number of attribute values for year according to the below:\n",
    "\n",
    "years | label\n",
    "-|-\n",
    "1932-1941 | 1\n",
    "1942-1951 | 2\n",
    "1952-1961 | 3\n",
    "1962-1971 | 4\n",
    "1972-1981 | 5\n",
    "1982-1991 | 6\n",
    "1992-2002 | 7\n",
    "\n",
    "Next we want to create a DELAYNOTGET column as a composite of delay and notget so we can look into both these attributes at ounce."
   ]
  },
  {
   "cell_type": "code",
   "execution_count": 7,
   "metadata": {},
   "outputs": [],
   "source": [
    "importlib.reload(mysklearn.myutils)\n",
    "import mysklearn.myutils as myutils\n",
    "\n",
    "# Load the data into a mypytable for future analysis\n",
    "overall_table = MyPyTable()\n",
    "overall_table.load_from_file(working_data_filename)\n",
    "overall_table.convert_to_numeric()\n",
    "\n",
    "# Convert year into bigger categorical chunks\n",
    "year_col = overall_table.get_column(\"TBIRTH_YEAR\")\n",
    "year_label = [x + 1 for x in range(7)]\n",
    "cutoffs = [1932 + 10 * x for x in range(8)]\n",
    "year_col = myutils.categorize_continuous_list(year_col, cutoffs, year_label)\n",
    "\n",
    "# Create DELAYNOTGET column\n",
    "delay = overall_table.get_column(\"DELAY\")\n",
    "notget = overall_table.get_column(\"NOTGET\")\n",
    "delaynotget = []\n",
    "for i in range(len(delay)):\n",
    "    if delay[i] == 1 or notget[i] == 1:\n",
    "        delaynotget.append(1)\n",
    "    else:\n",
    "        delaynotget.append(2)\n",
    "        \n",
    "# Combine all the above into the overall_table\n",
    "overall_table.column_names.append(\"DELAYNOTGET\")\n",
    "overall_table.data = [[overall_table.data[i][0]] + [year_col[i]] + overall_table.data[i][2:] + [delaynotget[i]] for i in range(len(year_col))]\n",
    "#overall_table.pretty_print()"
   ]
  },
  {
   "cell_type": "markdown",
   "metadata": {},
   "source": [
    "## Summary Statistics\n",
    "Relevant summary statistics about the dataset."
   ]
  },
  {
   "cell_type": "markdown",
   "metadata": {},
   "source": [
    "## Data Visualizations\n",
    "Data visualizations highlighting important/interesting aspects of your dataset. Visualizations may include frequency distributions, comparisons of attributes (scatterplot, multiple frequency diagrams), box and whisker plots, etc. The goal is not to include all possible diagrams, but instead to select and highlight diagrams that provide insight about the dataset itself.\n",
    "Note that this section must describe the above (in paragraph form) and not just provide diagrams and statistics. Also, each figure included must have a figure caption (Figure number and textual description) that is referenced from the text (e.g., “Figure 2 shows a frequency diagram for ...”).\n"
   ]
  },
  {
   "cell_type": "code",
   "execution_count": null,
   "metadata": {},
   "outputs": [],
   "source": []
  },
  {
   "cell_type": "code",
   "execution_count": null,
   "metadata": {},
   "outputs": [],
   "source": []
  },
  {
   "cell_type": "markdown",
   "metadata": {},
   "source": [
    "# Classification\n",
    "First we will break the information into the appropriate format"
   ]
  },
  {
   "cell_type": "code",
   "execution_count": null,
   "metadata": {},
   "outputs": [],
   "source": [
    "# Break information into X_train and class_label\n",
    "X_train = overall_table.get_columns([\"TBIRTH_YEAR\", \"EGENDER\", \"RHISPANIC\", \"RRACE\", \"EEDUC\", \"INCOME\"])\n",
    "X_train = X_train.data\n",
    "Y_train = overall_table.get_column(\"DELAYNOTGET\")"
   ]
  },
  {
   "cell_type": "markdown",
   "metadata": {},
   "source": [
    "### Process\n",
    "To find the best classifier, we first computed 2 baseline classifiers, ZeroR and random. We then tested naive bayes, decision tree, and random forest classifiers and looked at how they compared to the baselines and each other. All of these classifiers were loosley based on the sklearn implementation, but featured simpler algorithms made by the authors and less optimization (https://scikit-learn.org/stable/).\n",
    "\n",
    "### Evaluation\n",
    "To determine which classifier was the best, we ran each of them over a stratified 10-fold cross validation testing technique for accuracy. The exception was the random forest classifier, which required its own unique approach. We then plugged these results into a confusion matrix to determine if the classifier was better at one or another prediction. Given roughly equal accuracy (within about 1%), the classifier where the recognition rates of all class labels were closer to being the same won out. Meaning any classifier which at least matched the zero R classifier in accuracy, but didn't have a 0%, 100% split in recognition rates, would win out."
   ]
  },
  {
   "cell_type": "markdown",
   "metadata": {},
   "source": [
    "## Compute the Baseline\n",
    "First we will compute the baseline classifiers to get an idea of how must we must improve our classifiers.\n",
    "### Zero R"
   ]
  },
  {
   "cell_type": "code",
   "execution_count": null,
   "metadata": {},
   "outputs": [],
   "source": [
    "print('''===========================================\n",
    "Predictive Accuracy\n",
    "===========================================\n",
    "Stratified 10-Fold Cross Validation''')\n",
    "k = 10\n",
    "all_predicted_delay_zero = []\n",
    "all_actual_delay_zero = []\n",
    "\n",
    "# Get training data\n",
    "train_folds, test_folds = myevaluation.stratified_kfold_cross_validation(X_train, Y_train, k)\n",
    "for i in range(k):\n",
    "    # Sort training data\n",
    "    xtrain = myutils.distribute_data_by_index(X_train, train_folds[i])\n",
    "    ytrain = myutils.distribute_data_by_index(Y_train, train_folds[i])\n",
    "    xtest = myutils.distribute_data_by_index(X_train, test_folds[i])\n",
    "    ytest = myutils.distribute_data_by_index(Y_train, test_folds[i])\n",
    "\n",
    "    # Compute prediction and convert\n",
    "    zero = MyZeroRClassifier()\n",
    "    zero.fit(xtrain, ytrain)\n",
    "    predicted_delay = zero.predict(xtest)\n",
    "    all_predicted_delay_zero += predicted_delay\n",
    "    all_actual_delay_zero += ytest\n",
    "    \n",
    "# Calculate overall accuracy\n",
    "accuracy = myutils.calculate_accuracy(all_predicted_delay_zero, all_actual_delay_zero)\n",
    "error_rate = 1- accuracy\n",
    "\n",
    "print(\"Zero R: accuracy = \" + str(accuracy) + \", error rate = \" + str(error_rate))"
   ]
  },
  {
   "cell_type": "code",
   "execution_count": null,
   "metadata": {},
   "outputs": [],
   "source": [
    "print('''===========================================\n",
    "Confusion Matrices\n",
    "===========================================\n",
    "Zero R (Stratified 10-Fold Cross Validation):''')\n",
    "\n",
    "ylabels = list(set(Y_train))\n",
    "matrix = myevaluation.confusion_matrix(all_actual_delay_zero, all_predicted_delay_zero, ylabels)\n",
    "header = myutils.format_confusion_matrix_into_table(matrix, [\"Delayed/canceled\", \"Not delayed\"], \"Delayed/canceled\")\n",
    "\n",
    "print(tabulate(matrix, headers=header, tablefmt=\"rst\", numalign=\"right\"))"
   ]
  },
  {
   "cell_type": "markdown",
   "metadata": {},
   "source": [
    "### Random Classifier"
   ]
  },
  {
   "cell_type": "code",
   "execution_count": null,
   "metadata": {},
   "outputs": [],
   "source": [
    "print('''===========================================\n",
    "Predictive Accuracy\n",
    "===========================================\n",
    "Stratified 10-Fold Cross Validation''')\n",
    "k = 10\n",
    "all_predicted_delay_random = []\n",
    "all_actual_delay_random = []\n",
    "\n",
    "# Get training data\n",
    "train_folds, test_folds = myevaluation.stratified_kfold_cross_validation(X_train, Y_train, k)\n",
    "for i in range(k):\n",
    "    # Sort training data\n",
    "    xtrain = myutils.distribute_data_by_index(X_train, train_folds[i])\n",
    "    ytrain = myutils.distribute_data_by_index(Y_train, train_folds[i])\n",
    "    xtest = myutils.distribute_data_by_index(X_train, test_folds[i])\n",
    "    ytest = myutils.distribute_data_by_index(Y_train, test_folds[i])\n",
    "\n",
    "    # Compute prediction and convert\n",
    "    random = MyRandomClassifier()\n",
    "    random.fit(xtrain, ytrain)\n",
    "    predicted_delay = random.predict(xtest)\n",
    "    all_predicted_delay_random += predicted_delay\n",
    "    all_actual_delay_random += ytest\n",
    "    \n",
    "# Calculate overall accuracy\n",
    "accuracy = myutils.calculate_accuracy(all_predicted_delay_random, all_actual_delay_random)\n",
    "error_rate = 1- accuracy\n",
    "\n",
    "print(\"Random: accuracy = \" + str(accuracy) + \", error rate = \" + str(error_rate))"
   ]
  },
  {
   "cell_type": "code",
   "execution_count": null,
   "metadata": {},
   "outputs": [],
   "source": [
    "print('''===========================================\n",
    "Confusion Matrices\n",
    "===========================================\n",
    "Random (Stratified 10-Fold Cross Validation):''')\n",
    "\n",
    "ylabels = list(set(Y_train))\n",
    "matrix = myevaluation.confusion_matrix(all_actual_delay_random, all_predicted_delay_random, ylabels)\n",
    "header = myutils.format_confusion_matrix_into_table(matrix, [\"Delayed/canceled\", \"Not delayed\"], \"Delayed/canceled\")\n",
    "\n",
    "print(tabulate(matrix, headers=header, tablefmt=\"rst\", numalign=\"right\"))"
   ]
  },
  {
   "cell_type": "markdown",
   "metadata": {},
   "source": [
    "## Compute Actual Classifiers\n",
    "Next we try running naive bayes, decision tree, and random forest classifiers over our database and see how they compare."
   ]
  },
  {
   "cell_type": "markdown",
   "metadata": {},
   "source": [
    "### Naive Bayes"
   ]
  },
  {
   "cell_type": "code",
   "execution_count": null,
   "metadata": {},
   "outputs": [],
   "source": [
    "print('''===========================================\n",
    "Predictive Accuracy\n",
    "===========================================\n",
    "Stratified 10-Fold Cross Validation''')\n",
    "k = 10\n",
    "all_predicted_delay_bayes = []\n",
    "all_actual_delay_bayes = []\n",
    "\n",
    "# Get training data\n",
    "train_folds, test_folds = myevaluation.stratified_kfold_cross_validation(X_train, Y_train, k)\n",
    "for i in range(k):\n",
    "    # Sort training data\n",
    "    xtrain = myutils.distribute_data_by_index(X_train, train_folds[i])\n",
    "    ytrain = myutils.distribute_data_by_index(Y_train, train_folds[i])\n",
    "    xtest = myutils.distribute_data_by_index(X_train, test_folds[i])\n",
    "    ytest = myutils.distribute_data_by_index(Y_train, test_folds[i])\n",
    "\n",
    "    # Compute prediction and convert\n",
    "    bayes = MyNaiveBayesClassifier()\n",
    "    bayes.fit(xtrain, ytrain)\n",
    "    predicted_delay = bayes.predict(xtest)\n",
    "    all_predicted_delay_bayes += predicted_delay\n",
    "    all_actual_delay_bayes += ytest\n",
    "    \n",
    "# Calculate overall accuracy\n",
    "accuracy = myutils.calculate_accuracy(all_predicted_delay_bayes, all_actual_delay_bayes)\n",
    "error_rate = 1- accuracy\n",
    "\n",
    "print(\"Naive bayes: accuracy = \" + str(accuracy) + \", error rate = \" + str(error_rate))"
   ]
  },
  {
   "cell_type": "code",
   "execution_count": null,
   "metadata": {},
   "outputs": [],
   "source": [
    "print('''===========================================\n",
    "Confusion Matrices\n",
    "===========================================\n",
    "Naive bayes (Stratified 10-Fold Cross Validation):''')\n",
    "\n",
    "ylabels = list(set(Y_train))\n",
    "matrix = myevaluation.confusion_matrix(all_actual_delay_bayes, all_predicted_delay_bayes, ylabels)\n",
    "header = myutils.format_confusion_matrix_into_table(matrix, [\"Delayed/canceled\", \"Not delayed\"], \"Delayed/canceled\")\n",
    "\n",
    "print(tabulate(matrix, headers=header, tablefmt=\"rst\", numalign=\"right\"))"
   ]
  },
  {
   "cell_type": "markdown",
   "metadata": {},
   "source": [
    "Naive Bayes had comparable accuracy to the Zero R classifier, as well as better delayed/canceled recognition. It also has better accuracy, and worse recognition than the random classifier."
   ]
  },
  {
   "cell_type": "markdown",
   "metadata": {},
   "source": [
    "### Decision Tree"
   ]
  },
  {
   "cell_type": "code",
   "execution_count": null,
   "metadata": {},
   "outputs": [],
   "source": [
    "print('''===========================================\n",
    "Predictive Accuracy\n",
    "===========================================\n",
    "Stratified 10-Fold Cross Validation''')\n",
    "k = 10\n",
    "all_predicted_delay_tree = []\n",
    "all_actual_delay_tree = []\n",
    "\n",
    "# Get training data\n",
    "train_folds, test_folds = myevaluation.stratified_kfold_cross_validation(X_train, Y_train, k)\n",
    "for i in range(k):\n",
    "    # Sort training data\n",
    "    xtrain = myutils.distribute_data_by_index(X_train, train_folds[i])\n",
    "    ytrain = myutils.distribute_data_by_index(Y_train, train_folds[i])\n",
    "    xtest = myutils.distribute_data_by_index(X_train, test_folds[i])\n",
    "    ytest = myutils.distribute_data_by_index(Y_train, test_folds[i])\n",
    "\n",
    "    # Compute prediction and convert\n",
    "    tree = MyDecisionTreeClassifier()\n",
    "    tree.fit(xtrain, ytrain, ['RHISPANIC', 'RRACE', 'TBIRTH_YEAR', 'INCOME', 'label'])\n",
    "    predicted_delay = tree.predict(xtest)\n",
    "    all_predicted_delay_tree += predicted_delay\n",
    "    all_actual_delay_tree += ytest\n",
    "# Calculate overall accuracy\n",
    "accuracy = myutils.calculate_accuracy(all_predicted_delay_tree, all_actual_delay_tree)\n",
    "error_rate = 1- accuracy\n",
    "\n",
    "print(\"Decision Tree: accuracy = \" + str(accuracy) + \", error rate = \" + str(error_rate))"
   ]
  },
  {
   "cell_type": "code",
   "execution_count": null,
   "metadata": {},
   "outputs": [],
   "source": [
    "print('''===========================================\n",
    "Confusion Matrices\n",
    "===========================================\n",
    "Decision Tree (Stratified 10-Fold Cross Validation):''')\n",
    "\n",
    "ylabels = list(set(Y_train))\n",
    "matrix = myevaluation.confusion_matrix(all_actual_delay_tree, all_predicted_delay_tree, ylabels)\n",
    "header = myutils.format_confusion_matrix_into_table(matrix, [\"Delayed/canceled\", \"Not delayed\"], \"Delayed/canceled\")\n",
    "\n",
    "print(tabulate(matrix, headers=header, tablefmt=\"rst\", numalign=\"right\"))"
   ]
  },
  {
   "cell_type": "markdown",
   "metadata": {},
   "source": [
    "The decision tree, as you can see, did not have very good performance. It was out performed slightly by the zero R and Naive Bayes classifiers in terms of accuracy only had the benefit of better delayed/canceled recognition. The best accuracy results were found using hispanic, race, birth year, and income. Adding gender and education decreased accuracy and increased delayed/canceled recognition. With the current structure it has almost identical performance to the Naive Bayes classifier, if slightly less good. In accuracy it still outperformed the random classifier, though did worse in delayed/canceled recognition."
   ]
  },
  {
   "cell_type": "markdown",
   "metadata": {},
   "source": [
    "### Random Forest \n",
    "With the forest classifier we had to use a different method of evaluation due to the randomness that it featured. To do this we followed the random forest procedure described in class (located at https://github.com/GonzagaCPSC322/U7-Ensemble-Learning/blob/master/A%20Ensemble%20Learning.ipynb). We computed a stratified k fold cross validation with k=3. Then we selected one of the folds as our validation set, and the rest as our training set. We trained the forest over the training set, then tested it against the validation set. This was done 5 times to attempt to minimize the effects of randomness in evaluating the classifier. We then computed the overall accuracy and confusion matrixes, and continued as normal in our evaluation. Additionally, we varied the values of N, M, and F to see if they had an effect on accuracy"
   ]
  },
  {
   "cell_type": "code",
   "execution_count": null,
   "metadata": {},
   "outputs": [],
   "source": [
    "N = 10\n",
    "M = 5\n",
    "F = 1\n",
    "\n",
    "print('''===========================================\n",
    "Predictive Accuracy\n",
    "===========================================''')\n",
    "print(\"Individual Tree Accuracy:\")\n",
    "all_predicted_forest = []\n",
    "all_actual_forest = []\n",
    "# Run tests of each parameter 5 times\n",
    "for i in range(5):\n",
    "    forest = MyRandomForestClassifier(N, F, M)\n",
    "    accuracy, predicted, actual = forest.test_tree_stratified_kfold(X_train, Y_train)\n",
    "    all_predicted_forest += predicted\n",
    "    all_actual_forest += actual\n",
    "    \n",
    "    # Print off each trees individual validation acccuracy\n",
    "    for tree in forest.chosen_trees:\n",
    "        print(\"Tree attributes: \" + str(tree['attributes']) + \", validation accuracy: \" + str(tree['accuracy']))\n",
    "    \n",
    "accuracy = myutils.calculate_accuracy(all_predicted_forest, all_actual_forest)\n",
    "error_rate = 1- accuracy\n",
    "print('''===========================================\n",
    "Predictive Accuracy\n",
    "===========================================\n",
    "Stratified 3-Fold Cross Validation''')\n",
    "print(\"Forest: accuracy = \" + str(accuracy) + \", error rate = \" + str(error_rate))\n",
    "print('''Confusion Matrices:''')\n",
    "\n",
    "ylabels = list(set(Y_train))\n",
    "matrix = myevaluation.confusion_matrix(all_actual_delay_tree, all_predicted_delay_tree, ylabels)\n",
    "header = myutils.format_confusion_matrix_into_table(matrix, [\"Delayed/canceled\", \"Not delayed\"], \"Delayed/canceled\")\n",
    "\n",
    "print(tabulate(matrix, headers=header, tablefmt=\"rst\", numalign=\"right\"))"
   ]
  },
  {
   "cell_type": "code",
   "execution_count": null,
   "metadata": {},
   "outputs": [],
   "source": [
    "N = 10\n",
    "M = 5\n",
    "F = 4\n",
    "\n",
    "print('''===========================================\n",
    "Predictive Accuracy\n",
    "===========================================''')\n",
    "print(\"Individual Tree Accuracy:\")\n",
    "all_predicted_forest = []\n",
    "all_actual_forest = []\n",
    "# Run tests of each parameter 5 times\n",
    "for i in range(5):\n",
    "    forest = MyRandomForestClassifier(N, F, M)\n",
    "    accuracy, predicted, actual = forest.test_tree_stratified_kfold(X_train, Y_train)\n",
    "    all_predicted_forest += predicted\n",
    "    all_actual_forest += actual\n",
    "    \n",
    "    # Print off each trees individual validation acccuracy\n",
    "    for tree in forest.chosen_trees:\n",
    "        print(\"Tree attributes: \" + str(tree['attributes']) + \", validation accuracy: \" + str(tree['accuracy']))\n",
    "    \n",
    "accuracy = myutils.calculate_accuracy(all_predicted_forest, all_actual_forest)\n",
    "error_rate = 1- accuracy\n",
    "print('''===========================================\n",
    "Predictive Accuracy\n",
    "===========================================\n",
    "Stratified 3-Fold Cross Validation''')\n",
    "print(\"Forest: accuracy = \" + str(accuracy) + \", error rate = \" + str(error_rate))\n",
    "print('''Confusion Matrices:''')\n",
    "\n",
    "ylabels = list(set(Y_train))\n",
    "matrix = myevaluation.confusion_matrix(all_actual_delay_tree, all_predicted_delay_tree, ylabels)\n",
    "header = myutils.format_confusion_matrix_into_table(matrix, [\"Delayed/canceled\", \"Not delayed\"], \"Delayed/canceled\")\n",
    "\n",
    "print(tabulate(matrix, headers=header, tablefmt=\"rst\", numalign=\"right\"))"
   ]
  },
  {
   "cell_type": "code",
   "execution_count": null,
   "metadata": {},
   "outputs": [],
   "source": [
    "Increasing F seems to have only decreased the accuracy of the classifier."
   ]
  },
  {
   "cell_type": "code",
   "execution_count": null,
   "metadata": {},
   "outputs": [],
   "source": [
    "N = 20\n",
    "M = 5\n",
    "F = 2\n",
    "\n",
    "print('''===========================================\n",
    "Predictive Accuracy\n",
    "===========================================''')\n",
    "print(\"Individual Tree Accuracy:\")\n",
    "all_predicted_forest = []\n",
    "all_actual_forest = []\n",
    "# Run tests of each parameter 5 times\n",
    "for i in range(5):\n",
    "    forest = MyRandomForestClassifier(N, F, M)\n",
    "    accuracy, predicted, actual = forest.test_tree_stratified_kfold(X_train, Y_train)\n",
    "    all_predicted_forest += predicted\n",
    "    all_actual_forest += actual\n",
    "    \n",
    "    # Print off each trees individual validation acccuracy\n",
    "    for tree in forest.chosen_trees:\n",
    "        print(\"Tree attributes: \" + str(tree['attributes']) + \", validation accuracy: \" + str(tree['accuracy']))\n",
    "    \n",
    "accuracy = myutils.calculate_accuracy(all_predicted_forest, all_actual_forest)\n",
    "error_rate = 1- accuracy\n",
    "print('''===========================================\n",
    "Predictive Accuracy\n",
    "===========================================\n",
    "Stratified 3-Fold Cross Validation''')\n",
    "print(\"Forest: accuracy = \" + str(accuracy) + \", error rate = \" + str(error_rate))\n",
    "print('''Confusion Matrices:''')\n",
    "\n",
    "ylabels = list(set(Y_train))\n",
    "matrix = myevaluation.confusion_matrix(all_actual_delay_tree, all_predicted_delay_tree, ylabels)\n",
    "header = myutils.format_confusion_matrix_into_table(matrix, [\"Delayed/canceled\", \"Not delayed\"], \"Delayed/canceled\")\n",
    "\n",
    "print(tabulate(matrix, headers=header, tablefmt=\"rst\", numalign=\"right\"))"
   ]
  },
  {
   "cell_type": "code",
   "execution_count": 9,
   "metadata": {},
   "outputs": [],
   "source": [
    "Increasing M seems to have marginally increased the accuracy, but not significantly"
   ]
  },
  {
   "cell_type": "code",
   "execution_count": null,
   "metadata": {},
   "outputs": [],
   "source": [
    "N = 20\n",
    "M = 2\n",
    "F = 1\n",
    "\n",
    "print('''===========================================\n",
    "Predictive Accuracy\n",
    "===========================================''')\n",
    "print(\"Individual Tree Accuracy:\")\n",
    "all_predicted_forest = []\n",
    "all_actual_forest = []\n",
    "# Run tests of each parameter 5 times\n",
    "for i in range(5):\n",
    "    forest = MyRandomForestClassifier(N, F, M)\n",
    "    accuracy, predicted, actual = forest.test_tree_stratified_kfold(X_train, Y_train)\n",
    "    all_predicted_forest += predicted\n",
    "    all_actual_forest += actual\n",
    "    \n",
    "    # Print off each trees individual validation acccuracy\n",
    "    for tree in forest.chosen_trees:\n",
    "        print(\"Tree attributes: \" + str(tree['attributes']) + \", validation accuracy: \" + str(tree['accuracy']))\n",
    "    \n",
    "accuracy = myutils.calculate_accuracy(all_predicted_forest, all_actual_forest)\n",
    "error_rate = 1- accuracy\n",
    "print('''===========================================\n",
    "Predictive Accuracy\n",
    "===========================================\n",
    "Stratified 3-Fold Cross Validation''')\n",
    "print(\"Forest: accuracy = \" + str(accuracy) + \", error rate = \" + str(error_rate))\n",
    "print('''Confusion Matrices:''')\n",
    "\n",
    "ylabels = list(set(Y_train))\n",
    "matrix = myevaluation.confusion_matrix(all_actual_delay_tree, all_predicted_delay_tree, ylabels)\n",
    "header = myutils.format_confusion_matrix_into_table(matrix, [\"Delayed/canceled\", \"Not delayed\"], \"Delayed/canceled\")\n",
    "\n",
    "print(tabulate(matrix, headers=header, tablefmt=\"rst\", numalign=\"right\"))"
   ]
  },
  {
   "cell_type": "code",
   "execution_count": null,
   "metadata": {},
   "outputs": [],
   "source": [
    "Decreasing the M value also did not noticeably modify the results.\n",
    "\n",
    "As such the best combination seems to have F=1, with M and N not having as much of an effect."
   ]
  },
  {
   "cell_type": "markdown",
   "metadata": {},
   "source": [
    "## Results\n",
    "The forest classifier accuracy outperformed all the other classifiers. In terms of accuracy it beat Naive Bayes, Decision Tree, and Random classifiers. It was on par with the zero R classifier, but had a better Delayed/canceled recognition rate. It didn't have as good a delayed/canceled recognition rate as random did, but it was significantly more accurate, making it still the better choice. As such it was the best. \n",
    "\n",
    "That said it was not a particularly good classifier. It only managed to be on par with the zero R classifier in terms of accuracy, and only counted as a better algorithm because its delayed/canceled recognition rate was superior to zero R's. More work would be required for it to be utilized in an important role."
   ]
  },
  {
   "cell_type": "markdown",
   "metadata": {},
   "source": [
    "### Heroku TODOOOOO!!!!"
   ]
  },
  {
   "cell_type": "code",
   "execution_count": null,
   "metadata": {},
   "outputs": [],
   "source": []
  },
  {
   "cell_type": "markdown",
   "metadata": {},
   "source": [
    "# Conclusion\n",
    "\n",
    "Overall the project was moderately successful. We started with a dataset with a number of demographic and socioeconomic attributes, and whether or not individuals suffered delayed or canceled care due to COVID-19. Ounce we found the correct dataset, we were able to relatively easily use part of that data for classification. We approached our classifiers by creating two baseline ones, then testing three others against those baselines to determine how effective they were. Our best classifier, the random forest, had comparable accuracy to the first baseline classifier with better recognition rates, and outperformed the second baseline classifier by a notable amount in accuracy. However, these results were not ideal, and future development would be needed before the classifier could be useful. \n",
    "\n",
    "Future work might try predicting based on other attributes that were included in the general dataset. Employment status, other health related information, housing status, or any number of elements may have a stronger correlation. Atlernatively, the correlations of some attributes may be greater in certain areas, such as race mattering in some states more than others. Finally, it should be noted that the current classifier utilized only about 3000 of the ~70,000 data points available in one week of a study that has been going along for at least 27 weeks due to runtime issues. Utilizing more computer power and optimized algorithms to process all of the data might reveal that the current snapshot was not representative of the whole, and should definitely be investigated."
   ]
  }
 ],
 "metadata": {
  "kernelspec": {
   "display_name": "Python 3",
   "language": "python",
   "name": "python3"
  },
  "language_info": {
   "codemirror_mode": {
    "name": "ipython",
    "version": 3
   },
   "file_extension": ".py",
   "mimetype": "text/x-python",
   "name": "python",
   "nbconvert_exporter": "python",
   "pygments_lexer": "ipython3",
   "version": "3.8.5"
  }
 },
 "nbformat": 4,
 "nbformat_minor": 4
}
