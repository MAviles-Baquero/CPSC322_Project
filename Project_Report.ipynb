{
 "cells": [
  {
   "cell_type": "markdown",
   "metadata": {},
   "source": [
    "# COVID-19's Impact on Healthcare Accessibility\n",
    "By: Tristan Call and Maria Elena Aviles-Baquero  \n",
    "CPSC 322, Spring 2021  "
   ]
  },
  {
   "cell_type": "markdown",
   "metadata": {},
   "source": [
    "# Introductory"
   ]
  },
  {
   "cell_type": "markdown",
   "metadata": {},
   "source": [
    "## Our Database:\n",
    "The database we used was taken from the Household Pulse Survey Public Use File which provided data regarding an individual's access to healthcare during the COVID-19 pandemic. Out of the 27 weeks of data this survey provided, we selected the data from week 21 to analyze, which covered the time period from December 9th to December 21st 2020. \n",
    "The classification task we chose to tackle was the relationship between six specified attributes and whether or not the population was delayed or denied healthcare access."
   ]
  },
  {
   "cell_type": "markdown",
   "metadata": {},
   "source": [
    "## Our Findings:\n",
    "\n",
    "Out of the classifier approaches we learned throughout this semester, we found that the Random Forest Classifier performed the best when compared to the Naive Bayes and Decision Tree Classifiers (there will be more about our approach further down this notebook). \n",
    "Besided determining the most accurate classifier, we learned more about the relationship between the different aspects of different populations of people, separated by the attributes, and their relationship to healthcare access during COVID-19 (more under \"Data Visualizations\")."
   ]
  },
  {
   "cell_type": "markdown",
   "metadata": {},
   "source": [
    "\n",
    "# Data Analysis"
   ]
  },
  {
   "cell_type": "markdown",
   "metadata": {},
   "source": [
    "## Database information\n",
    "The original data was very large with about 70,000 instances and over 70 attributes. To narrow the dataset so its compatibile with our computers, we selected a chunk of the data (4999 instances) and six attributes that interested us, and created a new file holding this condensed data. Out of all of the attributes in our new dataset, only the TBIRTH_YEARS attribute was not categorical, however this quickly changed by creating our own categories for each decade present in the data.\n",
    "For more information on our data manipulation see \"Loading Data\" below."
   ]
  },
  {
   "cell_type": "markdown",
   "metadata": {},
   "source": [
    "## Loading in the data"
   ]
  },
  {
   "cell_type": "code",
   "execution_count": 1,
   "metadata": {},
   "outputs": [],
   "source": [
    "# some useful mysklearn package import statements and reloads\n",
    "import importlib\n",
    "\n",
    "import mysklearn.myutils\n",
    "importlib.reload(mysklearn.myutils)\n",
    "import mysklearn.myutils as myutils\n",
    "\n",
    "# uncomment once you paste your mypytable.py into mysklearn package\n",
    "import mysklearn.mypytable\n",
    "importlib.reload(mysklearn.mypytable)\n",
    "from mysklearn.mypytable import MyPyTable \n",
    "\n",
    "import mysklearn.plot_utils\n",
    "importlib.reload(mysklearn.plot_utils)\n",
    "import mysklearn.plot_utils as plot_utils\n",
    "\n",
    "import mysklearn.myclassifiers\n",
    "importlib.reload(mysklearn.myclassifiers)\n",
    "from mysklearn.myclassifiers import MyKNeighborsClassifier, MySimpleLinearRegressor, MyNaiveBayesClassifier, MyDecisionTreeClassifier, MyZeroRClassifier, MyRandomClassifier, MyRandomForestClassifier\n",
    "\n",
    "\n",
    "import mysklearn.myevaluation\n",
    "importlib.reload(mysklearn.myevaluation)\n",
    "import mysklearn.myevaluation as myevaluation\n",
    "\n",
    "import os\n",
    "import pandas as pd\n",
    "from tabulate import tabulate"
   ]
  },
  {
   "cell_type": "markdown",
   "metadata": {},
   "source": [
    "### Manipulate Data into Useable Format\n",
    "The first thing we need to do is grab the data from the sas file and manipulate it into a format and size which is workable with our very much not optimized dataset. Part of this involves dropping rows with NaNs or -99s (seen but unanswered questions) in them ahead of time. Overall we aim to go from about 70,000 results to a more reasonable < 10,000 so that our computers can run it in a reasonable amount of time."
   ]
  },
  {
   "cell_type": "code",
   "execution_count": 2,
   "metadata": {},
   "outputs": [
    {
     "name": "stdout",
     "output_type": "stream",
     "text": [
      "      TBIRTH_YEAR  EGENDER  RHISPANIC  RRACE  EEDUC  INCOME  DELAY  NOTGET\n",
      "1          1969.0      2.0        1.0    1.0    7.0     6.0    1.0     2.0\n",
      "2          1959.0      2.0        1.0    1.0    7.0     4.0    1.0     1.0\n",
      "4          1967.0      1.0        1.0    1.0    4.0     6.0    2.0     2.0\n",
      "5          1965.0      1.0        1.0    1.0    7.0     6.0    2.0     2.0\n",
      "6          1962.0      2.0        1.0    2.0    4.0     1.0    2.0     2.0\n",
      "...           ...      ...        ...    ...    ...     ...    ...     ...\n",
      "4993       1964.0      2.0        1.0    1.0    4.0     1.0    2.0     2.0\n",
      "4994       1984.0      1.0        1.0    1.0    4.0     7.0    1.0     1.0\n",
      "4995       1973.0      1.0        1.0    1.0    6.0     8.0    2.0     2.0\n",
      "4997       1976.0      2.0        1.0    1.0    3.0     3.0    1.0     1.0\n",
      "4999       1958.0      2.0        1.0    1.0    7.0     5.0    2.0     2.0\n",
      "\n",
      "[3909 rows x 8 columns]\n"
     ]
    }
   ],
   "source": [
    "# Grab the data\n",
    "week21_filename = os.path.join(\"input_data\", \"pulse2020_puf_21.sas7bdat\")\n",
    "iterator = pd.read_sas(week21_filename, chunksize=5000)\n",
    "alldata = []\n",
    "for chunk in iterator:\n",
    "    alldata.append(chunk)\n",
    "\n",
    "relevant_attributes = [\"TBIRTH_YEAR\", \"EGENDER\", \"RHISPANIC\", \"RRACE\", \"EEDUC\", \"INCOME\", \"DELAY\", \"NOTGET\"]\n",
    "\n",
    "# Grab a chunk of data with the attributes we are interested in, minus Nans, and save to a local file\n",
    "data = alldata[0][[\"TBIRTH_YEAR\", \"EGENDER\", \"RHISPANIC\", \"RRACE\", \"EEDUC\", \"INCOME\", \"DELAY\", \"NOTGET\"]]\n",
    "working_data_filename = os.path.join(\"input_data\", \"week21_working.csv\")\n",
    "nafree_data = data.dropna()\n",
    "\n",
    "# Get rid of -99 results (aka seen but not answered)\n",
    "nafree_data = nafree_data[nafree_data.INCOME != -99]\n",
    "nafree_data = nafree_data[nafree_data.DELAY != -99]\n",
    "nafree_data = nafree_data[nafree_data.NOTGET != -99]\n",
    "print(nafree_data)\n",
    "\n",
    "# Save to file\n",
    "nafree_data.to_csv(working_data_filename)"
   ]
  },
  {
   "cell_type": "markdown",
   "metadata": {},
   "source": [
    "### Organize the data\n",
    "Next we want to get the data into a more useful format. Step one of this is chunk years into decades to have a reasonable number of attribute values for year according to the below:\n",
    "\n",
    "years | label\n",
    "-|-\n",
    "1932-1941 | 1\n",
    "1942-1951 | 2\n",
    "1952-1961 | 3\n",
    "1962-1971 | 4\n",
    "1972-1981 | 5\n",
    "1982-1991 | 6\n",
    "1992-2002 | 7\n",
    "\n",
    "Next we want to create a DELAYNOTGET column as a composite of delay and notget so we can look into both these attributes at ounce."
   ]
  },
  {
   "cell_type": "code",
   "execution_count": 3,
   "metadata": {},
   "outputs": [],
   "source": [
    "importlib.reload(mysklearn.myutils)\n",
    "import mysklearn.myutils as myutils\n",
    "\n",
    "# Load the data into a mypytable for future analysis\n",
    "overall_table = MyPyTable()\n",
    "overall_table.load_from_file(working_data_filename)\n",
    "overall_table.convert_to_numeric()\n",
    "\n",
    "# Convert year into bigger categorical chunks\n",
    "year_col = overall_table.get_column(\"TBIRTH_YEAR\")\n",
    "year_label = [x + 1 for x in range(7)]\n",
    "cutoffs = [1932 + 10 * x for x in range(8)]\n",
    "year_col = myutils.categorize_continuous_list(year_col, cutoffs, year_label)\n",
    "\n",
    "# Create DELAYNOTGET column\n",
    "delay = overall_table.get_column(\"DELAY\")\n",
    "notget = overall_table.get_column(\"NOTGET\")\n",
    "delaynotget = []\n",
    "for i in range(len(delay)):\n",
    "    if delay[i] == 1 or notget[i] == 1:\n",
    "        delaynotget.append(1)\n",
    "    else:\n",
    "        delaynotget.append(2)\n",
    "        \n",
    "# Combine all the above into the overall_table\n",
    "overall_table.column_names.append(\"DELAYNOTGET\")\n",
    "overall_table.data = [[overall_table.data[i][0]] + [year_col[i]] + overall_table.data[i][2:] + [delaynotget[i]] for i in range(len(year_col))]\n",
    "#overall_table.pretty_print()"
   ]
  },
  {
   "cell_type": "markdown",
   "metadata": {},
   "source": [
    "## Summary Statistics\n",
    "\n",
    "When computing the summary statistics, there was not much data we could infer that would be important for our interpretations. "
   ]
  },
  {
   "cell_type": "code",
   "execution_count": 4,
   "metadata": {},
   "outputs": [
    {
     "name": "stdout",
     "output_type": "stream",
     "text": [
      "attribute      min    max    mid      avg    median       std\n",
      "-----------  -----  -----  -----  -------  --------  --------\n",
      "TBIRTH_YEAR      1      7    4    4.0967          4  1.55314\n",
      "EGENDER          1      2    1.5  1.59964         2  0.489971\n",
      "RHISPANIC        1      2    1.5  1.08314         1  0.276096\n",
      "RRACE            1      4    2.5  1.31491         1  0.778868\n",
      "EEDUC            1      7    4    5.33078         6  1.42407\n",
      "INCOME           1      8    4.5  4.5559          5  2.07749\n",
      "DELAY            1      2    1.5  1.65004         2  0.476958\n",
      "NOTGET           1      2    1.5  1.74648         2  0.435025\n",
      "DELAYNOTGET      1      2    1.5  1.61474         2  0.486658\n"
     ]
    }
   ],
   "source": [
    "importlib.reload(mysklearn.mypytable)\n",
    "from mysklearn.mypytable import MyPyTable \n",
    "importlib.reload(mysklearn.plot_utils)\n",
    "import mysklearn.plot_utils as plot_utils\n",
    "\n",
    "# use overall_table object declared above to compute the stats for all attributes\n",
    "table_stats = overall_table.compute_summary_statistics(overall_table.column_names[1:])\n",
    "# print out the statistics table\n",
    "table_stats.pretty_print()\n",
    "\n",
    "items, values = myutils.get_item_frequency(overall_table.get_column(\"DELAYNOTGET\"))"
   ]
  },
  {
   "cell_type": "markdown",
   "metadata": {},
   "source": [
    "## Data Visualizations"
   ]
  },
  {
   "cell_type": "markdown",
   "metadata": {},
   "source": [
    "### Data Breakdown"
   ]
  },
  {
   "cell_type": "code",
   "execution_count": 25,
   "metadata": {},
   "outputs": [
    {
     "name": "stdout",
     "output_type": "stream",
     "text": [
      "[4997.0, 5, 2.0, 1.0, 1.0, 3.0, 3.0, 1.0, 1.0, 1]\n"
     ]
    }
   ],
   "source": [
    "importlib.reload(mysklearn.mypytable)\n",
    "from mysklearn.mypytable import MyPyTable \n",
    "\n",
    "# get subtables group by whether or not an instance was delayed/didn't get care or did receive care without delay\n",
    "group_names, subtables = overall_table.group_by(\"DELAYNOTGET\")\n",
    "# first subtable represents the instances where the individual got delayed care or did not get any\n",
    "delayed_or_none = MyPyTable(overall_table.column_names, subtables[0])"
   ]
  },
  {
   "cell_type": "markdown",
   "metadata": {},
   "source": [
    "In the data breakdown, the dataset is split into subtables based on the value of \"DELAYNOTGET\". The first subtable given by the group_by function, holds the instances where the DELAYNOTGET value is 1, meaning that the instance was denied or delayed healthcare. The separation of the dataset in this manner is extremely useful further on, when the percentage of each population must be calculated in order to see an accurate representation of the relationship between the class and attribute."
   ]
  },
  {
   "cell_type": "markdown",
   "metadata": {},
   "source": [
    "Before going through the visualizations of the dataset, it is important to understand how the values were determined. By creating a function call percentage_of_population, we were able to go through the dataset and the subtable and take count of each unique attribute in a specified column. In the end the counts in the subtable is divided by the counts in the table to determine the percentage for each unique value."
   ]
  },
  {
   "cell_type": "markdown",
   "metadata": {},
   "source": [
    "### Percentage of Population Within Each Birth Decade and Accessibility to Healthcare"
   ]
  },
  {
   "cell_type": "code",
   "execution_count": 6,
   "metadata": {},
   "outputs": [
    {
     "data": {
      "image/png": "[encoded data removed]",
      "text/plain": [
       "<Figure size 432x288 with 1 Axes>"
      ]
     },
     "metadata": {
      "needs_background": "light"
     },
     "output_type": "display_data"
    }
   ],
   "source": [
    "importlib.reload(mysklearn.plot_utils)\n",
    "import mysklearn.plot_utils as plot_utils\n",
    "importlib.reload(mysklearn.myutils)\n",
    "import mysklearn.myutils as myutils\n",
    "\n",
    "birth_years = [\"1962-71\", \"1952-61\", \"1972-81\", \"1992-2002\", \"1942-51\", \"1982-91\", \"1932-41\"]\n",
    "percentages = myutils.percentage_of_population(overall_table.data, delayed_or_none.data, 1)\n",
    "\n",
    "items = list(percentages.values())\n",
    "for i in range(len(items)):\n",
    "    items[i] = items[i] * 100\n",
    "\n",
    "# plot a bar graph for each subtable to compare which age groups were more likely to receive care, and which were more likely to be denied\n",
    "plot_utils.plot_bar(birth_years, items, \"Birth Years Categories\", \"Num of Frequencies\", \"Birth Year Frequencies for Individuals Who Were Delayed or Did Not Receive Care\")"
   ]
  },
  {
   "cell_type": "markdown",
   "metadata": {},
   "source": [
    "After taking the percentage of each birth decade within the dataset who were denied or delayed healthcare, it was interesting to see that individuals born in the decades 1972-81 and 1982-91 were most likely to be delayed or denied healthcare. While there is no obvious reason for this preliminary relationship, it is possible that accessibility to healthcare was easier for individuals who are much older, due to the increased risk they have if they contract COVID-19."
   ]
  },
  {
   "cell_type": "markdown",
   "metadata": {},
   "source": [
    "### Percentage of Population of Each Race and Ethnicity and Accessibility to Healthcare"
   ]
  },
  {
   "cell_type": "code",
   "execution_count": 7,
   "metadata": {},
   "outputs": [
    {
     "data": {
      "image/png": "[encoded data removed]",
      "text/plain": [
       "<Figure size 432x288 with 1 Axes>"
      ]
     },
     "metadata": {
      "needs_background": "light"
     },
     "output_type": "display_data"
    },
    {
     "data": {
      "image/png": "[encoded data removed]",
      "text/plain": [
       "<Figure size 432x288 with 1 Axes>"
      ]
     },
     "metadata": {
      "needs_background": "light"
     },
     "output_type": "display_data"
    }
   ],
   "source": [
    "importlib.reload(mysklearn.plot_utils)\n",
    "import mysklearn.plot_utils as plot_utils\n",
    "importlib.reload(mysklearn.myutils)\n",
    "import mysklearn.myutils as myutils\n",
    "\n",
    "# Race\n",
    "race_labels = [\"White\", \"Black\", \"Asian\", \"Two or More\"]\n",
    "percentages = myutils.percentage_of_population(overall_table.data, delayed_or_none.data, 4)\n",
    "\n",
    "items = list(percentages.values())\n",
    "for i in range(len(items)):\n",
    "    items[i] = items[i] * 100\n",
    "\n",
    "# plot a bar graph for each subtable to compare which age groups were more likely to receive care, and which were more likely to be denied\n",
    "plot_utils.plot_bar(race_labels, items, \"Race\", \"Percent of Population\", \"Race Percentage for Individuals Who Were Delayed or Did Not Receive Care\")\n",
    "\n",
    "\n",
    "# Ethnicity (Hispanic)\n",
    "hispanic_labels = [\"No\", \"Yes\"]\n",
    "percentages = myutils.percentage_of_population(overall_table.data, delayed_or_none.data, 3)\n",
    "\n",
    "items = list(percentages.values())\n",
    "for i in range(len(items)):\n",
    "    items[i] = items[i] * 100\n",
    "\n",
    "# plot a bar graph for each subtable to compare which age groups were more likely to receive care, and which were more likely to be denied\n",
    "plot_utils.plot_bar(hispanic_labels, percentages, \"Hispanic\", \"Percent of Population\", \"Hispanic Percentage for Individuals Who Were Delayed or Did Not Receive Care\")"
   ]
  },
  {
   "cell_type": "markdown",
   "metadata": {},
   "source": [
    "After taking the percentage of each race and ethinicity, there was unfortunately a clear difference between the races and/or ethincity and the accessibility to healthcare. According to the graphs above, individuals who identify as two or more races and individuals who are hispanic are more likely to be denied or delayed healthcare. These results were a bit more understandable, unfortunately, due the social issue regarding disparities between races and accessibility to different human necessities."
   ]
  },
  {
   "cell_type": "markdown",
   "metadata": {},
   "source": [
    "### Percentage of Population Within Each Sex and Accessibility to Healthcare"
   ]
  },
  {
   "cell_type": "code",
   "execution_count": 8,
   "metadata": {},
   "outputs": [
    {
     "data": {
      "image/png": "[encoded data removed]",
      "text/plain": [
       "<Figure size 432x288 with 1 Axes>"
      ]
     },
     "metadata": {
      "needs_background": "light"
     },
     "output_type": "display_data"
    }
   ],
   "source": [
    "importlib.reload(mysklearn.plot_utils)\n",
    "import mysklearn.plot_utils as plot_utils\n",
    "importlib.reload(mysklearn.myutils)\n",
    "import mysklearn.myutils as myutils\n",
    "\n",
    "# Gender/Sex\n",
    "sex_labels = [\"Female\", \"Male\"]\n",
    "percentages = myutils.percentage_of_population(overall_table.data, delayed_or_none.data, 2)\n",
    "\n",
    "items = list(percentages.values())\n",
    "for i in range(len(items)):\n",
    "    items[i] = items[i] * 100\n",
    "\n",
    "# plot a bar graph for each subtable to compare which age groups were more likely to receive care, and which were more likely to be denied\n",
    "plot_utils.plot_bar(sex_labels, items, \"Gender\", \"Percent of Population\", \"Sex Percentage for Individuals Who Were Delayed or Did Not Receive Care\")"
   ]
  },
  {
   "cell_type": "markdown",
   "metadata": {},
   "source": [
    "After taking the percentage of each sex/gender, it is evident that women were more likely to be denied or delayed healthcare. Like the previous attributes, this result is unfortunately reasonable, again due to the social dispartities between men and women. It is also important to note that the only values for this attribute were \"Female\" and \"Male\" so there is no information regarding individuals who are transgender who also may be present in the dataset. "
   ]
  },
  {
   "cell_type": "markdown",
   "metadata": {},
   "source": [
    "### Percentage of Population Who Have Received Different Education Levels and Accessibility to Healthcare"
   ]
  },
  {
   "cell_type": "code",
   "execution_count": 9,
   "metadata": {},
   "outputs": [
    {
     "data": {
      "image/png": "[encoded data removed]",
      "text/plain": [
       "<Figure size 432x288 with 1 Axes>"
      ]
     },
     "metadata": {
      "needs_background": "light"
     },
     "output_type": "display_data"
    }
   ],
   "source": [
    "importlib.reload(mysklearn.plot_utils)\n",
    "import mysklearn.plot_utils as plot_utils\n",
    "importlib.reload(mysklearn.myutils)\n",
    "import mysklearn.myutils as myutils\n",
    "\n",
    "# Education\n",
    "ed_labels = [\"Graduate\", \"Some College\", \"High School/GED\", \"Associate's\", \"Bachelor's\", \"< High School\", \"Some High School\"]\n",
    "percentages = myutils.percentage_of_population(overall_table.data, delayed_or_none.data, 5)\n",
    "\n",
    "items = list(percentages.values())\n",
    "for i in range(len(items)):\n",
    "    items[i] = items[i] * 100\n",
    "\n",
    "# plot a bar graph for each subtable to compare which age groups were more likely to receive care, and which were more likely to be denied\n",
    "plot_utils.plot_bar(ed_labels, items, \"Education Level\", \"Num of Frequencies\", \"Education Frequencies for Individuals Who Were Delayed or Did Not Receive Care\")"
   ]
  },
  {
   "cell_type": "markdown",
   "metadata": {},
   "source": [
    "Lastly, after taking the percentage of each education level, it seems that individuals who received less than a high school level of education are more likely to be denied or delayed healthcare during the COVID-19 pandemic. While no research was done to determine the cause of this result, it could be guessed that individuals who have less than a high school level of education may not have access to jobs that will provide healthcare or a variety or socioeconomic reasons."
   ]
  },
  {
   "cell_type": "markdown",
   "metadata": {},
   "source": [
    "# Classification\n",
    "First we will break the information into the appropriate format"
   ]
  },
  {
   "cell_type": "code",
   "execution_count": 11,
   "metadata": {},
   "outputs": [],
   "source": [
    "# Break information into X_train and class_label\n",
    "X_train = overall_table.get_columns([\"TBIRTH_YEAR\", \"EGENDER\", \"RHISPANIC\", \"RRACE\", \"EEDUC\", \"INCOME\"])\n",
    "X_train = X_train.data\n",
    "Y_train = overall_table.get_column(\"DELAYNOTGET\")"
   ]
  },
  {
   "cell_type": "markdown",
   "metadata": {},
   "source": [
    "### Process\n",
    "To find the best classifier, we first computed 2 baseline classifiers, ZeroR and random. We then tested naive bayes, decision tree, and random forest classifiers and looked at how they compared to the baselines and each other. All of these classifiers were loosley based on the sklearn implementation, but featured simpler algorithms made by the authors and less optimization (https://scikit-learn.org/stable/).\n",
    "\n",
    "### Evaluation\n",
    "To determine which classifier was the best, we ran each of them over a stratified 10-fold cross validation testing technique for accuracy. The exception was the random forest classifier, which required its own unique approach. We then plugged these results into a confusion matrix to determine if the classifier was better at one or another prediction. Given roughly equal accuracy (within about 1%), the classifier where the recognition rates of all class labels were closer to being the same won out. Meaning any classifier which at least matched the zero R classifier in accuracy, but didn't have a 0%, 100% split in recognition rates, would win out."
   ]
  },
  {
   "cell_type": "markdown",
   "metadata": {},
   "source": [
    "## Compute the Baseline\n",
    "First we will compute the baseline classifiers to get an idea of how must we must improve our classifiers.\n",
    "### Zero R"
   ]
  },
  {
   "cell_type": "code",
   "execution_count": 12,
   "metadata": {},
   "outputs": [
    {
     "name": "stdout",
     "output_type": "stream",
     "text": [
      "===========================================\n",
      "Predictive Accuracy\n",
      "===========================================\n",
      "Stratified 10-Fold Cross Validation\n",
      "Zero R: accuracy = 0.614735226400614, error rate = 0.38526477359938605\n"
     ]
    }
   ],
   "source": [
    "print('''===========================================\n",
    "Predictive Accuracy\n",
    "===========================================\n",
    "Stratified 10-Fold Cross Validation''')\n",
    "k = 10\n",
    "all_predicted_delay_zero = []\n",
    "all_actual_delay_zero = []\n",
    "\n",
    "# Get training data\n",
    "train_folds, test_folds = myevaluation.stratified_kfold_cross_validation(X_train, Y_train, k)\n",
    "for i in range(k):\n",
    "    # Sort training data\n",
    "    xtrain = myutils.distribute_data_by_index(X_train, train_folds[i])\n",
    "    ytrain = myutils.distribute_data_by_index(Y_train, train_folds[i])\n",
    "    xtest = myutils.distribute_data_by_index(X_train, test_folds[i])\n",
    "    ytest = myutils.distribute_data_by_index(Y_train, test_folds[i])\n",
    "\n",
    "    # Compute prediction and convert\n",
    "    zero = MyZeroRClassifier()\n",
    "    zero.fit(xtrain, ytrain)\n",
    "    predicted_delay = zero.predict(xtest)\n",
    "    all_predicted_delay_zero += predicted_delay\n",
    "    all_actual_delay_zero += ytest\n",
    "    \n",
    "# Calculate overall accuracy\n",
    "accuracy = myutils.calculate_accuracy(all_predicted_delay_zero, all_actual_delay_zero)\n",
    "error_rate = 1- accuracy\n",
    "\n",
    "print(\"Zero R: accuracy = \" + str(accuracy) + \", error rate = \" + str(error_rate))"
   ]
  },
  {
   "cell_type": "code",
   "execution_count": 13,
   "metadata": {},
   "outputs": [
    {
     "name": "stdout",
     "output_type": "stream",
     "text": [
      "===========================================\n",
      "Confusion Matrices\n",
      "===========================================\n",
      "Zero R (Stratified 10-Fold Cross Validation):\n",
      "==================  ==================  =============  =======  =================\n",
      "Delayed/canceled      Delayed/canceled    Not delayed    Total    Recognition (%)\n",
      "==================  ==================  =============  =======  =================\n",
      "Delayed/canceled                     0           1506     1506                  0\n",
      "Not delayed                          0           2403     2403                100\n",
      "==================  ==================  =============  =======  =================\n"
     ]
    }
   ],
   "source": [
    "print('''===========================================\n",
    "Confusion Matrices\n",
    "===========================================\n",
    "Zero R (Stratified 10-Fold Cross Validation):''')\n",
    "\n",
    "ylabels = list(set(Y_train))\n",
    "matrix = myevaluation.confusion_matrix(all_actual_delay_zero, all_predicted_delay_zero, ylabels)\n",
    "header = myutils.format_confusion_matrix_into_table(matrix, [\"Delayed/canceled\", \"Not delayed\"], \"Delayed/canceled\")\n",
    "\n",
    "print(tabulate(matrix, headers=header, tablefmt=\"rst\", numalign=\"right\"))"
   ]
  },
  {
   "cell_type": "markdown",
   "metadata": {},
   "source": [
    "### Random Classifier"
   ]
  },
  {
   "cell_type": "code",
   "execution_count": 14,
   "metadata": {},
   "outputs": [
    {
     "name": "stdout",
     "output_type": "stream",
     "text": [
      "===========================================\n",
      "Predictive Accuracy\n",
      "===========================================\n",
      "Stratified 10-Fold Cross Validation\n",
      "Random: accuracy = 0.5262215400358148, error rate = 0.4737784599641852\n"
     ]
    }
   ],
   "source": [
    "print('''===========================================\n",
    "Predictive Accuracy\n",
    "===========================================\n",
    "Stratified 10-Fold Cross Validation''')\n",
    "k = 10\n",
    "all_predicted_delay_random = []\n",
    "all_actual_delay_random = []\n",
    "\n",
    "# Get training data\n",
    "train_folds, test_folds = myevaluation.stratified_kfold_cross_validation(X_train, Y_train, k)\n",
    "for i in range(k):\n",
    "    # Sort training data\n",
    "    xtrain = myutils.distribute_data_by_index(X_train, train_folds[i])\n",
    "    ytrain = myutils.distribute_data_by_index(Y_train, train_folds[i])\n",
    "    xtest = myutils.distribute_data_by_index(X_train, test_folds[i])\n",
    "    ytest = myutils.distribute_data_by_index(Y_train, test_folds[i])\n",
    "\n",
    "    # Compute prediction and convert\n",
    "    random = MyRandomClassifier()\n",
    "    random.fit(xtrain, ytrain)\n",
    "    predicted_delay = random.predict(xtest)\n",
    "    all_predicted_delay_random += predicted_delay\n",
    "    all_actual_delay_random += ytest\n",
    "    \n",
    "# Calculate overall accuracy\n",
    "accuracy = myutils.calculate_accuracy(all_predicted_delay_random, all_actual_delay_random)\n",
    "error_rate = 1- accuracy\n",
    "\n",
    "print(\"Random: accuracy = \" + str(accuracy) + \", error rate = \" + str(error_rate))"
   ]
  },
  {
   "cell_type": "code",
   "execution_count": 15,
   "metadata": {},
   "outputs": [
    {
     "name": "stdout",
     "output_type": "stream",
     "text": [
      "===========================================\n",
      "Confusion Matrices\n",
      "===========================================\n",
      "Random (Stratified 10-Fold Cross Validation):\n",
      "==================  ==================  =============  =======  =================\n",
      "Delayed/canceled      Delayed/canceled    Not delayed    Total    Recognition (%)\n",
      "==================  ==================  =============  =======  =================\n",
      "Delayed/canceled                   580            926     1506              38.51\n",
      "Not delayed                        926           1477     2403              61.46\n",
      "==================  ==================  =============  =======  =================\n"
     ]
    }
   ],
   "source": [
    "print('''===========================================\n",
    "Confusion Matrices\n",
    "===========================================\n",
    "Random (Stratified 10-Fold Cross Validation):''')\n",
    "\n",
    "ylabels = list(set(Y_train))\n",
    "matrix = myevaluation.confusion_matrix(all_actual_delay_random, all_predicted_delay_random, ylabels)\n",
    "header = myutils.format_confusion_matrix_into_table(matrix, [\"Delayed/canceled\", \"Not delayed\"], \"Delayed/canceled\")\n",
    "\n",
    "print(tabulate(matrix, headers=header, tablefmt=\"rst\", numalign=\"right\"))"
   ]
  },
  {
   "cell_type": "markdown",
   "metadata": {},
   "source": [
    "## Compute Actual Classifiers\n",
    "Next we try running naive bayes, decision tree, and random forest classifiers over our database and see how they compare."
   ]
  },
  {
   "cell_type": "markdown",
   "metadata": {},
   "source": [
    "### Naive Bayes"
   ]
  },
  {
   "cell_type": "code",
   "execution_count": 16,
   "metadata": {},
   "outputs": [
    {
     "name": "stdout",
     "output_type": "stream",
     "text": [
      "===========================================\n",
      "Predictive Accuracy\n",
      "===========================================\n",
      "Stratified 10-Fold Cross Validation\n",
      "Naive bayes: accuracy = 0.6144794064978255, error rate = 0.3855205935021745\n"
     ]
    }
   ],
   "source": [
    "print('''===========================================\n",
    "Predictive Accuracy\n",
    "===========================================\n",
    "Stratified 10-Fold Cross Validation''')\n",
    "k = 10\n",
    "all_predicted_delay_bayes = []\n",
    "all_actual_delay_bayes = []\n",
    "\n",
    "# Get training data\n",
    "train_folds, test_folds = myevaluation.stratified_kfold_cross_validation(X_train, Y_train, k)\n",
    "for i in range(k):\n",
    "    # Sort training data\n",
    "    xtrain = myutils.distribute_data_by_index(X_train, train_folds[i])\n",
    "    ytrain = myutils.distribute_data_by_index(Y_train, train_folds[i])\n",
    "    xtest = myutils.distribute_data_by_index(X_train, test_folds[i])\n",
    "    ytest = myutils.distribute_data_by_index(Y_train, test_folds[i])\n",
    "\n",
    "    # Compute prediction and convert\n",
    "    bayes = MyNaiveBayesClassifier()\n",
    "    bayes.fit(xtrain, ytrain)\n",
    "    predicted_delay = bayes.predict(xtest)\n",
    "    all_predicted_delay_bayes += predicted_delay\n",
    "    all_actual_delay_bayes += ytest\n",
    "    \n",
    "# Calculate overall accuracy\n",
    "accuracy = myutils.calculate_accuracy(all_predicted_delay_bayes, all_actual_delay_bayes)\n",
    "error_rate = 1- accuracy\n",
    "\n",
    "print(\"Naive bayes: accuracy = \" + str(accuracy) + \", error rate = \" + str(error_rate))"
   ]
  },
  {
   "cell_type": "code",
   "execution_count": 17,
   "metadata": {},
   "outputs": [
    {
     "name": "stdout",
     "output_type": "stream",
     "text": [
      "===========================================\n",
      "Confusion Matrices\n",
      "===========================================\n",
      "Naive bayes (Stratified 10-Fold Cross Validation):\n",
      "==================  ==================  =============  =======  =================\n",
      "Delayed/canceled      Delayed/canceled    Not delayed    Total    Recognition (%)\n",
      "==================  ==================  =============  =======  =================\n",
      "Delayed/canceled                   221           1285     1506              14.67\n",
      "Not delayed                        222           2181     2403              90.76\n",
      "==================  ==================  =============  =======  =================\n"
     ]
    }
   ],
   "source": [
    "print('''===========================================\n",
    "Confusion Matrices\n",
    "===========================================\n",
    "Naive bayes (Stratified 10-Fold Cross Validation):''')\n",
    "\n",
    "ylabels = list(set(Y_train))\n",
    "matrix = myevaluation.confusion_matrix(all_actual_delay_bayes, all_predicted_delay_bayes, ylabels)\n",
    "header = myutils.format_confusion_matrix_into_table(matrix, [\"Delayed/canceled\", \"Not delayed\"], \"Delayed/canceled\")\n",
    "\n",
    "print(tabulate(matrix, headers=header, tablefmt=\"rst\", numalign=\"right\"))"
   ]
  },
  {
   "cell_type": "markdown",
   "metadata": {},
   "source": [
    "Naive Bayes had comparable accuracy to the Zero R classifier, as well as better delayed/canceled recognition. It also has better accuracy, and worse recognition than the random classifier."
   ]
  },
  {
   "cell_type": "markdown",
   "metadata": {},
   "source": [
    "### Decision Tree"
   ]
  },
  {
   "cell_type": "code",
   "execution_count": 18,
   "metadata": {},
   "outputs": [
    {
     "name": "stdout",
     "output_type": "stream",
     "text": [
      "===========================================\n",
      "Predictive Accuracy\n",
      "===========================================\n",
      "Stratified 10-Fold Cross Validation\n",
      "Decision Tree: accuracy = 0.6091071885392684, error rate = 0.3908928114607316\n"
     ]
    }
   ],
   "source": [
    "print('''===========================================\n",
    "Predictive Accuracy\n",
    "===========================================\n",
    "Stratified 10-Fold Cross Validation''')\n",
    "k = 10\n",
    "all_predicted_delay_tree = []\n",
    "all_actual_delay_tree = []\n",
    "\n",
    "# Get training data\n",
    "train_folds, test_folds = myevaluation.stratified_kfold_cross_validation(X_train, Y_train, k)\n",
    "for i in range(k):\n",
    "    # Sort training data\n",
    "    xtrain = myutils.distribute_data_by_index(X_train, train_folds[i])\n",
    "    ytrain = myutils.distribute_data_by_index(Y_train, train_folds[i])\n",
    "    xtest = myutils.distribute_data_by_index(X_train, test_folds[i])\n",
    "    ytest = myutils.distribute_data_by_index(Y_train, test_folds[i])\n",
    "\n",
    "    # Compute prediction and convert\n",
    "    tree = MyDecisionTreeClassifier()\n",
    "    tree.fit(xtrain, ytrain, ['RHISPANIC', 'RRACE', 'TBIRTH_YEAR', 'INCOME', 'label'])\n",
    "    predicted_delay = tree.predict(xtest)\n",
    "    all_predicted_delay_tree += predicted_delay\n",
    "    all_actual_delay_tree += ytest\n",
    "# Calculate overall accuracy\n",
    "accuracy = myutils.calculate_accuracy(all_predicted_delay_tree, all_actual_delay_tree)\n",
    "error_rate = 1- accuracy\n",
    "\n",
    "print(\"Decision Tree: accuracy = \" + str(accuracy) + \", error rate = \" + str(error_rate))"
   ]
  },
  {
   "cell_type": "code",
   "execution_count": 19,
   "metadata": {},
   "outputs": [
    {
     "name": "stdout",
     "output_type": "stream",
     "text": [
      "===========================================\n",
      "Confusion Matrices\n",
      "===========================================\n",
      "Decision Tree (Stratified 10-Fold Cross Validation):\n",
      "==================  ==================  =============  =======  =================\n",
      "Delayed/canceled      Delayed/canceled    Not delayed    Total    Recognition (%)\n",
      "==================  ==================  =============  =======  =================\n",
      "Delayed/canceled                   157           1349     1506              10.42\n",
      "Not delayed                        179           2224     2403              92.55\n",
      "==================  ==================  =============  =======  =================\n"
     ]
    }
   ],
   "source": [
    "print('''===========================================\n",
    "Confusion Matrices\n",
    "===========================================\n",
    "Decision Tree (Stratified 10-Fold Cross Validation):''')\n",
    "\n",
    "ylabels = list(set(Y_train))\n",
    "matrix = myevaluation.confusion_matrix(all_actual_delay_tree, all_predicted_delay_tree, ylabels)\n",
    "header = myutils.format_confusion_matrix_into_table(matrix, [\"Delayed/canceled\", \"Not delayed\"], \"Delayed/canceled\")\n",
    "\n",
    "print(tabulate(matrix, headers=header, tablefmt=\"rst\", numalign=\"right\"))"
   ]
  },
  {
   "cell_type": "markdown",
   "metadata": {},
   "source": [
    "The decision tree, as you can see, did not have very good performance. It was out performed slightly by the zero R and Naive Bayes classifiers in terms of accuracy only had the benefit of better delayed/canceled recognition. The best accuracy results were found using hispanic, race, birth year, and income. Adding gender and education decreased accuracy and increased delayed/canceled recognition. With the current structure it has almost identical performance to the Naive Bayes classifier, if slightly less good. In accuracy it still outperformed the random classifier, though did worse in delayed/canceled recognition."
   ]
  },
  {
   "cell_type": "markdown",
   "metadata": {},
   "source": [
    "### Random Forest \n",
    "With the forest classifier we had to use a different method of evaluation due to the randomness that it featured. To do this we followed the random forest procedure described in class (located at https://github.com/GonzagaCPSC322/U7-Ensemble-Learning/blob/master/A%20Ensemble%20Learning.ipynb). We computed a stratified k fold cross validation with k=3. Then we selected one of the folds as our validation set, and the rest as our training set. We trained the forest over the training set, then tested it against the validation set. This was done 5 times to attempt to minimize the effects of randomness in evaluating the classifier. We then computed the overall accuracy and confusion matrixes, and continued as normal in our evaluation. Additionally, we varied the values of N, M, and F to see if they had an effect on accuracy"
   ]
  },
  {
   "cell_type": "code",
   "execution_count": 20,
   "metadata": {},
   "outputs": [
    {
     "name": "stdout",
     "output_type": "stream",
     "text": [
      "===========================================\n",
      "Predictive Accuracy\n",
      "===========================================\n",
      "Individual Tree Accuracy:\n",
      "Tree attributes: ['a1'], validation accuracy: 0.6302521008403361\n",
      "Tree attributes: ['a1'], validation accuracy: 0.6252699784017278\n",
      "Tree attributes: ['a3'], validation accuracy: 0.6237006237006237\n",
      "Tree attributes: ['a3'], validation accuracy: 0.6216216216216216\n",
      "Tree attributes: ['a2'], validation accuracy: 0.6203605514316013\n",
      "Tree attributes: ['a3'], validation accuracy: 0.6363636363636364\n",
      "Tree attributes: ['a1'], validation accuracy: 0.6346555323590815\n",
      "Tree attributes: ['a3'], validation accuracy: 0.6334340382678751\n",
      "Tree attributes: ['a4'], validation accuracy: 0.6253838280450358\n",
      "Tree attributes: ['a0'], validation accuracy: 0.6247422680412371\n",
      "Tree attributes: ['a3'], validation accuracy: 0.6294363256784968\n",
      "Tree attributes: ['a1'], validation accuracy: 0.6229508196721312\n",
      "Tree attributes: ['a1'], validation accuracy: 0.6209081309398099\n",
      "Tree attributes: ['a5'], validation accuracy: 0.6190975865687304\n",
      "Tree attributes: ['a1'], validation accuracy: 0.6157068062827226\n",
      "Tree attributes: ['a4'], validation accuracy: 0.6390041493775933\n",
      "Tree attributes: ['a2'], validation accuracy: 0.6264308012486993\n",
      "Tree attributes: ['a1'], validation accuracy: 0.6226012793176973\n",
      "Tree attributes: ['a4'], validation accuracy: 0.6217345872518286\n",
      "Tree attributes: ['a3'], validation accuracy: 0.6166134185303515\n",
      "Tree attributes: ['a4'], validation accuracy: 0.6388888888888888\n",
      "Tree attributes: ['a0'], validation accuracy: 0.6385669125395153\n",
      "Tree attributes: ['a2'], validation accuracy: 0.6193001060445387\n",
      "Tree attributes: ['a3'], validation accuracy: 0.6105820105820106\n",
      "Tree attributes: ['a0'], validation accuracy: 0.6096537250786989\n",
      "===========================================\n",
      "Predictive Accuracy\n",
      "===========================================\n",
      "Stratified 3-Fold Cross Validation\n",
      "Forest: accuracy = 0.614735226400614, error rate = 0.38526477359938605\n",
      "Confusion Matrices:\n",
      "==================  ==================  =============  =======  =================\n",
      "Delayed/canceled      Delayed/canceled    Not delayed    Total    Recognition (%)\n",
      "==================  ==================  =============  =======  =================\n",
      "Delayed/canceled                   157           1349     1506              10.42\n",
      "Not delayed                        179           2224     2403              92.55\n",
      "==================  ==================  =============  =======  =================\n"
     ]
    }
   ],
   "source": [
    "N = 10\n",
    "M = 5\n",
    "F = 1\n",
    "\n",
    "print('''===========================================\n",
    "Predictive Accuracy\n",
    "===========================================''')\n",
    "print(\"Individual Tree Accuracy:\")\n",
    "all_predicted_forest = []\n",
    "all_actual_forest = []\n",
    "# Run tests of each parameter 5 times\n",
    "for i in range(5):\n",
    "    forest = MyRandomForestClassifier(N, F, M)\n",
    "    accuracy, predicted, actual = forest.test_tree_stratified_kfold(X_train, Y_train)\n",
    "    all_predicted_forest += predicted\n",
    "    all_actual_forest += actual\n",
    "    \n",
    "    # Print off each trees individual validation acccuracy\n",
    "    for tree in forest.chosen_trees:\n",
    "        print(\"Tree attributes: \" + str(tree['attributes']) + \", validation accuracy: \" + str(tree['accuracy']))\n",
    "    \n",
    "accuracy = myutils.calculate_accuracy(all_predicted_forest, all_actual_forest)\n",
    "error_rate = 1- accuracy\n",
    "print('''===========================================\n",
    "Predictive Accuracy\n",
    "===========================================\n",
    "Stratified 3-Fold Cross Validation''')\n",
    "print(\"Forest: accuracy = \" + str(accuracy) + \", error rate = \" + str(error_rate))\n",
    "print('''Confusion Matrices:''')\n",
    "\n",
    "ylabels = list(set(Y_train))\n",
    "matrix = myevaluation.confusion_matrix(all_actual_delay_tree, all_predicted_delay_tree, ylabels)\n",
    "header = myutils.format_confusion_matrix_into_table(matrix, [\"Delayed/canceled\", \"Not delayed\"], \"Delayed/canceled\")\n",
    "\n",
    "print(tabulate(matrix, headers=header, tablefmt=\"rst\", numalign=\"right\"))"
   ]
  },
  {
   "cell_type": "code",
   "execution_count": 21,
   "metadata": {},
   "outputs": [
    {
     "name": "stdout",
     "output_type": "stream",
     "text": [
      "===========================================\n",
      "Predictive Accuracy\n",
      "===========================================\n",
      "Individual Tree Accuracy:\n",
      "Tree attributes: ['a0', 'a2', 'a1', 'a4'], validation accuracy: 0.6314168377823408\n",
      "Tree attributes: ['a1', 'a4', 'a0', 'a5'], validation accuracy: 0.6303664921465969\n",
      "Tree attributes: ['a4', 'a3', 'a2', 'a1'], validation accuracy: 0.6236673773987207\n",
      "Tree attributes: ['a2', 'a3', 'a4', 'a5'], validation accuracy: 0.6132368148914168\n",
      "Tree attributes: ['a4', 'a3', 'a1', 'a2'], validation accuracy: 0.6069958847736625\n",
      "Tree attributes: ['a3', 'a5', 'a1', 'a2'], validation accuracy: 0.629746835443038\n",
      "Tree attributes: ['a0', 'a4', 'a2', 'a3'], validation accuracy: 0.621822033898305\n",
      "Tree attributes: ['a5', 'a2', 'a3', 'a0'], validation accuracy: 0.6212590299277606\n",
      "Tree attributes: ['a4', 'a5', 'a3', 'a0'], validation accuracy: 0.6197916666666666\n",
      "Tree attributes: ['a2', 'a5', 'a3', 'a0'], validation accuracy: 0.6171792152704135\n",
      "Tree attributes: ['a5', 'a0', 'a3', 'a2'], validation accuracy: 0.6296296296296297\n",
      "Tree attributes: ['a5', 'a0', 'a4', 'a1'], validation accuracy: 0.6203605514316013\n",
      "Tree attributes: ['a0', 'a3', 'a2', 'a1'], validation accuracy: 0.6178010471204188\n",
      "Tree attributes: ['a0', 'a1', 'a3', 'a2'], validation accuracy: 0.6079059829059829\n",
      "Tree attributes: ['a4', 'a0', 'a2', 'a1'], validation accuracy: 0.5936170212765958\n",
      "Tree attributes: ['a5', 'a1', 'a2', 'a3'], validation accuracy: 0.6158798283261803\n",
      "Tree attributes: ['a1', 'a3', 'a2', 'a4'], validation accuracy: 0.6134453781512605\n",
      "Tree attributes: ['a1', 'a0', 'a3', 'a2'], validation accuracy: 0.6045548654244306\n",
      "Tree attributes: ['a5', 'a0', 'a1', 'a2'], validation accuracy: 0.6021164021164022\n",
      "Tree attributes: ['a1', 'a0', 'a2', 'a3'], validation accuracy: 0.6020833333333333\n",
      "Tree attributes: ['a3', 'a2', 'a1', 'a0'], validation accuracy: 0.6179295624332978\n",
      "Tree attributes: ['a3', 'a1', 'a4', 'a5'], validation accuracy: 0.6129032258064516\n",
      "Tree attributes: ['a5', 'a3', 'a0', 'a4'], validation accuracy: 0.6090621707060063\n",
      "Tree attributes: ['a2', 'a3', 'a4', 'a5'], validation accuracy: 0.6084762865792129\n",
      "Tree attributes: ['a3', 'a4', 'a1', 'a2'], validation accuracy: 0.6077630234933605\n",
      "===========================================\n",
      "Predictive Accuracy\n",
      "===========================================\n",
      "Stratified 3-Fold Cross Validation\n",
      "Forest: accuracy = 0.6115118956254797, error rate = 0.3884881043745203\n",
      "Confusion Matrices:\n",
      "==================  ==================  =============  =======  =================\n",
      "Delayed/canceled      Delayed/canceled    Not delayed    Total    Recognition (%)\n",
      "==================  ==================  =============  =======  =================\n",
      "Delayed/canceled                   157           1349     1506              10.42\n",
      "Not delayed                        179           2224     2403              92.55\n",
      "==================  ==================  =============  =======  =================\n"
     ]
    }
   ],
   "source": [
    "N = 10\n",
    "M = 5\n",
    "F = 4\n",
    "\n",
    "print('''===========================================\n",
    "Predictive Accuracy\n",
    "===========================================''')\n",
    "print(\"Individual Tree Accuracy:\")\n",
    "all_predicted_forest = []\n",
    "all_actual_forest = []\n",
    "# Run tests of each parameter 5 times\n",
    "for i in range(5):\n",
    "    forest = MyRandomForestClassifier(N, F, M)\n",
    "    accuracy, predicted, actual = forest.test_tree_stratified_kfold(X_train, Y_train)\n",
    "    all_predicted_forest += predicted\n",
    "    all_actual_forest += actual\n",
    "    \n",
    "    # Print off each trees individual validation acccuracy\n",
    "    for tree in forest.chosen_trees:\n",
    "        print(\"Tree attributes: \" + str(tree['attributes']) + \", validation accuracy: \" + str(tree['accuracy']))\n",
    "    \n",
    "accuracy = myutils.calculate_accuracy(all_predicted_forest, all_actual_forest)\n",
    "error_rate = 1- accuracy\n",
    "print('''===========================================\n",
    "Predictive Accuracy\n",
    "===========================================\n",
    "Stratified 3-Fold Cross Validation''')\n",
    "print(\"Forest: accuracy = \" + str(accuracy) + \", error rate = \" + str(error_rate))\n",
    "print('''Confusion Matrices:''')\n",
    "\n",
    "ylabels = list(set(Y_train))\n",
    "matrix = myevaluation.confusion_matrix(all_actual_delay_tree, all_predicted_delay_tree, ylabels)\n",
    "header = myutils.format_confusion_matrix_into_table(matrix, [\"Delayed/canceled\", \"Not delayed\"], \"Delayed/canceled\")\n",
    "\n",
    "print(tabulate(matrix, headers=header, tablefmt=\"rst\", numalign=\"right\"))"
   ]
  },
  {
   "cell_type": "markdown",
   "metadata": {},
   "source": [
    "Increasing F seems to have only decreased the accuracy of the classifier."
   ]
  },
  {
   "cell_type": "code",
   "execution_count": 22,
   "metadata": {},
   "outputs": [
    {
     "name": "stdout",
     "output_type": "stream",
     "text": [
      "===========================================\n",
      "Predictive Accuracy\n",
      "===========================================\n",
      "Individual Tree Accuracy:\n",
      "Tree attributes: ['a0', 'a1'], validation accuracy: 0.6343519494204426\n",
      "Tree attributes: ['a4', 'a2'], validation accuracy: 0.6296296296296297\n",
      "Tree attributes: ['a4', 'a1'], validation accuracy: 0.6275720164609053\n",
      "Tree attributes: ['a0', 'a1'], validation accuracy: 0.6251287332646756\n",
      "Tree attributes: ['a0', 'a4'], validation accuracy: 0.6239406779661016\n",
      "Tree attributes: ['a0', 'a3'], validation accuracy: 0.6206896551724138\n",
      "Tree attributes: ['a0', 'a5'], validation accuracy: 0.619914346895075\n",
      "Tree attributes: ['a3', 'a0'], validation accuracy: 0.6198179979777553\n",
      "Tree attributes: ['a0', 'a1'], validation accuracy: 0.6197033898305084\n",
      "Tree attributes: ['a3', 'a4'], validation accuracy: 0.6157894736842106\n",
      "Tree attributes: ['a4', 'a3'], validation accuracy: 0.6371134020618556\n",
      "Tree attributes: ['a1', 'a3'], validation accuracy: 0.6284501061571125\n",
      "Tree attributes: ['a0', 'a1'], validation accuracy: 0.6261306532663317\n",
      "Tree attributes: ['a0', 'a3'], validation accuracy: 0.6229166666666667\n",
      "Tree attributes: ['a4', 'a5'], validation accuracy: 0.6175580221997982\n",
      "Tree attributes: ['a2', 'a1'], validation accuracy: 0.6296680497925311\n",
      "Tree attributes: ['a0', 'a5'], validation accuracy: 0.6272824919441461\n",
      "Tree attributes: ['a3', 'a2'], validation accuracy: 0.6257668711656442\n",
      "Tree attributes: ['a3', 'a1'], validation accuracy: 0.6251319957761352\n",
      "Tree attributes: ['a5', 'a0'], validation accuracy: 0.6186813186813187\n",
      "Tree attributes: ['a3', 'a5'], validation accuracy: 0.6372141372141372\n",
      "Tree attributes: ['a2', 'a3'], validation accuracy: 0.6336842105263157\n",
      "Tree attributes: ['a4', 'a5'], validation accuracy: 0.6282998944033791\n",
      "Tree attributes: ['a4', 'a0'], validation accuracy: 0.6229508196721312\n",
      "Tree attributes: ['a4', 'a1'], validation accuracy: 0.6211180124223602\n",
      "===========================================\n",
      "Predictive Accuracy\n",
      "===========================================\n",
      "Stratified 3-Fold Cross Validation\n",
      "Forest: accuracy = 0.614735226400614, error rate = 0.38526477359938605\n",
      "Confusion Matrices:\n",
      "==================  ==================  =============  =======  =================\n",
      "Delayed/canceled      Delayed/canceled    Not delayed    Total    Recognition (%)\n",
      "==================  ==================  =============  =======  =================\n",
      "Delayed/canceled                   157           1349     1506              10.42\n",
      "Not delayed                        179           2224     2403              92.55\n",
      "==================  ==================  =============  =======  =================\n"
     ]
    }
   ],
   "source": [
    "N = 20\n",
    "M = 5\n",
    "F = 2\n",
    "\n",
    "print('''===========================================\n",
    "Predictive Accuracy\n",
    "===========================================''')\n",
    "print(\"Individual Tree Accuracy:\")\n",
    "all_predicted_forest = []\n",
    "all_actual_forest = []\n",
    "# Run tests of each parameter 5 times\n",
    "for i in range(5):\n",
    "    forest = MyRandomForestClassifier(N, F, M)\n",
    "    accuracy, predicted, actual = forest.test_tree_stratified_kfold(X_train, Y_train)\n",
    "    all_predicted_forest += predicted\n",
    "    all_actual_forest += actual\n",
    "    \n",
    "    # Print off each trees individual validation acccuracy\n",
    "    for tree in forest.chosen_trees:\n",
    "        print(\"Tree attributes: \" + str(tree['attributes']) + \", validation accuracy: \" + str(tree['accuracy']))\n",
    "    \n",
    "accuracy = myutils.calculate_accuracy(all_predicted_forest, all_actual_forest)\n",
    "error_rate = 1- accuracy\n",
    "print('''===========================================\n",
    "Predictive Accuracy\n",
    "===========================================\n",
    "Stratified 3-Fold Cross Validation''')\n",
    "print(\"Forest: accuracy = \" + str(accuracy) + \", error rate = \" + str(error_rate))\n",
    "print('''Confusion Matrices:''')\n",
    "\n",
    "ylabels = list(set(Y_train))\n",
    "matrix = myevaluation.confusion_matrix(all_actual_delay_tree, all_predicted_delay_tree, ylabels)\n",
    "header = myutils.format_confusion_matrix_into_table(matrix, [\"Delayed/canceled\", \"Not delayed\"], \"Delayed/canceled\")\n",
    "\n",
    "print(tabulate(matrix, headers=header, tablefmt=\"rst\", numalign=\"right\"))"
   ]
  },
  {
   "cell_type": "markdown",
   "metadata": {},
   "source": [
    "Increasing M seems to have marginally increased the accuracy, but not significantly"
   ]
  },
  {
   "cell_type": "code",
   "execution_count": 23,
   "metadata": {},
   "outputs": [
    {
     "name": "stdout",
     "output_type": "stream",
     "text": [
      "===========================================\n",
      "Predictive Accuracy\n",
      "===========================================\n",
      "Individual Tree Accuracy:\n",
      "Tree attributes: ['a5'], validation accuracy: 0.6371134020618556\n",
      "Tree attributes: ['a4'], validation accuracy: 0.6357142857142857\n",
      "Tree attributes: ['a1'], validation accuracy: 0.6399155227032735\n",
      "Tree attributes: ['a4'], validation accuracy: 0.6375404530744336\n",
      "Tree attributes: ['a5'], validation accuracy: 0.6374745417515275\n",
      "Tree attributes: ['a4'], validation accuracy: 0.6352201257861635\n",
      "Tree attributes: ['a0'], validation accuracy: 0.6299045599151644\n",
      "Tree attributes: ['a3'], validation accuracy: 0.6265822784810127\n",
      "Tree attributes: ['a3'], validation accuracy: 0.6265690376569037\n",
      "Tree attributes: ['a5'], validation accuracy: 0.6239406779661016\n",
      "===========================================\n",
      "Predictive Accuracy\n",
      "===========================================\n",
      "Stratified 3-Fold Cross Validation\n",
      "Forest: accuracy = 0.614735226400614, error rate = 0.38526477359938605\n",
      "Confusion Matrices:\n",
      "==================  ==================  =============  =======  =================\n",
      "Delayed/canceled      Delayed/canceled    Not delayed    Total    Recognition (%)\n",
      "==================  ==================  =============  =======  =================\n",
      "Delayed/canceled                   157           1349     1506              10.42\n",
      "Not delayed                        179           2224     2403              92.55\n",
      "==================  ==================  =============  =======  =================\n"
     ]
    }
   ],
   "source": [
    "N = 20\n",
    "M = 2\n",
    "F = 1\n",
    "\n",
    "print('''===========================================\n",
    "Predictive Accuracy\n",
    "===========================================''')\n",
    "print(\"Individual Tree Accuracy:\")\n",
    "all_predicted_forest = []\n",
    "all_actual_forest = []\n",
    "# Run tests of each parameter 5 times\n",
    "for i in range(5):\n",
    "    forest = MyRandomForestClassifier(N, F, M)\n",
    "    accuracy, predicted, actual = forest.test_tree_stratified_kfold(X_train, Y_train)\n",
    "    all_predicted_forest += predicted\n",
    "    all_actual_forest += actual\n",
    "    \n",
    "    # Print off each trees individual validation acccuracy\n",
    "    for tree in forest.chosen_trees:\n",
    "        print(\"Tree attributes: \" + str(tree['attributes']) + \", validation accuracy: \" + str(tree['accuracy']))\n",
    "    \n",
    "accuracy = myutils.calculate_accuracy(all_predicted_forest, all_actual_forest)\n",
    "error_rate = 1- accuracy\n",
    "print('''===========================================\n",
    "Predictive Accuracy\n",
    "===========================================\n",
    "Stratified 3-Fold Cross Validation''')\n",
    "print(\"Forest: accuracy = \" + str(accuracy) + \", error rate = \" + str(error_rate))\n",
    "print('''Confusion Matrices:''')\n",
    "\n",
    "ylabels = list(set(Y_train))\n",
    "matrix = myevaluation.confusion_matrix(all_actual_delay_tree, all_predicted_delay_tree, ylabels)\n",
    "header = myutils.format_confusion_matrix_into_table(matrix, [\"Delayed/canceled\", \"Not delayed\"], \"Delayed/canceled\")\n",
    "\n",
    "print(tabulate(matrix, headers=header, tablefmt=\"rst\", numalign=\"right\"))"
   ]
  },
  {
   "cell_type": "markdown",
   "metadata": {},
   "source": [
    "Decreasing the M value also did not noticeably modify the results.\n",
    "\n",
    "As such the best combination seems to have F=1, with M and N not having as much of an effect."
   ]
  },
  {
   "cell_type": "markdown",
   "metadata": {},
   "source": [
    "## Results\n",
    "The forest classifier accuracy outperformed all the other classifiers. In terms of accuracy it beat Naive Bayes, Decision Tree, and Random classifiers. It was on par with the zero R classifier, but had a better Delayed/canceled recognition rate. It didn't have as good a delayed/canceled recognition rate as random did, but it was significantly more accurate, making it still the better choice. As such it was the best. \n",
    "\n",
    "That said it was not a particularly good classifier. It only managed to be on par with the zero R classifier in terms of accuracy, and only counted as a better algorithm because its delayed/canceled recognition rate was superior to zero R's. More work would be required for it to be utilized in an important role."
   ]
  },
  {
   "cell_type": "markdown",
   "metadata": {},
   "source": [
    "### Heroku\n",
    "Here we will store the last tree we made with one of the better results.\n",
    "\n",
    "To test, type in the following url (TODO change to heroku): http://127.0.0.1:5000/predict?birth_year=1993&gender=2&hispanic=1&race=3&income=4&education=7  \n",
    "You can then modify the values and see what it predicts. Reference the introduction section where all of these are explained to determine what numbers you should place. Invalid numbers will not be accepted."
   ]
  },
  {
   "cell_type": "code",
   "execution_count": 24,
   "metadata": {},
   "outputs": [
    {
     "name": "stdout",
     "output_type": "stream",
     "text": [
      "[[['Attribute', 'a3', ['Value', 5, ['Leaf', 2, 460, 2606]], ['Value', 3, ['Leaf', 2, 604, 2606]], ['Value', 1, ['Leaf', 2, 78, 2606]], ['Value', 4, ['Leaf', 2, 536, 2606]], ['Value', 2, ['Leaf', 2, 355, 2606]], ['Value', 7, ['Leaf', 2, 151, 2606]], ['Value', 6, ['Leaf', 2, 422, 2606]]], ['a3', 'label']], [['Attribute', 'a5', ['Value', 5, ['Leaf', 2, 493, 2606]], ['Value', 3, ['Leaf', 2, 621, 2606]], ['Value', 4, ['Leaf', 2, 481, 2606]], ['Value', 6, ['Leaf', 2, 419, 2606]], ['Value', 2, ['Leaf', 2, 366, 2606]], ['Value', 7, ['Leaf', 2, 154, 2606]], ['Value', 1, ['Leaf', 2, 72, 2606]]], ['a5', 'label']]]\n"
     ]
    }
   ],
   "source": [
    "import pickle\n",
    "trees = forest.chosen_trees\n",
    "package = []\n",
    "for tree in trees:\n",
    "    package.append([tree['tree'].tree, tree['tree'].header])\n",
    "print(package)\n",
    "pickle_path = \"forest_pickler.py\"\n",
    "outfile = open(pickle_path, \"wb\")\n",
    "pickle.dump(package, outfile)\n",
    "outfile.close()"
   ]
  },
  {
   "cell_type": "markdown",
   "metadata": {},
   "source": [
    "# Conclusion\n",
    "\n",
    "Overall the project was moderately successful. We started with a dataset with a number of demographic and socioeconomic attributes, and whether or not individuals suffered delayed or canceled care due to COVID-19. Ounce we found the correct dataset, we were able to relatively easily use part of that data for classification. We approached our classifiers by creating two baseline ones, then testing three others against those baselines to determine how effective they were. Our best classifier, the random forest, had comparable accuracy to the first baseline classifier with better recognition rates, and outperformed the second baseline classifier by a notable amount in accuracy. However, these results were not ideal, and future development would be needed before the classifier could be useful. \n",
    "\n",
    "Future work might try predicting based on other attributes that were included in the general dataset. Employment status, other health related information, housing status, or any number of elements may have a stronger correlation. Atlernatively, the correlations of some attributes may be greater in certain areas, such as race mattering in some states more than others. Finally, it should be noted that the current classifier utilized only about 3000 of the ~70,000 data points available in one week of a study that has been going along for at least 27 weeks due to runtime issues. Utilizing more computer power and optimized algorithms to process all of the data might reveal that the current snapshot was not representative of the whole, and should definitely be investigated."
   ]
  }
 ],
 "metadata": {
  "kernelspec": {
   "display_name": "Python 3",
   "language": "python",
   "name": "python3"
  },
  "language_info": {
   "codemirror_mode": {
    "name": "ipython",
    "version": 3
   },
   "file_extension": ".py",
   "mimetype": "text/x-python",
   "name": "python",
   "nbconvert_exporter": "python",
   "pygments_lexer": "ipython3",
   "version": "3.8.5"
  }
 },
 "nbformat": 4,
 "nbformat_minor": 4
}
